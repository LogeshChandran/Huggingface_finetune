{
  "cells": [
    {
      "cell_type": "markdown",
      "metadata": {
        "id": "view-in-github",
        "colab_type": "text"
      },
      "source": [
        "<a href=\"https://colab.research.google.com/github/LogeshChandran/Huggingface_finetune/blob/main/testing.ipynb\" target=\"_parent\"><img src=\"https://colab.research.google.com/assets/colab-badge.svg\" alt=\"Open In Colab\"/></a>"
      ]
    },
    {
      "cell_type": "markdown",
      "source": [
        "### Testing"
      ],
      "metadata": {
        "id": "TAX9rbxRhpnE"
      }
    },
    {
      "cell_type": "code",
      "source": [
        "!pip install datasets"
      ],
      "metadata": {
        "collapsed": true,
        "colab": {
          "base_uri": "https://localhost:8080/"
        },
        "id": "vw5E5jhviJze",
        "outputId": "ae1f766f-f14d-4366-b0b7-e38fa7d82f03"
      },
      "execution_count": null,
      "outputs": [
        {
          "output_type": "stream",
          "name": "stdout",
          "text": [
            "Collecting datasets\n",
            "  Downloading datasets-3.0.0-py3-none-any.whl.metadata (19 kB)\n",
            "Requirement already satisfied: filelock in /usr/local/lib/python3.10/dist-packages (from datasets) (3.16.0)\n",
            "Requirement already satisfied: numpy>=1.17 in /usr/local/lib/python3.10/dist-packages (from datasets) (1.26.4)\n",
            "Collecting pyarrow>=15.0.0 (from datasets)\n",
            "  Downloading pyarrow-17.0.0-cp310-cp310-manylinux_2_28_x86_64.whl.metadata (3.3 kB)\n",
            "Collecting dill<0.3.9,>=0.3.0 (from datasets)\n",
            "  Downloading dill-0.3.8-py3-none-any.whl.metadata (10 kB)\n",
            "Requirement already satisfied: pandas in /usr/local/lib/python3.10/dist-packages (from datasets) (2.1.4)\n",
            "Requirement already satisfied: requests>=2.32.2 in /usr/local/lib/python3.10/dist-packages (from datasets) (2.32.3)\n",
            "Requirement already satisfied: tqdm>=4.66.3 in /usr/local/lib/python3.10/dist-packages (from datasets) (4.66.5)\n",
            "Collecting xxhash (from datasets)\n",
            "  Downloading xxhash-3.5.0-cp310-cp310-manylinux_2_17_x86_64.manylinux2014_x86_64.whl.metadata (12 kB)\n",
            "Collecting multiprocess (from datasets)\n",
            "  Downloading multiprocess-0.70.16-py310-none-any.whl.metadata (7.2 kB)\n",
            "Requirement already satisfied: fsspec<=2024.6.1,>=2023.1.0 in /usr/local/lib/python3.10/dist-packages (from fsspec[http]<=2024.6.1,>=2023.1.0->datasets) (2024.6.1)\n",
            "Requirement already satisfied: aiohttp in /usr/local/lib/python3.10/dist-packages (from datasets) (3.10.5)\n",
            "Requirement already satisfied: huggingface-hub>=0.22.0 in /usr/local/lib/python3.10/dist-packages (from datasets) (0.24.6)\n",
            "Requirement already satisfied: packaging in /usr/local/lib/python3.10/dist-packages (from datasets) (24.1)\n",
            "Requirement already satisfied: pyyaml>=5.1 in /usr/local/lib/python3.10/dist-packages (from datasets) (6.0.2)\n",
            "Requirement already satisfied: aiohappyeyeballs>=2.3.0 in /usr/local/lib/python3.10/dist-packages (from aiohttp->datasets) (2.4.0)\n",
            "Requirement already satisfied: aiosignal>=1.1.2 in /usr/local/lib/python3.10/dist-packages (from aiohttp->datasets) (1.3.1)\n",
            "Requirement already satisfied: attrs>=17.3.0 in /usr/local/lib/python3.10/dist-packages (from aiohttp->datasets) (24.2.0)\n",
            "Requirement already satisfied: frozenlist>=1.1.1 in /usr/local/lib/python3.10/dist-packages (from aiohttp->datasets) (1.4.1)\n",
            "Requirement already satisfied: multidict<7.0,>=4.5 in /usr/local/lib/python3.10/dist-packages (from aiohttp->datasets) (6.1.0)\n",
            "Requirement already satisfied: yarl<2.0,>=1.0 in /usr/local/lib/python3.10/dist-packages (from aiohttp->datasets) (1.11.1)\n",
            "Requirement already satisfied: async-timeout<5.0,>=4.0 in /usr/local/lib/python3.10/dist-packages (from aiohttp->datasets) (4.0.3)\n",
            "Requirement already satisfied: typing-extensions>=3.7.4.3 in /usr/local/lib/python3.10/dist-packages (from huggingface-hub>=0.22.0->datasets) (4.12.2)\n",
            "Requirement already satisfied: charset-normalizer<4,>=2 in /usr/local/lib/python3.10/dist-packages (from requests>=2.32.2->datasets) (3.3.2)\n",
            "Requirement already satisfied: idna<4,>=2.5 in /usr/local/lib/python3.10/dist-packages (from requests>=2.32.2->datasets) (3.8)\n",
            "Requirement already satisfied: urllib3<3,>=1.21.1 in /usr/local/lib/python3.10/dist-packages (from requests>=2.32.2->datasets) (2.0.7)\n",
            "Requirement already satisfied: certifi>=2017.4.17 in /usr/local/lib/python3.10/dist-packages (from requests>=2.32.2->datasets) (2024.8.30)\n",
            "Requirement already satisfied: python-dateutil>=2.8.2 in /usr/local/lib/python3.10/dist-packages (from pandas->datasets) (2.8.2)\n",
            "Requirement already satisfied: pytz>=2020.1 in /usr/local/lib/python3.10/dist-packages (from pandas->datasets) (2024.2)\n",
            "Requirement already satisfied: tzdata>=2022.1 in /usr/local/lib/python3.10/dist-packages (from pandas->datasets) (2024.1)\n",
            "Requirement already satisfied: six>=1.5 in /usr/local/lib/python3.10/dist-packages (from python-dateutil>=2.8.2->pandas->datasets) (1.16.0)\n",
            "Downloading datasets-3.0.0-py3-none-any.whl (474 kB)\n",
            "\u001b[2K   \u001b[90m━━━━━━━━━━━━━━━━━━━━━━━━━━━━━━━━━━━━━━━━\u001b[0m \u001b[32m474.3/474.3 kB\u001b[0m \u001b[31m4.1 MB/s\u001b[0m eta \u001b[36m0:00:00\u001b[0m\n",
            "\u001b[?25hDownloading dill-0.3.8-py3-none-any.whl (116 kB)\n",
            "\u001b[2K   \u001b[90m━━━━━━━━━━━━━━━━━━━━━━━━━━━━━━━━━━━━━━━━\u001b[0m \u001b[32m116.3/116.3 kB\u001b[0m \u001b[31m6.9 MB/s\u001b[0m eta \u001b[36m0:00:00\u001b[0m\n",
            "\u001b[?25hDownloading pyarrow-17.0.0-cp310-cp310-manylinux_2_28_x86_64.whl (39.9 MB)\n",
            "\u001b[2K   \u001b[90m━━━━━━━━━━━━━━━━━━━━━━━━━━━━━━━━━━━━━━━━\u001b[0m \u001b[32m39.9/39.9 MB\u001b[0m \u001b[31m17.5 MB/s\u001b[0m eta \u001b[36m0:00:00\u001b[0m\n",
            "\u001b[?25hDownloading multiprocess-0.70.16-py310-none-any.whl (134 kB)\n",
            "\u001b[2K   \u001b[90m━━━━━━━━━━━━━━━━━━━━━━━━━━━━━━━━━━━━━━━━\u001b[0m \u001b[32m134.8/134.8 kB\u001b[0m \u001b[31m6.8 MB/s\u001b[0m eta \u001b[36m0:00:00\u001b[0m\n",
            "\u001b[?25hDownloading xxhash-3.5.0-cp310-cp310-manylinux_2_17_x86_64.manylinux2014_x86_64.whl (194 kB)\n",
            "\u001b[2K   \u001b[90m━━━━━━━━━━━━━━━━━━━━━━━━━━━━━━━━━━━━━━━━\u001b[0m \u001b[32m194.1/194.1 kB\u001b[0m \u001b[31m12.6 MB/s\u001b[0m eta \u001b[36m0:00:00\u001b[0m\n",
            "\u001b[?25hInstalling collected packages: xxhash, pyarrow, dill, multiprocess, datasets\n",
            "  Attempting uninstall: pyarrow\n",
            "    Found existing installation: pyarrow 14.0.2\n",
            "    Uninstalling pyarrow-14.0.2:\n",
            "      Successfully uninstalled pyarrow-14.0.2\n",
            "\u001b[31mERROR: pip's dependency resolver does not currently take into account all the packages that are installed. This behaviour is the source of the following dependency conflicts.\n",
            "cudf-cu12 24.4.1 requires pyarrow<15.0.0a0,>=14.0.1, but you have pyarrow 17.0.0 which is incompatible.\n",
            "ibis-framework 8.0.0 requires pyarrow<16,>=2, but you have pyarrow 17.0.0 which is incompatible.\u001b[0m\u001b[31m\n",
            "\u001b[0mSuccessfully installed datasets-3.0.0 dill-0.3.8 multiprocess-0.70.16 pyarrow-17.0.0 xxhash-3.5.0\n"
          ]
        }
      ]
    },
    {
      "cell_type": "code",
      "source": [
        "from datasets import load_dataset\n",
        "\n",
        "# ds = load_dataset(\"Logeshkc/newsroom\")"
      ],
      "metadata": {
        "id": "GPnaW3LFhvGv"
      },
      "execution_count": null,
      "outputs": []
    },
    {
      "cell_type": "code",
      "source": [
        "\n",
        "print(first_1000_dataset)\n"
      ],
      "metadata": {
        "colab": {
          "base_uri": "https://localhost:8080/"
        },
        "id": "ru-T2cKviqCt",
        "outputId": "c149c9f7-a042-4878-d503-df8170c78f2f"
      },
      "execution_count": null,
      "outputs": [
        {
          "output_type": "stream",
          "name": "stdout",
          "text": [
            "Dataset({\n",
            "    features: ['url', 'archive', 'title', 'date', 'text', 'summary', 'compression', 'coverage', 'density', 'compression_bin', 'coverage_bin', 'density_bin', '__index_level_0__'],\n",
            "    num_rows: 1000\n",
            "})\n"
          ]
        }
      ]
    },
    {
      "cell_type": "code",
      "source": [
        "! pip install transformers\n",
        "! pip install datasets\n",
        "! pip install sentencepiece\n",
        "! pip install rouge_score\n",
        "! pip install wandb\n",
        "! pip install evaluate\n",
        "! pip install torch"
      ],
      "metadata": {
        "colab": {
          "base_uri": "https://localhost:8080/"
        },
        "id": "aFZPbJxyllu_",
        "outputId": "e578a83e-5274-49a3-c711-7f0d73181007",
        "collapsed": true
      },
      "execution_count": 1,
      "outputs": [
        {
          "output_type": "stream",
          "name": "stdout",
          "text": [
            "Requirement already satisfied: transformers in /usr/local/lib/python3.10/dist-packages (4.44.2)\n",
            "Requirement already satisfied: filelock in /usr/local/lib/python3.10/dist-packages (from transformers) (3.16.0)\n",
            "Requirement already satisfied: huggingface-hub<1.0,>=0.23.2 in /usr/local/lib/python3.10/dist-packages (from transformers) (0.24.7)\n",
            "Requirement already satisfied: numpy>=1.17 in /usr/local/lib/python3.10/dist-packages (from transformers) (1.26.4)\n",
            "Requirement already satisfied: packaging>=20.0 in /usr/local/lib/python3.10/dist-packages (from transformers) (24.1)\n",
            "Requirement already satisfied: pyyaml>=5.1 in /usr/local/lib/python3.10/dist-packages (from transformers) (6.0.2)\n",
            "Requirement already satisfied: regex!=2019.12.17 in /usr/local/lib/python3.10/dist-packages (from transformers) (2024.9.11)\n",
            "Requirement already satisfied: requests in /usr/local/lib/python3.10/dist-packages (from transformers) (2.32.3)\n",
            "Requirement already satisfied: safetensors>=0.4.1 in /usr/local/lib/python3.10/dist-packages (from transformers) (0.4.5)\n",
            "Requirement already satisfied: tokenizers<0.20,>=0.19 in /usr/local/lib/python3.10/dist-packages (from transformers) (0.19.1)\n",
            "Requirement already satisfied: tqdm>=4.27 in /usr/local/lib/python3.10/dist-packages (from transformers) (4.66.5)\n",
            "Requirement already satisfied: fsspec>=2023.5.0 in /usr/local/lib/python3.10/dist-packages (from huggingface-hub<1.0,>=0.23.2->transformers) (2024.9.0)\n",
            "Requirement already satisfied: typing-extensions>=3.7.4.3 in /usr/local/lib/python3.10/dist-packages (from huggingface-hub<1.0,>=0.23.2->transformers) (4.12.2)\n",
            "Requirement already satisfied: charset-normalizer<4,>=2 in /usr/local/lib/python3.10/dist-packages (from requests->transformers) (3.3.2)\n",
            "Requirement already satisfied: idna<4,>=2.5 in /usr/local/lib/python3.10/dist-packages (from requests->transformers) (3.8)\n",
            "Requirement already satisfied: urllib3<3,>=1.21.1 in /usr/local/lib/python3.10/dist-packages (from requests->transformers) (2.0.7)\n",
            "Requirement already satisfied: certifi>=2017.4.17 in /usr/local/lib/python3.10/dist-packages (from requests->transformers) (2024.8.30)\n",
            "Collecting datasets\n",
            "  Downloading datasets-3.0.0-py3-none-any.whl.metadata (19 kB)\n",
            "Requirement already satisfied: filelock in /usr/local/lib/python3.10/dist-packages (from datasets) (3.16.0)\n",
            "Requirement already satisfied: numpy>=1.17 in /usr/local/lib/python3.10/dist-packages (from datasets) (1.26.4)\n",
            "Requirement already satisfied: pyarrow>=15.0.0 in /usr/local/lib/python3.10/dist-packages (from datasets) (17.0.0)\n",
            "Collecting dill<0.3.9,>=0.3.0 (from datasets)\n",
            "  Downloading dill-0.3.8-py3-none-any.whl.metadata (10 kB)\n",
            "Requirement already satisfied: pandas in /usr/local/lib/python3.10/dist-packages (from datasets) (2.1.4)\n",
            "Requirement already satisfied: requests>=2.32.2 in /usr/local/lib/python3.10/dist-packages (from datasets) (2.32.3)\n",
            "Requirement already satisfied: tqdm>=4.66.3 in /usr/local/lib/python3.10/dist-packages (from datasets) (4.66.5)\n",
            "Collecting xxhash (from datasets)\n",
            "  Downloading xxhash-3.5.0-cp310-cp310-manylinux_2_17_x86_64.manylinux2014_x86_64.whl.metadata (12 kB)\n",
            "Collecting multiprocess (from datasets)\n",
            "  Downloading multiprocess-0.70.16-py310-none-any.whl.metadata (7.2 kB)\n",
            "Collecting fsspec<=2024.6.1,>=2023.1.0 (from fsspec[http]<=2024.6.1,>=2023.1.0->datasets)\n",
            "  Downloading fsspec-2024.6.1-py3-none-any.whl.metadata (11 kB)\n",
            "Collecting aiohttp (from datasets)\n",
            "  Downloading aiohttp-3.10.5-cp310-cp310-manylinux_2_17_x86_64.manylinux2014_x86_64.whl.metadata (7.5 kB)\n",
            "Requirement already satisfied: huggingface-hub>=0.22.0 in /usr/local/lib/python3.10/dist-packages (from datasets) (0.24.7)\n",
            "Requirement already satisfied: packaging in /usr/local/lib/python3.10/dist-packages (from datasets) (24.1)\n",
            "Requirement already satisfied: pyyaml>=5.1 in /usr/local/lib/python3.10/dist-packages (from datasets) (6.0.2)\n",
            "Collecting aiohappyeyeballs>=2.3.0 (from aiohttp->datasets)\n",
            "  Downloading aiohappyeyeballs-2.4.0-py3-none-any.whl.metadata (5.9 kB)\n",
            "Collecting aiosignal>=1.1.2 (from aiohttp->datasets)\n",
            "  Downloading aiosignal-1.3.1-py3-none-any.whl.metadata (4.0 kB)\n",
            "Requirement already satisfied: attrs>=17.3.0 in /usr/local/lib/python3.10/dist-packages (from aiohttp->datasets) (24.2.0)\n",
            "Collecting frozenlist>=1.1.1 (from aiohttp->datasets)\n",
            "  Downloading frozenlist-1.4.1-cp310-cp310-manylinux_2_5_x86_64.manylinux1_x86_64.manylinux_2_17_x86_64.manylinux2014_x86_64.whl.metadata (12 kB)\n",
            "Collecting multidict<7.0,>=4.5 (from aiohttp->datasets)\n",
            "  Downloading multidict-6.1.0-cp310-cp310-manylinux_2_17_x86_64.manylinux2014_x86_64.whl.metadata (5.0 kB)\n",
            "Collecting yarl<2.0,>=1.0 (from aiohttp->datasets)\n",
            "  Downloading yarl-1.11.1-cp310-cp310-manylinux_2_17_x86_64.manylinux2014_x86_64.whl.metadata (48 kB)\n",
            "\u001b[2K     \u001b[90m━━━━━━━━━━━━━━━━━━━━━━━━━━━━━━━━━━━━━━━━\u001b[0m \u001b[32m48.2/48.2 kB\u001b[0m \u001b[31m812.9 kB/s\u001b[0m eta \u001b[36m0:00:00\u001b[0m\n",
            "\u001b[?25hCollecting async-timeout<5.0,>=4.0 (from aiohttp->datasets)\n",
            "  Downloading async_timeout-4.0.3-py3-none-any.whl.metadata (4.2 kB)\n",
            "Requirement already satisfied: typing-extensions>=3.7.4.3 in /usr/local/lib/python3.10/dist-packages (from huggingface-hub>=0.22.0->datasets) (4.12.2)\n",
            "Requirement already satisfied: charset-normalizer<4,>=2 in /usr/local/lib/python3.10/dist-packages (from requests>=2.32.2->datasets) (3.3.2)\n",
            "Requirement already satisfied: idna<4,>=2.5 in /usr/local/lib/python3.10/dist-packages (from requests>=2.32.2->datasets) (3.8)\n",
            "Requirement already satisfied: urllib3<3,>=1.21.1 in /usr/local/lib/python3.10/dist-packages (from requests>=2.32.2->datasets) (2.0.7)\n",
            "Requirement already satisfied: certifi>=2017.4.17 in /usr/local/lib/python3.10/dist-packages (from requests>=2.32.2->datasets) (2024.8.30)\n",
            "Requirement already satisfied: python-dateutil>=2.8.2 in /usr/local/lib/python3.10/dist-packages (from pandas->datasets) (2.9.0.post0)\n",
            "Requirement already satisfied: pytz>=2020.1 in /usr/local/lib/python3.10/dist-packages (from pandas->datasets) (2024.2)\n",
            "Requirement already satisfied: tzdata>=2022.1 in /usr/local/lib/python3.10/dist-packages (from pandas->datasets) (2024.1)\n",
            "Requirement already satisfied: six>=1.5 in /usr/local/lib/python3.10/dist-packages (from python-dateutil>=2.8.2->pandas->datasets) (1.16.0)\n",
            "Downloading datasets-3.0.0-py3-none-any.whl (474 kB)\n",
            "\u001b[2K   \u001b[90m━━━━━━━━━━━━━━━━━━━━━━━━━━━━━━━━━━━━━━━━\u001b[0m \u001b[32m474.3/474.3 kB\u001b[0m \u001b[31m4.3 MB/s\u001b[0m eta \u001b[36m0:00:00\u001b[0m\n",
            "\u001b[?25hDownloading dill-0.3.8-py3-none-any.whl (116 kB)\n",
            "\u001b[2K   \u001b[90m━━━━━━━━━━━━━━━━━━━━━━━━━━━━━━━━━━━━━━━━\u001b[0m \u001b[32m116.3/116.3 kB\u001b[0m \u001b[31m4.2 MB/s\u001b[0m eta \u001b[36m0:00:00\u001b[0m\n",
            "\u001b[?25hDownloading fsspec-2024.6.1-py3-none-any.whl (177 kB)\n",
            "\u001b[2K   \u001b[90m━━━━━━━━━━━━━━━━━━━━━━━━━━━━━━━━━━━━━━━━\u001b[0m \u001b[32m177.6/177.6 kB\u001b[0m \u001b[31m7.6 MB/s\u001b[0m eta \u001b[36m0:00:00\u001b[0m\n",
            "\u001b[?25hDownloading aiohttp-3.10.5-cp310-cp310-manylinux_2_17_x86_64.manylinux2014_x86_64.whl (1.2 MB)\n",
            "\u001b[2K   \u001b[90m━━━━━━━━━━━━━━━━━━━━━━━━━━━━━━━━━━━━━━━━\u001b[0m \u001b[32m1.2/1.2 MB\u001b[0m \u001b[31m16.1 MB/s\u001b[0m eta \u001b[36m0:00:00\u001b[0m\n",
            "\u001b[?25hDownloading multiprocess-0.70.16-py310-none-any.whl (134 kB)\n",
            "\u001b[2K   \u001b[90m━━━━━━━━━━━━━━━━━━━━━━━━━━━━━━━━━━━━━━━━\u001b[0m \u001b[32m134.8/134.8 kB\u001b[0m \u001b[31m968.5 kB/s\u001b[0m eta \u001b[36m0:00:00\u001b[0m\n",
            "\u001b[?25hDownloading xxhash-3.5.0-cp310-cp310-manylinux_2_17_x86_64.manylinux2014_x86_64.whl (194 kB)\n",
            "\u001b[2K   \u001b[90m━━━━━━━━━━━━━━━━━━━━━━━━━━━━━━━━━━━━━━━━\u001b[0m \u001b[32m194.1/194.1 kB\u001b[0m \u001b[31m5.2 MB/s\u001b[0m eta \u001b[36m0:00:00\u001b[0m\n",
            "\u001b[?25hDownloading aiohappyeyeballs-2.4.0-py3-none-any.whl (12 kB)\n",
            "Downloading aiosignal-1.3.1-py3-none-any.whl (7.6 kB)\n",
            "Downloading async_timeout-4.0.3-py3-none-any.whl (5.7 kB)\n",
            "Downloading frozenlist-1.4.1-cp310-cp310-manylinux_2_5_x86_64.manylinux1_x86_64.manylinux_2_17_x86_64.manylinux2014_x86_64.whl (239 kB)\n",
            "\u001b[2K   \u001b[90m━━━━━━━━━━━━━━━━━━━━━━━━━━━━━━━━━━━━━━━━\u001b[0m \u001b[32m239.5/239.5 kB\u001b[0m \u001b[31m12.2 MB/s\u001b[0m eta \u001b[36m0:00:00\u001b[0m\n",
            "\u001b[?25hDownloading multidict-6.1.0-cp310-cp310-manylinux_2_17_x86_64.manylinux2014_x86_64.whl (124 kB)\n",
            "\u001b[2K   \u001b[90m━━━━━━━━━━━━━━━━━━━━━━━━━━━━━━━━━━━━━━━━\u001b[0m \u001b[32m124.6/124.6 kB\u001b[0m \u001b[31m6.3 MB/s\u001b[0m eta \u001b[36m0:00:00\u001b[0m\n",
            "\u001b[?25hDownloading yarl-1.11.1-cp310-cp310-manylinux_2_17_x86_64.manylinux2014_x86_64.whl (446 kB)\n",
            "\u001b[2K   \u001b[90m━━━━━━━━━━━━━━━━━━━━━━━━━━━━━━━━━━━━━━━━\u001b[0m \u001b[32m446.8/446.8 kB\u001b[0m \u001b[31m18.7 MB/s\u001b[0m eta \u001b[36m0:00:00\u001b[0m\n",
            "\u001b[?25hInstalling collected packages: xxhash, multidict, fsspec, frozenlist, dill, async-timeout, aiohappyeyeballs, yarl, multiprocess, aiosignal, aiohttp, datasets\n",
            "  Attempting uninstall: fsspec\n",
            "    Found existing installation: fsspec 2024.9.0\n",
            "    Uninstalling fsspec-2024.9.0:\n",
            "      Successfully uninstalled fsspec-2024.9.0\n",
            "Successfully installed aiohappyeyeballs-2.4.0 aiohttp-3.10.5 aiosignal-1.3.1 async-timeout-4.0.3 datasets-3.0.0 dill-0.3.8 frozenlist-1.4.1 fsspec-2024.6.1 multidict-6.1.0 multiprocess-0.70.16 xxhash-3.5.0 yarl-1.11.1\n",
            "Requirement already satisfied: sentencepiece in /usr/local/lib/python3.10/dist-packages (0.1.99)\n",
            "Collecting rouge_score\n",
            "  Downloading rouge_score-0.1.2.tar.gz (17 kB)\n",
            "  Preparing metadata (setup.py) ... \u001b[?25l\u001b[?25hdone\n",
            "Requirement already satisfied: absl-py in /usr/local/lib/python3.10/dist-packages (from rouge_score) (1.4.0)\n",
            "Requirement already satisfied: nltk in /usr/local/lib/python3.10/dist-packages (from rouge_score) (3.8.1)\n",
            "Requirement already satisfied: numpy in /usr/local/lib/python3.10/dist-packages (from rouge_score) (1.26.4)\n",
            "Requirement already satisfied: six>=1.14.0 in /usr/local/lib/python3.10/dist-packages (from rouge_score) (1.16.0)\n",
            "Requirement already satisfied: click in /usr/local/lib/python3.10/dist-packages (from nltk->rouge_score) (8.1.7)\n",
            "Requirement already satisfied: joblib in /usr/local/lib/python3.10/dist-packages (from nltk->rouge_score) (1.4.2)\n",
            "Requirement already satisfied: regex>=2021.8.3 in /usr/local/lib/python3.10/dist-packages (from nltk->rouge_score) (2024.9.11)\n",
            "Requirement already satisfied: tqdm in /usr/local/lib/python3.10/dist-packages (from nltk->rouge_score) (4.66.5)\n",
            "Building wheels for collected packages: rouge_score\n",
            "  Building wheel for rouge_score (setup.py) ... \u001b[?25l\u001b[?25hdone\n",
            "  Created wheel for rouge_score: filename=rouge_score-0.1.2-py3-none-any.whl size=24935 sha256=cf1f14f21dc4e7d5ec1e41d47378b0098a61521862e2f0b6349d3dac4d30ed31\n",
            "  Stored in directory: /root/.cache/pip/wheels/5f/dd/89/461065a73be61a532ff8599a28e9beef17985c9e9c31e541b4\n",
            "Successfully built rouge_score\n",
            "Installing collected packages: rouge_score\n",
            "Successfully installed rouge_score-0.1.2\n",
            "Collecting wandb\n",
            "  Downloading wandb-0.18.1-py3-none-manylinux_2_17_x86_64.manylinux2014_x86_64.whl.metadata (9.6 kB)\n",
            "Requirement already satisfied: click!=8.0.0,>=7.1 in /usr/local/lib/python3.10/dist-packages (from wandb) (8.1.7)\n",
            "Collecting docker-pycreds>=0.4.0 (from wandb)\n",
            "  Downloading docker_pycreds-0.4.0-py2.py3-none-any.whl.metadata (1.8 kB)\n",
            "Collecting gitpython!=3.1.29,>=1.0.0 (from wandb)\n",
            "  Downloading GitPython-3.1.43-py3-none-any.whl.metadata (13 kB)\n",
            "Requirement already satisfied: platformdirs in /usr/local/lib/python3.10/dist-packages (from wandb) (4.3.2)\n",
            "Requirement already satisfied: protobuf!=4.21.0,!=5.28.0,<6,>=3.19.0 in /usr/local/lib/python3.10/dist-packages (from wandb) (3.20.3)\n",
            "Requirement already satisfied: psutil>=5.0.0 in /usr/local/lib/python3.10/dist-packages (from wandb) (5.9.5)\n",
            "Requirement already satisfied: pyyaml in /usr/local/lib/python3.10/dist-packages (from wandb) (6.0.2)\n",
            "Requirement already satisfied: requests<3,>=2.0.0 in /usr/local/lib/python3.10/dist-packages (from wandb) (2.32.3)\n",
            "Collecting sentry-sdk>=1.0.0 (from wandb)\n",
            "  Downloading sentry_sdk-2.14.0-py2.py3-none-any.whl.metadata (9.7 kB)\n",
            "Collecting setproctitle (from wandb)\n",
            "  Downloading setproctitle-1.3.3-cp310-cp310-manylinux_2_5_x86_64.manylinux1_x86_64.manylinux_2_17_x86_64.manylinux2014_x86_64.whl.metadata (9.9 kB)\n",
            "Requirement already satisfied: setuptools in /usr/local/lib/python3.10/dist-packages (from wandb) (71.0.4)\n",
            "Requirement already satisfied: six>=1.4.0 in /usr/local/lib/python3.10/dist-packages (from docker-pycreds>=0.4.0->wandb) (1.16.0)\n",
            "Collecting gitdb<5,>=4.0.1 (from gitpython!=3.1.29,>=1.0.0->wandb)\n",
            "  Downloading gitdb-4.0.11-py3-none-any.whl.metadata (1.2 kB)\n",
            "Requirement already satisfied: charset-normalizer<4,>=2 in /usr/local/lib/python3.10/dist-packages (from requests<3,>=2.0.0->wandb) (3.3.2)\n",
            "Requirement already satisfied: idna<4,>=2.5 in /usr/local/lib/python3.10/dist-packages (from requests<3,>=2.0.0->wandb) (3.8)\n",
            "Requirement already satisfied: urllib3<3,>=1.21.1 in /usr/local/lib/python3.10/dist-packages (from requests<3,>=2.0.0->wandb) (2.0.7)\n",
            "Requirement already satisfied: certifi>=2017.4.17 in /usr/local/lib/python3.10/dist-packages (from requests<3,>=2.0.0->wandb) (2024.8.30)\n",
            "Collecting smmap<6,>=3.0.1 (from gitdb<5,>=4.0.1->gitpython!=3.1.29,>=1.0.0->wandb)\n",
            "  Downloading smmap-5.0.1-py3-none-any.whl.metadata (4.3 kB)\n",
            "Downloading wandb-0.18.1-py3-none-manylinux_2_17_x86_64.manylinux2014_x86_64.whl (9.7 MB)\n",
            "\u001b[2K   \u001b[90m━━━━━━━━━━━━━━━━━━━━━━━━━━━━━━━━━━━━━━━━\u001b[0m \u001b[32m9.7/9.7 MB\u001b[0m \u001b[31m25.8 MB/s\u001b[0m eta \u001b[36m0:00:00\u001b[0m\n",
            "\u001b[?25hDownloading docker_pycreds-0.4.0-py2.py3-none-any.whl (9.0 kB)\n",
            "Downloading GitPython-3.1.43-py3-none-any.whl (207 kB)\n",
            "\u001b[2K   \u001b[90m━━━━━━━━━━━━━━━━━━━━━━━━━━━━━━━━━━━━━━━━\u001b[0m \u001b[32m207.3/207.3 kB\u001b[0m \u001b[31m12.9 MB/s\u001b[0m eta \u001b[36m0:00:00\u001b[0m\n",
            "\u001b[?25hDownloading sentry_sdk-2.14.0-py2.py3-none-any.whl (311 kB)\n",
            "\u001b[2K   \u001b[90m━━━━━━━━━━━━━━━━━━━━━━━━━━━━━━━━━━━━━━━━\u001b[0m \u001b[32m311.4/311.4 kB\u001b[0m \u001b[31m17.0 MB/s\u001b[0m eta \u001b[36m0:00:00\u001b[0m\n",
            "\u001b[?25hDownloading setproctitle-1.3.3-cp310-cp310-manylinux_2_5_x86_64.manylinux1_x86_64.manylinux_2_17_x86_64.manylinux2014_x86_64.whl (30 kB)\n",
            "Downloading gitdb-4.0.11-py3-none-any.whl (62 kB)\n",
            "\u001b[2K   \u001b[90m━━━━━━━━━━━━━━━━━━━━━━━━━━━━━━━━━━━━━━━━\u001b[0m \u001b[32m62.7/62.7 kB\u001b[0m \u001b[31m2.9 MB/s\u001b[0m eta \u001b[36m0:00:00\u001b[0m\n",
            "\u001b[?25hDownloading smmap-5.0.1-py3-none-any.whl (24 kB)\n",
            "Installing collected packages: smmap, setproctitle, sentry-sdk, docker-pycreds, gitdb, gitpython, wandb\n",
            "Successfully installed docker-pycreds-0.4.0 gitdb-4.0.11 gitpython-3.1.43 sentry-sdk-2.14.0 setproctitle-1.3.3 smmap-5.0.1 wandb-0.18.1\n",
            "Collecting evaluate\n",
            "  Downloading evaluate-0.4.3-py3-none-any.whl.metadata (9.2 kB)\n",
            "Requirement already satisfied: datasets>=2.0.0 in /usr/local/lib/python3.10/dist-packages (from evaluate) (3.0.0)\n",
            "Requirement already satisfied: numpy>=1.17 in /usr/local/lib/python3.10/dist-packages (from evaluate) (1.26.4)\n",
            "Requirement already satisfied: dill in /usr/local/lib/python3.10/dist-packages (from evaluate) (0.3.8)\n",
            "Requirement already satisfied: pandas in /usr/local/lib/python3.10/dist-packages (from evaluate) (2.1.4)\n",
            "Requirement already satisfied: requests>=2.19.0 in /usr/local/lib/python3.10/dist-packages (from evaluate) (2.32.3)\n",
            "Requirement already satisfied: tqdm>=4.62.1 in /usr/local/lib/python3.10/dist-packages (from evaluate) (4.66.5)\n",
            "Requirement already satisfied: xxhash in /usr/local/lib/python3.10/dist-packages (from evaluate) (3.5.0)\n",
            "Requirement already satisfied: multiprocess in /usr/local/lib/python3.10/dist-packages (from evaluate) (0.70.16)\n",
            "Requirement already satisfied: fsspec>=2021.05.0 in /usr/local/lib/python3.10/dist-packages (from fsspec[http]>=2021.05.0->evaluate) (2024.6.1)\n",
            "Requirement already satisfied: huggingface-hub>=0.7.0 in /usr/local/lib/python3.10/dist-packages (from evaluate) (0.24.7)\n",
            "Requirement already satisfied: packaging in /usr/local/lib/python3.10/dist-packages (from evaluate) (24.1)\n",
            "Requirement already satisfied: filelock in /usr/local/lib/python3.10/dist-packages (from datasets>=2.0.0->evaluate) (3.16.0)\n",
            "Requirement already satisfied: pyarrow>=15.0.0 in /usr/local/lib/python3.10/dist-packages (from datasets>=2.0.0->evaluate) (17.0.0)\n",
            "Requirement already satisfied: aiohttp in /usr/local/lib/python3.10/dist-packages (from datasets>=2.0.0->evaluate) (3.10.5)\n",
            "Requirement already satisfied: pyyaml>=5.1 in /usr/local/lib/python3.10/dist-packages (from datasets>=2.0.0->evaluate) (6.0.2)\n",
            "Requirement already satisfied: typing-extensions>=3.7.4.3 in /usr/local/lib/python3.10/dist-packages (from huggingface-hub>=0.7.0->evaluate) (4.12.2)\n",
            "Requirement already satisfied: charset-normalizer<4,>=2 in /usr/local/lib/python3.10/dist-packages (from requests>=2.19.0->evaluate) (3.3.2)\n",
            "Requirement already satisfied: idna<4,>=2.5 in /usr/local/lib/python3.10/dist-packages (from requests>=2.19.0->evaluate) (3.8)\n",
            "Requirement already satisfied: urllib3<3,>=1.21.1 in /usr/local/lib/python3.10/dist-packages (from requests>=2.19.0->evaluate) (2.0.7)\n",
            "Requirement already satisfied: certifi>=2017.4.17 in /usr/local/lib/python3.10/dist-packages (from requests>=2.19.0->evaluate) (2024.8.30)\n",
            "Requirement already satisfied: python-dateutil>=2.8.2 in /usr/local/lib/python3.10/dist-packages (from pandas->evaluate) (2.9.0.post0)\n",
            "Requirement already satisfied: pytz>=2020.1 in /usr/local/lib/python3.10/dist-packages (from pandas->evaluate) (2024.2)\n",
            "Requirement already satisfied: tzdata>=2022.1 in /usr/local/lib/python3.10/dist-packages (from pandas->evaluate) (2024.1)\n",
            "Requirement already satisfied: aiohappyeyeballs>=2.3.0 in /usr/local/lib/python3.10/dist-packages (from aiohttp->datasets>=2.0.0->evaluate) (2.4.0)\n",
            "Requirement already satisfied: aiosignal>=1.1.2 in /usr/local/lib/python3.10/dist-packages (from aiohttp->datasets>=2.0.0->evaluate) (1.3.1)\n",
            "Requirement already satisfied: attrs>=17.3.0 in /usr/local/lib/python3.10/dist-packages (from aiohttp->datasets>=2.0.0->evaluate) (24.2.0)\n",
            "Requirement already satisfied: frozenlist>=1.1.1 in /usr/local/lib/python3.10/dist-packages (from aiohttp->datasets>=2.0.0->evaluate) (1.4.1)\n",
            "Requirement already satisfied: multidict<7.0,>=4.5 in /usr/local/lib/python3.10/dist-packages (from aiohttp->datasets>=2.0.0->evaluate) (6.1.0)\n",
            "Requirement already satisfied: yarl<2.0,>=1.0 in /usr/local/lib/python3.10/dist-packages (from aiohttp->datasets>=2.0.0->evaluate) (1.11.1)\n",
            "Requirement already satisfied: async-timeout<5.0,>=4.0 in /usr/local/lib/python3.10/dist-packages (from aiohttp->datasets>=2.0.0->evaluate) (4.0.3)\n",
            "Requirement already satisfied: six>=1.5 in /usr/local/lib/python3.10/dist-packages (from python-dateutil>=2.8.2->pandas->evaluate) (1.16.0)\n",
            "Downloading evaluate-0.4.3-py3-none-any.whl (84 kB)\n",
            "\u001b[2K   \u001b[90m━━━━━━━━━━━━━━━━━━━━━━━━━━━━━━━━━━━━━━━━\u001b[0m \u001b[32m84.0/84.0 kB\u001b[0m \u001b[31m1.0 MB/s\u001b[0m eta \u001b[36m0:00:00\u001b[0m\n",
            "\u001b[?25hInstalling collected packages: evaluate\n",
            "Successfully installed evaluate-0.4.3\n",
            "Requirement already satisfied: torch in /usr/local/lib/python3.10/dist-packages (2.4.0+cpu)\n",
            "Requirement already satisfied: filelock in /usr/local/lib/python3.10/dist-packages (from torch) (3.16.0)\n",
            "Requirement already satisfied: typing-extensions>=4.8.0 in /usr/local/lib/python3.10/dist-packages (from torch) (4.12.2)\n",
            "Requirement already satisfied: sympy in /usr/local/lib/python3.10/dist-packages (from torch) (1.13.2)\n",
            "Requirement already satisfied: networkx in /usr/local/lib/python3.10/dist-packages (from torch) (3.3)\n",
            "Requirement already satisfied: jinja2 in /usr/local/lib/python3.10/dist-packages (from torch) (3.1.4)\n",
            "Requirement already satisfied: fsspec in /usr/local/lib/python3.10/dist-packages (from torch) (2024.6.1)\n",
            "Requirement already satisfied: MarkupSafe>=2.0 in /usr/local/lib/python3.10/dist-packages (from jinja2->torch) (2.1.5)\n",
            "Requirement already satisfied: mpmath<1.4,>=1.1.0 in /usr/local/lib/python3.10/dist-packages (from sympy->torch) (1.3.0)\n"
          ]
        }
      ]
    },
    {
      "cell_type": "code",
      "source": [
        "import torch\n",
        "import numpy as np\n",
        "import datasets\n",
        "import evaluate\n",
        "from transformers import (\n",
        "    AutoModelForSeq2SeqLM,\n",
        "    AutoTokenizer,\n",
        "    Seq2SeqTrainingArguments,\n",
        "    Seq2SeqTrainer,\n",
        "    DataCollatorForSeq2Seq,\n",
        ")\n",
        "\n",
        "from tabulate import tabulate\n",
        "import nltk\n",
        "from datetime import datetime\n",
        "\n",
        "\n",
        "#f1112bec2d2a9b22ac73033c91b302f44085a442\n",
        "\n",
        "\n",
        "WANDB_INTEGRATION = True\n",
        "# WANDB_INTEGRATION = False\n",
        "if WANDB_INTEGRATION:\n",
        "    import wandb\n",
        "    wandb.login()\n",
        "\n"
      ],
      "metadata": {
        "id": "LI6AM4MMiGGJ"
      },
      "execution_count": null,
      "outputs": []
    },
    {
      "cell_type": "code",
      "source": [
        "model_name = \"facebook/bart-large-cnn\"\n",
        "dataset_name = \"Logeshkc/newsroom\""
      ],
      "metadata": {
        "id": "qBsPrv4qlgP2"
      },
      "execution_count": null,
      "outputs": []
    },
    {
      "cell_type": "code",
      "source": [
        "model = AutoModelForSeq2SeqLM.from_pretrained(model_name)\n",
        "tokenizer = AutoTokenizer.from_pretrained(model_name)"
      ],
      "metadata": {
        "id": "78Q5dGcOm3UM"
      },
      "execution_count": null,
      "outputs": []
    },
    {
      "cell_type": "code",
      "source": [
        "encoder_max_length = 256  # demo\n",
        "decoder_max_length = 64"
      ],
      "metadata": {
        "id": "hqfmIrLznM2P"
      },
      "execution_count": 7,
      "outputs": []
    },
    {
      "cell_type": "code",
      "source": [
        "from datasets import load_dataset,Dataset\n",
        "from itertools import islice\n",
        "\n",
        "def get_first_n_records(dataset_name, split_name, n_records):\n",
        "    ds = load_dataset(dataset_name, split=split_name, streaming=True)\n",
        "    first_n = list(islice(ds, n_records))\n",
        "    first_n_dataset = Dataset.from_list(first_n)\n",
        "\n",
        "    return first_n_dataset.to_pandas()\n",
        "\n",
        "n_records = 2000\n",
        "\n",
        "train_df = get_first_n_records(dataset_name, \"train\", n_records)\n",
        "test_df = get_first_n_records(dataset_name, \"test\", n_records)\n",
        "eval_df = get_first_n_records(dataset_name, \"validation\", n_records)\n",
        "\n",
        "# print(\"Train Dataset:\", train_df)\n",
        "# print(\"Test Dataset:\", test_df)\n",
        "# print(\"Eval Dataset:\", eval_df)\n"
      ],
      "metadata": {
        "id": "X78uMbqUnd1V",
        "colab": {
          "base_uri": "https://localhost:8080/",
          "height": 69,
          "referenced_widgets": [
            "7b2b26fe6c8b46c288eb7585927e83e3",
            "edfe48c41a78466ea2feb5a9df80e44e",
            "244db535c9834a86b781b11a69db76d9",
            "7f9bfa1e78e74a8ba08367cc35959772",
            "eafbba14e9c843ccbc71912e6643c0d0",
            "0816c7056030469ca7c9600691c75b92",
            "3561df53dc504f1fb366b038af14e874",
            "341afe45d0344747837eb1cd346d03b4",
            "bd8d5186c95e4fef994a9e6e152fbcad",
            "83847f57e52b413c88a562298c7275fe",
            "a12fdcd9b3464ba5b4402776d51849fa"
          ]
        },
        "outputId": "d9276d93-1bf0-4ccc-a7c7-3dcf717eb273"
      },
      "execution_count": 8,
      "outputs": [
        {
          "output_type": "display_data",
          "data": {
            "text/plain": [
              "README.md:   0%|          | 0.00/988 [00:00<?, ?B/s]"
            ],
            "application/vnd.jupyter.widget-view+json": {
              "version_major": 2,
              "version_minor": 0,
              "model_id": "7b2b26fe6c8b46c288eb7585927e83e3"
            }
          },
          "metadata": {}
        }
      ]
    },
    {
      "cell_type": "code",
      "source": [
        "train_df = train_df[train_df[:]['density_bin'] == 'abstractive']\n",
        "test_df = test_df[test_df[:]['density_bin'] == 'abstractive']\n",
        "eval_df = eval_df[eval_df[:]['density_bin'] == 'abstractive']"
      ],
      "metadata": {
        "id": "IBTG6IY-svj1"
      },
      "execution_count": 9,
      "outputs": []
    },
    {
      "cell_type": "code",
      "source": [
        "train_df = train_df[:10]\n",
        "test_df = test_df[:10]\n",
        "eval_df = eval_df[:10]"
      ],
      "metadata": {
        "id": "enPyCgKj12bJ"
      },
      "execution_count": 10,
      "outputs": []
    },
    {
      "cell_type": "code",
      "source": [
        "def remove_special_characters(df,column_name):\n",
        "    df[column_name+'_clean'] = df[column_name].replace(r'\\n', '.', regex=True).replace(r'\\.\\.+', '.', regex=True).replace(r'[^\\w\\s.]', '', regex=True).replace(r'[\\t]', '', regex=True)\n",
        "    return df"
      ],
      "metadata": {
        "id": "_4ZvpYvIx7zp"
      },
      "execution_count": 11,
      "outputs": []
    },
    {
      "cell_type": "code",
      "source": [
        "train_df = remove_special_characters(train_df,'text')\n",
        "train_df = remove_special_characters(train_df,'summary')\n",
        "\n",
        "test_df = remove_special_characters(test_df,'text')\n",
        "test_df = remove_special_characters(test_df,'summary')\n",
        "\n",
        "eval_df = remove_special_characters(eval_df,'text')\n",
        "eval_df = remove_special_characters(eval_df,'summary')"
      ],
      "metadata": {
        "id": "449eA0dfo_13"
      },
      "execution_count": 12,
      "outputs": []
    },
    {
      "cell_type": "code",
      "source": [
        "train_df.head(1)"
      ],
      "metadata": {
        "id": "DCHlzy-prhHQ",
        "outputId": "cfb14b93-a201-42d8-e8d7-3016c75be037",
        "colab": {
          "base_uri": "https://localhost:8080/",
          "height": 188
        }
      },
      "execution_count": 13,
      "outputs": [
        {
          "output_type": "execute_result",
          "data": {
            "text/plain": [
              "                                                  url  \\\n",
              "12  http://www.telegraph.co.uk/aboutus/careers-at-...   \n",
              "\n",
              "                                              archive  \\\n",
              "12  http://web.archive.org/web/20091101154544id_/h...   \n",
              "\n",
              "                                        title                       date  \\\n",
              "12  Careers at Telegraph Media Group: Culture 1970-08-21 12:51:41.154544   \n",
              "\n",
              "                                                 text  \\\n",
              "12  Published: 2:56PM BST 09 Oct 2009\\n\\nMedia is ...   \n",
              "\n",
              "                                              summary  compression  coverage  \\\n",
              "12  Telegraph Media Group operate a culture of kno...    10.928571  0.571429   \n",
              "\n",
              "     density compression_bin coverage_bin  density_bin  __index_level_0__  \\\n",
              "12  0.714286             low          low  abstractive                 12   \n",
              "\n",
              "                                           text_clean  \\\n",
              "12  Published 256PM BST 09 Oct 2009.Media is a ver...   \n",
              "\n",
              "                                        summary_clean  \n",
              "12  Telegraph Media Group operate a culture of kno...  "
            ],
            "text/html": [
              "\n",
              "  <div id=\"df-b06917f1-c5a7-4231-bc8a-59e30cd9be92\" class=\"colab-df-container\">\n",
              "    <div>\n",
              "<style scoped>\n",
              "    .dataframe tbody tr th:only-of-type {\n",
              "        vertical-align: middle;\n",
              "    }\n",
              "\n",
              "    .dataframe tbody tr th {\n",
              "        vertical-align: top;\n",
              "    }\n",
              "\n",
              "    .dataframe thead th {\n",
              "        text-align: right;\n",
              "    }\n",
              "</style>\n",
              "<table border=\"1\" class=\"dataframe\">\n",
              "  <thead>\n",
              "    <tr style=\"text-align: right;\">\n",
              "      <th></th>\n",
              "      <th>url</th>\n",
              "      <th>archive</th>\n",
              "      <th>title</th>\n",
              "      <th>date</th>\n",
              "      <th>text</th>\n",
              "      <th>summary</th>\n",
              "      <th>compression</th>\n",
              "      <th>coverage</th>\n",
              "      <th>density</th>\n",
              "      <th>compression_bin</th>\n",
              "      <th>coverage_bin</th>\n",
              "      <th>density_bin</th>\n",
              "      <th>__index_level_0__</th>\n",
              "      <th>text_clean</th>\n",
              "      <th>summary_clean</th>\n",
              "    </tr>\n",
              "  </thead>\n",
              "  <tbody>\n",
              "    <tr>\n",
              "      <th>12</th>\n",
              "      <td>http://www.telegraph.co.uk/aboutus/careers-at-...</td>\n",
              "      <td>http://web.archive.org/web/20091101154544id_/h...</td>\n",
              "      <td>Careers at Telegraph Media Group: Culture</td>\n",
              "      <td>1970-08-21 12:51:41.154544</td>\n",
              "      <td>Published: 2:56PM BST 09 Oct 2009\\n\\nMedia is ...</td>\n",
              "      <td>Telegraph Media Group operate a culture of kno...</td>\n",
              "      <td>10.928571</td>\n",
              "      <td>0.571429</td>\n",
              "      <td>0.714286</td>\n",
              "      <td>low</td>\n",
              "      <td>low</td>\n",
              "      <td>abstractive</td>\n",
              "      <td>12</td>\n",
              "      <td>Published 256PM BST 09 Oct 2009.Media is a ver...</td>\n",
              "      <td>Telegraph Media Group operate a culture of kno...</td>\n",
              "    </tr>\n",
              "  </tbody>\n",
              "</table>\n",
              "</div>\n",
              "    <div class=\"colab-df-buttons\">\n",
              "\n",
              "  <div class=\"colab-df-container\">\n",
              "    <button class=\"colab-df-convert\" onclick=\"convertToInteractive('df-b06917f1-c5a7-4231-bc8a-59e30cd9be92')\"\n",
              "            title=\"Convert this dataframe to an interactive table.\"\n",
              "            style=\"display:none;\">\n",
              "\n",
              "  <svg xmlns=\"http://www.w3.org/2000/svg\" height=\"24px\" viewBox=\"0 -960 960 960\">\n",
              "    <path d=\"M120-120v-720h720v720H120Zm60-500h600v-160H180v160Zm220 220h160v-160H400v160Zm0 220h160v-160H400v160ZM180-400h160v-160H180v160Zm440 0h160v-160H620v160ZM180-180h160v-160H180v160Zm440 0h160v-160H620v160Z\"/>\n",
              "  </svg>\n",
              "    </button>\n",
              "\n",
              "  <style>\n",
              "    .colab-df-container {\n",
              "      display:flex;\n",
              "      gap: 12px;\n",
              "    }\n",
              "\n",
              "    .colab-df-convert {\n",
              "      background-color: #E8F0FE;\n",
              "      border: none;\n",
              "      border-radius: 50%;\n",
              "      cursor: pointer;\n",
              "      display: none;\n",
              "      fill: #1967D2;\n",
              "      height: 32px;\n",
              "      padding: 0 0 0 0;\n",
              "      width: 32px;\n",
              "    }\n",
              "\n",
              "    .colab-df-convert:hover {\n",
              "      background-color: #E2EBFA;\n",
              "      box-shadow: 0px 1px 2px rgba(60, 64, 67, 0.3), 0px 1px 3px 1px rgba(60, 64, 67, 0.15);\n",
              "      fill: #174EA6;\n",
              "    }\n",
              "\n",
              "    .colab-df-buttons div {\n",
              "      margin-bottom: 4px;\n",
              "    }\n",
              "\n",
              "    [theme=dark] .colab-df-convert {\n",
              "      background-color: #3B4455;\n",
              "      fill: #D2E3FC;\n",
              "    }\n",
              "\n",
              "    [theme=dark] .colab-df-convert:hover {\n",
              "      background-color: #434B5C;\n",
              "      box-shadow: 0px 1px 3px 1px rgba(0, 0, 0, 0.15);\n",
              "      filter: drop-shadow(0px 1px 2px rgba(0, 0, 0, 0.3));\n",
              "      fill: #FFFFFF;\n",
              "    }\n",
              "  </style>\n",
              "\n",
              "    <script>\n",
              "      const buttonEl =\n",
              "        document.querySelector('#df-b06917f1-c5a7-4231-bc8a-59e30cd9be92 button.colab-df-convert');\n",
              "      buttonEl.style.display =\n",
              "        google.colab.kernel.accessAllowed ? 'block' : 'none';\n",
              "\n",
              "      async function convertToInteractive(key) {\n",
              "        const element = document.querySelector('#df-b06917f1-c5a7-4231-bc8a-59e30cd9be92');\n",
              "        const dataTable =\n",
              "          await google.colab.kernel.invokeFunction('convertToInteractive',\n",
              "                                                    [key], {});\n",
              "        if (!dataTable) return;\n",
              "\n",
              "        const docLinkHtml = 'Like what you see? Visit the ' +\n",
              "          '<a target=\"_blank\" href=https://colab.research.google.com/notebooks/data_table.ipynb>data table notebook</a>'\n",
              "          + ' to learn more about interactive tables.';\n",
              "        element.innerHTML = '';\n",
              "        dataTable['output_type'] = 'display_data';\n",
              "        await google.colab.output.renderOutput(dataTable, element);\n",
              "        const docLink = document.createElement('div');\n",
              "        docLink.innerHTML = docLinkHtml;\n",
              "        element.appendChild(docLink);\n",
              "      }\n",
              "    </script>\n",
              "  </div>\n",
              "\n",
              "\n",
              "    </div>\n",
              "  </div>\n"
            ],
            "application/vnd.google.colaboratory.intrinsic+json": {
              "type": "dataframe",
              "variable_name": "train_df",
              "summary": "{\n  \"name\": \"train_df\",\n  \"rows\": 10,\n  \"fields\": [\n    {\n      \"column\": \"url\",\n      \"properties\": {\n        \"dtype\": \"string\",\n        \"num_unique_values\": 10,\n        \"samples\": [\n          \"http://www.foxnews.com/entertainment/2009/11/02/mariah-carey-admits-failed-acting-career-sent-grave/\",\n          \"http://abcnews.go.com/2020/birdman-french-spiderman-defy-gravity/story\",\n          \"http://www.bostonglobe.com/business/2011/09/12/bank-cut-restructuring/AQjotxbx5BgelZsaKy6wUO/story.html\"\n        ],\n        \"semantic_type\": \"\",\n        \"description\": \"\"\n      }\n    },\n    {\n      \"column\": \"archive\",\n      \"properties\": {\n        \"dtype\": \"string\",\n        \"num_unique_values\": 10,\n        \"samples\": [\n          \"http://web.archive.org/web/20120303231750id_/http://www.foxnews.com/entertainment/2009/11/02/mariah-carey-admits-failed-acting-career-sent-grave/\",\n          \"http://web.archive.org/web/20100530035342id_/http://abcnews.go.com:80/2020/birdman-french-spiderman-defy-gravity/story?id=10738649\",\n          \"http://web.archive.org/web/20111106045842id_/http://www.bostonglobe.com:80/business/2011/09/12/bank-cut-restructuring/AQjotxbx5BgelZsaKy6wUO/story.html\"\n        ],\n        \"semantic_type\": \"\",\n        \"description\": \"\"\n      }\n    },\n    {\n      \"column\": \"title\",\n      \"properties\": {\n        \"dtype\": \"string\",\n        \"num_unique_values\": 10,\n        \"samples\": [\n          \"Mariah Carey Admits Her Failed Acting Career Almost Sent Her To The Grave\",\n          \"'Birdman' and 'French Spiderman' Defy Gravity\",\n          \"Bank of America to cut 30,000 jobs in restructuring\"\n        ],\n        \"semantic_type\": \"\",\n        \"description\": \"\"\n      }\n    },\n    {\n      \"column\": \"date\",\n      \"properties\": {\n        \"dtype\": \"date\",\n        \"min\": \"1970-08-21 12:51:41.154544\",\n        \"max\": \"1970-08-21 21:06:45.053313\",\n        \"num_unique_values\": 10,\n        \"samples\": [\n          \"1970-08-21 20:58:23.231750\",\n          \"1970-08-21 15:28:50.035342\",\n          \"1970-08-21 18:25:06.045842\"\n        ],\n        \"semantic_type\": \"\",\n        \"description\": \"\"\n      }\n    },\n    {\n      \"column\": \"text\",\n      \"properties\": {\n        \"dtype\": \"string\",\n        \"num_unique_values\": 10,\n        \"samples\": [\n          \"LOS ANGELES \\u2013 Mariah Carey may be relishing in the rave reviews and Oscar buzz surrounding her new drama \\u201cPrecious\\u201d, however her 2001 film disaster \\u201cGlitter\\u201d still brings some painful memories to the surface.\\n\\nThe film (and Carey\\u2019s performance on screen and on the soundtrack) was slammed by almost all critics and labeled as one of the worst of all-time, eventually prompting the pop princess to be hospitalized amid an emotional breakdown.\\n\\nHowever Carey isn\\u2019t accepting full responsibility for the \\u201cGlitter\\u201d gaffe.\\n\\n\\u201cBeing here is definitely a milestone. But I had one milestone that almost had me under this stone,\\u201d Carey told us as the AFI screening of \\\"Precious\\\" on Sunday night. \\u201cI didn\\u2019t realize you really have to be selective with the people that you work with and you have to have that support system and you have to work with people that you feel are geniuses.\\u201d\\n\\nSpeaking of genius, Carey\\u2019s physical transformation into a run-of-the-mill, unglamorous New York social worker for the flick is quite a work of art in itself. And coming from a pop diva who imposes a monstrous set of rules when it comes to filming her (on one recent occasion where Pop Tarts was present, Carey refused to be shot from the waist-down and had her own Director of Photography on-hand to ensure the lighting and frame size were exactly as she wanted), this was quite a personal challenge.\\n\\n\\u201cWhen it first saw the film I thought I looked hideous, I felt completely rancid. I\\u2019ve kind of gotten over it\\u2026 Have I gotten over it?\\u201d she motioned to hubby Nick Cannon, who was quick to disagree.\\n\\n\\u201cNot really,\\u201d he laughed, shaking his head. \\u201cBut the performance was phenomenal. I love her in every look. It\\u2019s Mariah!\\u201d\\n\\nAnd hey, at least Ms Carey was bold enough to admit she needed a break from fame and glamour and come back down to earth and look a little \\u201cordinary\\u201d.\\n\\n\\u201cThis was such a liberating experience and yet humiliating. But I needed that,\\u201d Carey added. \\u201cWe all need that, we need to understand how to be humble and it\\u2019s a difficult business to do that in. But I\\u2019m definitely inspired to work out of my comfort zone after this.\\u201d\",\n          \"Alain Robert and Jeb Corliss are two men who've never met, yet they share many of the same experiences. They're both risk takers driven by their fears.\\n\\nBuilding climber Alain Robert hangs from ceiling at home to stay in super shape.\\n\\nOne scales steel and glass towers, while the other soars through the air.\\n\\nCorliss, 34, uses a flying squirrel-style wing-suit to travel at speeds of up to 300 mph and steer through the air during freefall.\\n\\n\\\"If you want to do something spectacular, something special, you have to be willing to take really unique risks,\\\" said Corliss.\\n\\nCorliss described his childhood as unhappy and isolated. By his teens, he said, he was suicidal.\\n\\nWatch the full story on a special edition of \\\"20/20\\\" Tuesday, June 1 at 10 p.m. ET\\n\\n\\\"I didn't really care, nothing mattered to me,\\\" Corliss said. \\\"And all I know is that feeling made me want to do things that were really, really dangerous.\\\"\\n\\nBase jumping -- freefalling from high structures -- became his passion, and he jumped from iconic landmarks across the globe.\\n\\n\\\"In my search for death I really did find my life,\\\" Corliss said.\\n\\nForever pushing the limits, Corliss moved on to wing-suit flying, which allowed him to fulfill his childhood dream.\\n\\n\\\"I was about 5 years old and I was watching these birds, and I remember seeing them open their wings and start to fly,\\\" said Corliss. \\\"And I remember going, you know what, when I get older I'm going to do that.\\\"\\n\\nIn 2007, Corliss flew past the Christ the Redeemer Statue in Brazil. He describes that flight as amazing but felt he wasn't close enough to anything -- so he set his sights on the Matterhorn in Switzerland.\\n\\nNow he trains constantly to avoid missteps, like the one he had in Italy while training to fly off the Matterhorn.\\n\\nHis parachute got caught on some branches during his descent, and he broke his hand in two places. He was still determined to get to the Matterhorn in the Alps.\\n\\nLast year, with his left hand broken, and armed with his trademark cameras that document all his flights, Corliss jumped out of a helicopter at 16,000 feet. He flew at speeds of almost 200 mph, in the coldest temperatures he's ever flown.\\n\\nHow does the suit enable him to fly like a bird? It has vents that fill with air as he falls, inflating his \\\"wings\\\" and allowing him to slide against the air.\\n\\nAt one point on the way down the mountain, Corliss felt he was too close to the mountain, he said, but courage led the way down.\\n\\n\\\"It's all bonus time as far as I'm concerned,\\\" he said. \\\"I've already lived my life 10 times over. If I died tomorrow doing what I love, I don't want anyone to cry for me. Everyone should throw a celebration, because I died doing what I loved.\\\"\",\n          \"Bank of America Corp., the nation's largest bank, unveiled plans yesterday to cut 30,000 jobs worldwide in the next few years, as part of an aggressive effort to streamline its far-flung operations and cope with billions of dollars in losses from toxic mortgages and the continuing weak economy.\\n\\nThe cuts will probably affect the company's operations in Massachusetts, analysts say, but bank officials said it was too early to say how many reductions will occur here. Massachusetts is one of the bank\\u2019s largest employment centers with 7,000 employees, in addition to its 270 retail branches.\\n\\nOverall, the job reductions will hit more than 10 percent of its workforce, now at 287,000 worldwide.\\n\\n\\\"The whole goal here was to make our company more streamlined, more efficient,\\\" Bank of America chief executive Brian Moynihan, who lives in Wellesley, said in announcing the restructuring at the Barclays Capital Global Financial Services Conference in New York.\\n\\nThe job cuts are part of an ongoing companywide restructuring effort. The first phase, which includes the company\\u2019s consumer business and its support operations, is expected to reduce expenses by $5 billion annually by 2013. For instance, the bank said it plans to combine some of its 63 data centers and merge three deposit systems into one.\\n\\nThe bank also plans to examine other divisions in a second round of restructuring, such as wealth management and investment banking, which could lead to additional job cuts. That review is slated to begin next month and be completed in March.\\n\\nBank officials said it was too early to say how many additional jobs may be cut in the second phrase, but suggested it would likely be smaller than those disclosed yesterday.\\n\\n\\\"It's probably not going to be as fruitful on dollars per square inch, but it will be fruitful,\\\" Moynihan said.\\n\\nThe cuts are just the latest effort by the bank to save money in the wake of the global economic downturn and collapse of the US housing market.\\n\\nIn late 2008, Bank of America revealed plans to cut 30,000 to 35,000 jobs as part of its integration of Merrill Lynch & Co. in January 2009. And earlier this year, the company disclosed plans to cut 3,500 jobs and shed roughly 10 percent of its branches. The company's headquarters are in Charlotte, N.C.\\n\\nMassachusetts has already felt the impact of those moves. Even while the company was growing overall, with the acquisitions of Merrill Lynch and Countrywide Financial Corp., the bank has 2,000 fewer workers in the state than it did in 2007. As recently as July, Bank of America said it planned to let go 150 employees at a back-office operation in Malden by next spring.\\n\\nOther financial companies are cutting their operations as well because of the sluggish economy, weak housing market, and unusually low interest rates, which reduce the amounts banks can earn on deposits.\\n\\nBank of New York Mellon Corp., which has large operations in Massachusetts, announced plans to cut 1,500 jobs, or 3 percent of its workforce. And Boston-based State Street Corp. said it planned to cut 850 jobs, including 558 in Massachusetts, on top of thousands of jobs cut previously. And Wells Fargo & Co. recently pledged to cut expenses by up to $6 billion.\\n\\n\\\"I think the cuts are necessary given the growing pressures on profitability because of the slowing economy and the prolonged low-interest environment,\\\" said RBC Capital Markets analyst Joe Morford. \\\"The challenging environment is affecting all banks and Bank of America is not alone,\\\" Morford said.\\n\\nBut banking analyst Richard Bove said Moynihan has been forced to cut deeper than many other banks because the company had grown so large through acquisitions, and because the magnitude of the mortgage-related losses it is facing from Countrywide in 2008, which Bove called one of the worst acquisitions on record.\\n\\nIn the second quarter alone, Bank of America reported a net loss of $8.8 billion, mostly related to an $8.5 billion settlement with investors who pressured the bank to buy back toxic mortgages handled by Countrywide. And it faces billions of dollars in additional legal claims.\\n\\nMoynihan has \\\"got to focus on those parts of the business that work by getting rid of the parts of the business that don't, so he can pay for all the lawsuits related to Countrywide,\\\" said Bove, who works for Rochdale Securities LLC.\\n\\nIn addition, the bank has been trying to integrate operations after years of bulking up through acquisitions, including FleetBoston in 2004, and Merrill Lynch two years ago. Moynihan noted the company made six acquisitions from 2003 to 2008, leaving the bank with 63 data centers, three deposit systems, and tens of millions of square feet of office space it didn't need.\\n\\n\\\"It's kind of like an accordion,\\\" Bove said. \\\"The bank makes a number of acquisitions, then it decides it has overextended itself and needs to shrink and focus on its core business.\\\"\\n\\nThe bank said many of the job cuts will occur through attrition or by not filling vacant jobs, rather than outright layoffs.\\n\\nBank of America's stock rose 7 cents to $7.05.\"\n        ],\n        \"semantic_type\": \"\",\n        \"description\": \"\"\n      }\n    },\n    {\n      \"column\": \"summary\",\n      \"properties\": {\n        \"dtype\": \"string\",\n        \"num_unique_values\": 10,\n        \"samples\": [\n          \"Precious star also says she was 'humiliated' by appearance in the film, despite rave reviews.\",\n          \"'20/20' looks at the fascinating exploits of \\\"Birdman\\\" and the \\\"French Spiderman,\\\" aka Jeb Corliss and Alain Robert, who talk about what drives them to push the extremes of experience.\",\n          \"The nation\\u2019s largest bank has grown tremendously in recent years with major acquisitions, while also suffering through a perilous economy and steep losses from the mortgage crisis.\"\n        ],\n        \"semantic_type\": \"\",\n        \"description\": \"\"\n      }\n    },\n    {\n      \"column\": \"compression\",\n      \"properties\": {\n        \"dtype\": \"number\",\n        \"std\": 16.97808429540012,\n        \"min\": 4.1666666667,\n        \"max\": 63.5833333333,\n        \"num_unique_values\": 10,\n        \"samples\": [\n          24.3157894737,\n          15.5128205128,\n          33.1666666667\n        ],\n        \"semantic_type\": \"\",\n        \"description\": \"\"\n      }\n    },\n    {\n      \"column\": \"coverage\",\n      \"properties\": {\n        \"dtype\": \"number\",\n        \"std\": 0.16287127952721608,\n        \"min\": 0.2333333333,\n        \"max\": 0.7857142857,\n        \"num_unique_values\": 10,\n        \"samples\": [\n          0.5789473684,\n          0.641025641,\n          0.7666666667\n        ],\n        \"semantic_type\": \"\",\n        \"description\": \"\"\n      }\n    },\n    {\n      \"column\": \"density\",\n      \"properties\": {\n        \"dtype\": \"number\",\n        \"std\": 0.28753353263685183,\n        \"min\": 0.2333333333,\n        \"max\": 1.2333333333,\n        \"num_unique_values\": 10,\n        \"samples\": [\n          0.7894736842000001,\n          0.8974358974000001,\n          1.2333333333\n        ],\n        \"semantic_type\": \"\",\n        \"description\": \"\"\n      }\n    },\n    {\n      \"column\": \"compression_bin\",\n      \"properties\": {\n        \"dtype\": \"category\",\n        \"num_unique_values\": 3,\n        \"samples\": [\n          \"low\",\n          \"medium\",\n          \"high\"\n        ],\n        \"semantic_type\": \"\",\n        \"description\": \"\"\n      }\n    },\n    {\n      \"column\": \"coverage_bin\",\n      \"properties\": {\n        \"dtype\": \"category\",\n        \"num_unique_values\": 2,\n        \"samples\": [\n          \"medium\",\n          \"low\"\n        ],\n        \"semantic_type\": \"\",\n        \"description\": \"\"\n      }\n    },\n    {\n      \"column\": \"density_bin\",\n      \"properties\": {\n        \"dtype\": \"category\",\n        \"num_unique_values\": 1,\n        \"samples\": [\n          \"abstractive\"\n        ],\n        \"semantic_type\": \"\",\n        \"description\": \"\"\n      }\n    },\n    {\n      \"column\": \"__index_level_0__\",\n      \"properties\": {\n        \"dtype\": \"number\",\n        \"std\": 14,\n        \"min\": 12,\n        \"max\": 57,\n        \"num_unique_values\": 10,\n        \"samples\": [\n          49\n        ],\n        \"semantic_type\": \"\",\n        \"description\": \"\"\n      }\n    },\n    {\n      \"column\": \"text_clean\",\n      \"properties\": {\n        \"dtype\": \"string\",\n        \"num_unique_values\": 10,\n        \"samples\": [\n          \"LOS ANGELES  Mariah Carey may be relishing in the rave reviews and Oscar buzz surrounding her new drama Precious however her 2001 film disaster Glitter still brings some painful memories to the surface.The film and Careys performance on screen and on the soundtrack was slammed by almost all critics and labeled as one of the worst of alltime eventually prompting the pop princess to be hospitalized amid an emotional breakdown.However Carey isnt accepting full responsibility for the Glitter gaffe.Being here is definitely a milestone. But I had one milestone that almost had me under this stone Carey told us as the AFI screening of Precious on Sunday night. I didnt realize you really have to be selective with the people that you work with and you have to have that support system and you have to work with people that you feel are geniuses..Speaking of genius Careys physical transformation into a runofthemill unglamorous New York social worker for the flick is quite a work of art in itself. And coming from a pop diva who imposes a monstrous set of rules when it comes to filming her on one recent occasion where Pop Tarts was present Carey refused to be shot from the waistdown and had her own Director of Photography onhand to ensure the lighting and frame size were exactly as she wanted this was quite a personal challenge.When it first saw the film I thought I looked hideous I felt completely rancid. Ive kind of gotten over it Have I gotten over it she motioned to hubby Nick Cannon who was quick to disagree.Not really he laughed shaking his head. But the performance was phenomenal. I love her in every look. Its Mariah.And hey at least Ms Carey was bold enough to admit she needed a break from fame and glamour and come back down to earth and look a little ordinary.This was such a liberating experience and yet humiliating. But I needed that Carey added. We all need that we need to understand how to be humble and its a difficult business to do that in. But Im definitely inspired to work out of my comfort zone after this.\"\n        ],\n        \"semantic_type\": \"\",\n        \"description\": \"\"\n      }\n    },\n    {\n      \"column\": \"summary_clean\",\n      \"properties\": {\n        \"dtype\": \"string\",\n        \"num_unique_values\": 10,\n        \"samples\": [\n          \"Precious star also says she was humiliated by appearance in the film despite rave reviews.\"\n        ],\n        \"semantic_type\": \"\",\n        \"description\": \"\"\n      }\n    }\n  ]\n}"
            }
          },
          "metadata": {},
          "execution_count": 13
        }
      ]
    },
    {
      "cell_type": "code",
      "source": [
        "test_df.head(1)"
      ],
      "metadata": {
        "colab": {
          "base_uri": "https://localhost:8080/",
          "height": 205
        },
        "id": "a8fqcRz0gfBg",
        "outputId": "33e389ab-13e9-455a-f7b1-5407fd3941e5"
      },
      "execution_count": 14,
      "outputs": [
        {
          "output_type": "execute_result",
          "data": {
            "text/plain": [
              "                                                 url  \\\n",
              "3  http://www.forbes.com/2010/05/12/iphone-blackb...   \n",
              "\n",
              "                                             archive  \\\n",
              "3  http://web.archive.org/web/20120312144834id_/h...   \n",
              "\n",
              "                                        title                       date  \\\n",
              "3  In Pictures: 10 Ways To Fix Your Cellphone 1970-08-21 20:58:32.144834   \n",
              "\n",
              "                                                text  \\\n",
              "3  Like all gadgets, cellphones can break. In fac...   \n",
              "\n",
              "                                             summary  compression  coverage  \\\n",
              "3  Simple home remedies for repairing your mobile...       4.3125       0.5   \n",
              "\n",
              "   density compression_bin coverage_bin  density_bin  __index_level_0__  \\\n",
              "3    0.625             low          low  abstractive                  3   \n",
              "\n",
              "                                          text_clean  \\\n",
              "3  Like all gadgets cellphones can break. In fact...   \n",
              "\n",
              "                                       summary_clean  \n",
              "3  Simple home remedies for repairing your mobile...  "
            ],
            "text/html": [
              "\n",
              "  <div id=\"df-601e619b-487c-439a-b127-ea3cafb15122\" class=\"colab-df-container\">\n",
              "    <div>\n",
              "<style scoped>\n",
              "    .dataframe tbody tr th:only-of-type {\n",
              "        vertical-align: middle;\n",
              "    }\n",
              "\n",
              "    .dataframe tbody tr th {\n",
              "        vertical-align: top;\n",
              "    }\n",
              "\n",
              "    .dataframe thead th {\n",
              "        text-align: right;\n",
              "    }\n",
              "</style>\n",
              "<table border=\"1\" class=\"dataframe\">\n",
              "  <thead>\n",
              "    <tr style=\"text-align: right;\">\n",
              "      <th></th>\n",
              "      <th>url</th>\n",
              "      <th>archive</th>\n",
              "      <th>title</th>\n",
              "      <th>date</th>\n",
              "      <th>text</th>\n",
              "      <th>summary</th>\n",
              "      <th>compression</th>\n",
              "      <th>coverage</th>\n",
              "      <th>density</th>\n",
              "      <th>compression_bin</th>\n",
              "      <th>coverage_bin</th>\n",
              "      <th>density_bin</th>\n",
              "      <th>__index_level_0__</th>\n",
              "      <th>text_clean</th>\n",
              "      <th>summary_clean</th>\n",
              "    </tr>\n",
              "  </thead>\n",
              "  <tbody>\n",
              "    <tr>\n",
              "      <th>3</th>\n",
              "      <td>http://www.forbes.com/2010/05/12/iphone-blackb...</td>\n",
              "      <td>http://web.archive.org/web/20120312144834id_/h...</td>\n",
              "      <td>In Pictures: 10 Ways To Fix Your Cellphone</td>\n",
              "      <td>1970-08-21 20:58:32.144834</td>\n",
              "      <td>Like all gadgets, cellphones can break. In fac...</td>\n",
              "      <td>Simple home remedies for repairing your mobile...</td>\n",
              "      <td>4.3125</td>\n",
              "      <td>0.5</td>\n",
              "      <td>0.625</td>\n",
              "      <td>low</td>\n",
              "      <td>low</td>\n",
              "      <td>abstractive</td>\n",
              "      <td>3</td>\n",
              "      <td>Like all gadgets cellphones can break. In fact...</td>\n",
              "      <td>Simple home remedies for repairing your mobile...</td>\n",
              "    </tr>\n",
              "  </tbody>\n",
              "</table>\n",
              "</div>\n",
              "    <div class=\"colab-df-buttons\">\n",
              "\n",
              "  <div class=\"colab-df-container\">\n",
              "    <button class=\"colab-df-convert\" onclick=\"convertToInteractive('df-601e619b-487c-439a-b127-ea3cafb15122')\"\n",
              "            title=\"Convert this dataframe to an interactive table.\"\n",
              "            style=\"display:none;\">\n",
              "\n",
              "  <svg xmlns=\"http://www.w3.org/2000/svg\" height=\"24px\" viewBox=\"0 -960 960 960\">\n",
              "    <path d=\"M120-120v-720h720v720H120Zm60-500h600v-160H180v160Zm220 220h160v-160H400v160Zm0 220h160v-160H400v160ZM180-400h160v-160H180v160Zm440 0h160v-160H620v160ZM180-180h160v-160H180v160Zm440 0h160v-160H620v160Z\"/>\n",
              "  </svg>\n",
              "    </button>\n",
              "\n",
              "  <style>\n",
              "    .colab-df-container {\n",
              "      display:flex;\n",
              "      gap: 12px;\n",
              "    }\n",
              "\n",
              "    .colab-df-convert {\n",
              "      background-color: #E8F0FE;\n",
              "      border: none;\n",
              "      border-radius: 50%;\n",
              "      cursor: pointer;\n",
              "      display: none;\n",
              "      fill: #1967D2;\n",
              "      height: 32px;\n",
              "      padding: 0 0 0 0;\n",
              "      width: 32px;\n",
              "    }\n",
              "\n",
              "    .colab-df-convert:hover {\n",
              "      background-color: #E2EBFA;\n",
              "      box-shadow: 0px 1px 2px rgba(60, 64, 67, 0.3), 0px 1px 3px 1px rgba(60, 64, 67, 0.15);\n",
              "      fill: #174EA6;\n",
              "    }\n",
              "\n",
              "    .colab-df-buttons div {\n",
              "      margin-bottom: 4px;\n",
              "    }\n",
              "\n",
              "    [theme=dark] .colab-df-convert {\n",
              "      background-color: #3B4455;\n",
              "      fill: #D2E3FC;\n",
              "    }\n",
              "\n",
              "    [theme=dark] .colab-df-convert:hover {\n",
              "      background-color: #434B5C;\n",
              "      box-shadow: 0px 1px 3px 1px rgba(0, 0, 0, 0.15);\n",
              "      filter: drop-shadow(0px 1px 2px rgba(0, 0, 0, 0.3));\n",
              "      fill: #FFFFFF;\n",
              "    }\n",
              "  </style>\n",
              "\n",
              "    <script>\n",
              "      const buttonEl =\n",
              "        document.querySelector('#df-601e619b-487c-439a-b127-ea3cafb15122 button.colab-df-convert');\n",
              "      buttonEl.style.display =\n",
              "        google.colab.kernel.accessAllowed ? 'block' : 'none';\n",
              "\n",
              "      async function convertToInteractive(key) {\n",
              "        const element = document.querySelector('#df-601e619b-487c-439a-b127-ea3cafb15122');\n",
              "        const dataTable =\n",
              "          await google.colab.kernel.invokeFunction('convertToInteractive',\n",
              "                                                    [key], {});\n",
              "        if (!dataTable) return;\n",
              "\n",
              "        const docLinkHtml = 'Like what you see? Visit the ' +\n",
              "          '<a target=\"_blank\" href=https://colab.research.google.com/notebooks/data_table.ipynb>data table notebook</a>'\n",
              "          + ' to learn more about interactive tables.';\n",
              "        element.innerHTML = '';\n",
              "        dataTable['output_type'] = 'display_data';\n",
              "        await google.colab.output.renderOutput(dataTable, element);\n",
              "        const docLink = document.createElement('div');\n",
              "        docLink.innerHTML = docLinkHtml;\n",
              "        element.appendChild(docLink);\n",
              "      }\n",
              "    </script>\n",
              "  </div>\n",
              "\n",
              "\n",
              "    </div>\n",
              "  </div>\n"
            ],
            "application/vnd.google.colaboratory.intrinsic+json": {
              "type": "dataframe",
              "variable_name": "test_df",
              "summary": "{\n  \"name\": \"test_df\",\n  \"rows\": 10,\n  \"fields\": [\n    {\n      \"column\": \"url\",\n      \"properties\": {\n        \"dtype\": \"string\",\n        \"num_unique_values\": 10,\n        \"samples\": [\n          \"http://www.nytimes.com/1964/03/08/samuel-holmes-zoologist-dead.html\",\n          \"http://www.forbes.com/2011/01/31/saudi-arabia-al-waleed-ramadan.html\",\n          \"http://www.theguardian.com/artanddesign/2013/oct/21/china-landscape-painting\"\n        ],\n        \"semantic_type\": \"\",\n        \"description\": \"\"\n      }\n    },\n    {\n      \"column\": \"archive\",\n      \"properties\": {\n        \"dtype\": \"string\",\n        \"num_unique_values\": 10,\n        \"samples\": [\n          \"http://web.archive.org/web/20140908155422id_/http://www.nytimes.com/1964/03/08/samuel-holmes-zoologist-dead.html\",\n          \"http://web.archive.org/web/20120317163958id_/http://www.forbes.com/2011/01/31/saudi-arabia-al-waleed-ramadan.html\",\n          \"http://web.archive.org/web/20131021172903id_/http://www.theguardian.com/artanddesign/2013/oct/21/china-landscape-painting\"\n        ],\n        \"semantic_type\": \"\",\n        \"description\": \"\"\n      }\n    },\n    {\n      \"column\": \"title\",\n      \"properties\": {\n        \"dtype\": \"string\",\n        \"num_unique_values\": 10,\n        \"samples\": [\n          \"SAMUEL HOLMES, ZOOLOGIST, DEAD\",\n          \"Glimpses: Saudi Arabia, 2008\",\n          \"Made in China: how landscape painting was invented in the east\"\n        ],\n        \"semantic_type\": \"\",\n        \"description\": \"\"\n      }\n    },\n    {\n      \"column\": \"date\",\n      \"properties\": {\n        \"dtype\": \"date\",\n        \"min\": \"1970-08-21 20:58:32.144834\",\n        \"max\": \"1970-08-22 02:41:48.182918\",\n        \"num_unique_values\": 10,\n        \"samples\": [\n          \"1970-08-22 02:41:48.155422\",\n          \"1970-08-21 20:58:37.163958\",\n          \"1970-08-21 23:57:01.172903\"\n        ],\n        \"semantic_type\": \"\",\n        \"description\": \"\"\n      }\n    },\n    {\n      \"column\": \"text\",\n      \"properties\": {\n        \"dtype\": \"string\",\n        \"num_unique_values\": 10,\n        \"samples\": [\n          \"OAKLAND, Calif., March 7 (UPI) \\u2014 Dr. Samuel Jackson Holmes, zoologist and eugenics pioneer, died at Kaiser Hospi\\u00adtal here on Thursday, two days before his 96th birthday.\\n\\nBack in 1924, Dr. Holmes called attention to the preva\\u00adlence of small families among the \\u201chighly intelligent,\\u201d which, he said, tended toward the ex\\u00adtinction of the better endowed stock. In those days intelligence tests, developed during World War I, were accepted as an infallible means of identifying the \\u201chighly intelligent.\\u201d\\n\\nHe called attention to the problem by denouncing higher education as more devastating to the human race than war.\\n\\nIn 1929 he said that the fu\\u00adture would see a larger pro\\u00adportion of Negroes in the North than in the South, a forecast that anticipated the movement of the Negro north but exag\\u00adgerated its scope. He advanced evidence that Southern Negroes were able to adapt to the more rigorous climate of the north.\\n\\nMost of Dr. Holmes's chal\\u00adlenging statements reflected the position of some of the pioneers of eugenics, who were unaware that large gaps existed in their knowledge.\\n\\nIn 1939, as president of the Western division of the Ameri\\u00adcan Association for the Ad\\u00advancement of Science, he urged the substitution of a Darwinian code of morals for the ancient Hebraic and Christian codes.\\n\\nThe Darwinian code, present\\u00aded as an outgrowth of Charles Darwin's theory of evolution, accepts cruelty, lust, deceit, cowardice and selfishness as in\\u00adtrinsic \\u201cvirtues\\u201d but disapproves their abuse, he said.\\n\\nThis idea, not original withDr. Holmes, was developed into a social philosophy called \\u201cso\\u00adcial Darwinism,\\u201d which had a certain vogue in Nazi Germany and other countries but which later fell into disrepute.\\n\\nThis public image tended to obscure the fact that he was one of the world's foremost au\\u00adthorities on zoology and genetics, internationally known for his studies of animal hered\\u00adity and behavior. He was one of the first scientists to recognize that radiation could create monsters.\\n\\nDr. Holmes was born in Henry, Ill. He received his bachelor's and master's degrees in science at the University of California and his Ph.D. in zoology at the University of Chicago in 1897. After a year of teaching in the public schools of California, Dr. Holmes was an instructor in zoology for six years at the University of Mich\\u00adigan.\\n\\nHe then transferred to the University of Wisconsin, where he remained until 1912, when he went to California as an asso\\u00adciate professor. He became pro\\u00adfessor in 1917. Dr. Holmes taught at California, and also at the Marine Biological Labor\\u00adatory at Wood's Hole, until his retirement in 1939.\\n\\nHe married Cecelia WarfieldSkinner in 1909. They had five children, Samuel J., Marion V., Avis C., John W. and Joseph E. Holmes.\\n\\nThis article can be viewed in its original form. Please send questions and feedback to archive_feedback@nytimes.com\",\n          \"I visited Saudi Arabia in September 2008, arriving in Riyadh the day Hurricane Ike smashed into Houston, knocking out power for my wife and two little boys. Nothing I could do about it but watch storm footage on CNN International while drinking non-alcoholic Budweiser (no booze in the kingdom) and listening to the sounds of the muzzein calling Muslims to worship at the mosque behind the Marriott.\\n\\nThat was the same month that the financial crisis hit, and on the day of Lehman Brothers' ( LEHMQ - news - people ) collapse I spent the evening with billionaire Prince Al-Waleed bin Talal at his camp in the desert outside of Riyadh. We sat in the open air, under a starry sky, on an expanse of Persian rugs that must have taken up a quarter-acre. He was attended by a cadre of Bedouin servants who wore little pistols in their belts and continually refilled our little china cups with strong yellow Arabian coffee. A news junkie, the prince had three mega-screen TVs set up across the island of rugs from us. The biggest one in the middle was tuned to CNBC. The others showed pilgrims in Mecca walking around the Kaaba. It was the holy month of Ramadan. As we watched coverage of the financial collapse, Al-Waleed had the awesome idea of text-messaging CNBC's Maria Bartaromo his thoughts on Lehman. I think he was doing it mostly to show off that he had Maria's number in his phone, and I was impressed when she responded to his text 10 minutes later and asked him to be on her show the next day.\\n\\nLater in the evening I watched in disbelief as a line of about 500 Saudi men formed in the darkness, and one by one the men came forward to pay homage to the prince and ask him for some form of charity (money for a car, tuition, dowry, debts, etc). Several young men recited poems to the prince, who all the while continued to watch TV or check his phone. He holds court like this every week, giving away millions in patronage each year. The prince spends a lot of time in the desert and says he doesn't go to sleep until he sees the sky begin to brighten with dawn.\\n\\nA couple days later I found myself in the desert again, this time in the white-leather backseat of a 10-year-old Crown Victoria being driven the four hours from Riyadh to Damman, where I was to tour the headquarters of oil company Saudi Aramco. During Ramadan Saudis are barred from eating or drinking anything from sunup to sundown. But there was no prohibition on rock and roll; the driver, without comment, popped a cassette tape of Aerosmith's greatest hits into the stereo, and we screamed over the pristine blacktop at 90 miles an hour. Finally, when the red ball dipped under the desert horizon, my driver pulled into a truckstop (which, other than oilfield flares and a few camels, was the only sign of life in the desert) and bought us some snacks and water. I had been abstaining from food during the day as well, in part to see how the Saudis did it, and also because there was none for sale until nightfall. A few minutes later the driver pulled off the road to pray. I sat in the parked car and ate the most delicious bag of chips ever, all the while marveling that Aerosmith's \\\"Crazy\\\" was a much better song than I ever remembered. The full moon rose orange.\\n\\nRead more \\\"glimpses\\\" in our On The Road special report.\",\n          \"A detail from Saying Farewell at Xunyang, by Qiu Ying, c1500-50 Photograph: John Lamberton/Nelson-Atkins Museum of Art\\n\\nOn 5 August 1473, a young artist drew the first ever landscape. The date is known precisely because Leonardo da Vinci wrote it on the sheet of paper, as if aware of the revolutionary nature of what he was doing. To look at mountains and trees just for themselves was unprecedented.\\n\\nOr was it? The invention of landscape painting is one of the great moments of European art. Painting nature is a way to get inside yourself. To this day, people enjoy doing watercolours in the outdoors as a form of meditation. Leonardo's discovery of the mystery of nature \\u2013 which you see in all his paintings, with their dreamy rocks and pools \\u2013 is the invention of a new kind of inner life.\\n\\nYet it is a lot less original than we might like to think. There is an uncanny likeness between Leonardo's rocks, trees and rivers and the rocks, trees and rivers that Chinese artists were painting centuries before he was born. It is bizarre: that 1473 drawing actually looks like a reworking of classic Chinese paintings such as Li Gongnian's Winter Evening Landscape. When was that painted? I look at the label in the V&A's new exhibition Masterpieces of Chinese Painting. It says 1120. That's 353 years before the very similar sketch by Leonardo.\\n\\nIt is conventional, nowadays, to pay lip service to the fact that many versions of art exist, that beautiful art comes from all over the world and every way of life. Yet the story of art that most of us absorb \\u2013 as told in The Story of Art by EH Gombrich, first published in 1950 and still the definitive account of art's progress \\u2013 puts European innovation at the centre of the action. All peoples make art, but the west takes it forward.\\n\\nMasterpieces of Chinese Painting is the most devastating refutation of such assumptions I have ever seen. It shows that during the Song dynasty, at a time when Europeans were fighting barbaric crusades and had long forgotten the creativity that flourished in ancient Greece, artists in China were taking painting to heights of sensitivity and poetry that would not be attained elsewhere until the ages of Leonardo \\u2013 or for that matter, when you look at the most radical Chinese touches, Van Gogh.\\n\\nI'd go further. Looking at this show being installed and talking to its curator Zhang Hongxing, I can't resist airing the theory that Leonardo stole the idea of landscape painting from China. Could he somehow have seen Chinese paintings? Might something have reached the west along the Silk Road? Excitedly, I get Leonardo's 1473 drawing up on my iPad and hold it among the 12th-century Chinese landscapes for comparison. The shapes of the hills and trees in Leonardo's sketch perfectly mirror the sugar-loaf peaks and willowy trees in 900-year-old Chinese paintings.\\n\\nZhang's well aware of this idea: it was raised very seriously in the 1950s, he says, but there is no proof. It's a mystery. Nor is Leonardo the only European pioneer of landscape who looks \\\"Chinese\\\". Zhang points out that Pieter Bruegel the Elder is also very \\\"Chinese\\\" looking. This is true. Bruegel's much-loved Hunters in the Snow has all the elements that delighted medieval Chinese landscape painters, including all that snow.\\n\\nBut why did China invent landscape art in the first place? Why did artists begin to depict, not gods and battles as elsewhere, but the grandeur of nature? It has something to do with Buddhism, which spread to China before AD1,000 and inspired a culture of contemplation. It also has to do with the technical achievements of the Song era. The scientific mind that perfected porcelain also looked at nature with a new clarity.\\n\\nOne of the first things you see in the show was actually painted by a Song emperor \\u2013 though it comes with a warning to rulers, for Emperor Huizong's dreamy fascination with art helped to lose him his throne. Indeed, as the curator explains, painting in China has always been associated with retreat and escapism. Not all the works in this exhibition are landscapes. There are pictures of courtesans and the tremendous Nine Dragons, a dazzling mythic vision painted by Chen Rong in 1244. Yet for me, the escapist pursuit of pastoral in China's pioneering landscapes is utterly beguiling. After the Mongols conquered China there was a clear association of art with the rejection of power. Turning their backs on the court, intellectuals created gardens, wrote poetry and painted expressive scenes of wintry trees. They rendered nature in a free, subjective style that anticipated \\u2013 and of course, influenced \\u2013 Van Gogh.\\n\\nPersonally, I am convinced that Leonardo must have got access to the art of China. He was fascinated by the east and once applied for a job in Istanbul, offering to serve the Ottoman empire and praising Allah in a letter that survives. Did all this interest in Asia lead him to some hushed library where he unrolled a silk scroll and saw mountains, cherry blossoms and water?\\n\\nOne thing is certain. Zhang's great exhibition turns the story of art upside down.\"\n        ],\n        \"semantic_type\": \"\",\n        \"description\": \"\"\n      }\n    },\n    {\n      \"column\": \"summary\",\n      \"properties\": {\n        \"dtype\": \"string\",\n        \"num_unique_values\": 10,\n        \"samples\": [\n          \"Holmes, Saml J, 95\",\n          \"Hurricane Ike, Ramadan and the billionaire prince.\",\n          \"The history books say that western Renaissance artists invented landscape painting. Not if you believe a new V&A exhibition of Chinese art, writes Jonathan Jones\"\n        ],\n        \"semantic_type\": \"\",\n        \"description\": \"\"\n      }\n    },\n    {\n      \"column\": \"compression\",\n      \"properties\": {\n        \"dtype\": \"number\",\n        \"std\": 29.86197657235153,\n        \"min\": 2.1,\n        \"max\": 90.5,\n        \"num_unique_values\": 10,\n        \"samples\": [\n          90.5,\n          76.8888888889,\n          37.2592592593\n        ],\n        \"semantic_type\": \"\",\n        \"description\": \"\"\n      }\n    },\n    {\n      \"column\": \"coverage\",\n      \"properties\": {\n        \"dtype\": \"number\",\n        \"std\": 0.24817192384966488,\n        \"min\": 0.0666666667,\n        \"max\": 1.0,\n        \"num_unique_values\": 9,\n        \"samples\": [\n          0.8,\n          1.0,\n          0.6296296296\n        ],\n        \"semantic_type\": \"\",\n        \"description\": \"\"\n      }\n    },\n    {\n      \"column\": \"density\",\n      \"properties\": {\n        \"dtype\": \"number\",\n        \"std\": 0.4020622140220651,\n        \"min\": 0.0666666667,\n        \"max\": 1.4444444444,\n        \"num_unique_values\": 10,\n        \"samples\": [\n          0.8333333333,\n          1.4444444444,\n          1.0\n        ],\n        \"semantic_type\": \"\",\n        \"description\": \"\"\n      }\n    },\n    {\n      \"column\": \"compression_bin\",\n      \"properties\": {\n        \"dtype\": \"category\",\n        \"num_unique_values\": 3,\n        \"samples\": [\n          \"low\",\n          \"high\",\n          \"medium\"\n        ],\n        \"semantic_type\": \"\",\n        \"description\": \"\"\n      }\n    },\n    {\n      \"column\": \"coverage_bin\",\n      \"properties\": {\n        \"dtype\": \"category\",\n        \"num_unique_values\": 3,\n        \"samples\": [\n          \"low\",\n          \"high\",\n          \"medium\"\n        ],\n        \"semantic_type\": \"\",\n        \"description\": \"\"\n      }\n    },\n    {\n      \"column\": \"density_bin\",\n      \"properties\": {\n        \"dtype\": \"category\",\n        \"num_unique_values\": 1,\n        \"samples\": [\n          \"abstractive\"\n        ],\n        \"semantic_type\": \"\",\n        \"description\": \"\"\n      }\n    },\n    {\n      \"column\": \"__index_level_0__\",\n      \"properties\": {\n        \"dtype\": \"number\",\n        \"std\": 8,\n        \"min\": 3,\n        \"max\": 25,\n        \"num_unique_values\": 10,\n        \"samples\": [\n          24\n        ],\n        \"semantic_type\": \"\",\n        \"description\": \"\"\n      }\n    },\n    {\n      \"column\": \"text_clean\",\n      \"properties\": {\n        \"dtype\": \"string\",\n        \"num_unique_values\": 10,\n        \"samples\": [\n          \"OAKLAND Calif. March 7 UPI  Dr. Samuel Jackson Holmes zoologist and eugenics pioneer died at Kaiser Hospital here on Thursday two days before his 96th birthday.Back in 1924 Dr. Holmes called attention to the prevalence of small families among the highly intelligent which he said tended toward the extinction of the better endowed stock. In those days intelligence tests developed during World War I were accepted as an infallible means of identifying the highly intelligent..He called attention to the problem by denouncing higher education as more devastating to the human race than war.In 1929 he said that the future would see a larger proportion of Negroes in the North than in the South a forecast that anticipated the movement of the Negro north but exaggerated its scope. He advanced evidence that Southern Negroes were able to adapt to the more rigorous climate of the north.Most of Dr. Holmess challenging statements reflected the position of some of the pioneers of eugenics who were unaware that large gaps existed in their knowledge.In 1939 as president of the Western division of the American Association for the Advancement of Science he urged the substitution of a Darwinian code of morals for the ancient Hebraic and Christian codes.The Darwinian code presented as an outgrowth of Charles Darwins theory of evolution accepts cruelty lust deceit cowardice and selfishness as intrinsic virtues but disapproves their abuse he said.This idea not original withDr. Holmes was developed into a social philosophy called social Darwinism which had a certain vogue in Nazi Germany and other countries but which later fell into disrepute.This public image tended to obscure the fact that he was one of the worlds foremost authorities on zoology and genetics internationally known for his studies of animal heredity and behavior. He was one of the first scientists to recognize that radiation could create monsters.Dr. Holmes was born in Henry Ill. He received his bachelors and masters degrees in science at the University of California and his Ph.D. in zoology at the University of Chicago in 1897. After a year of teaching in the public schools of California Dr. Holmes was an instructor in zoology for six years at the University of Michigan.He then transferred to the University of Wisconsin where he remained until 1912 when he went to California as an associate professor. He became professor in 1917. Dr. Holmes taught at California and also at the Marine Biological Laboratory at Woods Hole until his retirement in 1939.He married Cecelia WarfieldSkinner in 1909. They had five children Samuel J. Marion V. Avis C. John W. and Joseph E. Holmes.This article can be viewed in its original form. Please send questions and feedback to archive_feedbacknytimes.com\"\n        ],\n        \"semantic_type\": \"\",\n        \"description\": \"\"\n      }\n    },\n    {\n      \"column\": \"summary_clean\",\n      \"properties\": {\n        \"dtype\": \"string\",\n        \"num_unique_values\": 10,\n        \"samples\": [\n          \"Holmes Saml J 95\"\n        ],\n        \"semantic_type\": \"\",\n        \"description\": \"\"\n      }\n    }\n  ]\n}"
            }
          },
          "metadata": {},
          "execution_count": 14
        }
      ]
    },
    {
      "cell_type": "code",
      "source": [
        "eval_df.head(1)"
      ],
      "metadata": {
        "colab": {
          "base_uri": "https://localhost:8080/",
          "height": 223
        },
        "id": "25wI5VS1gfwX",
        "outputId": "7678c72b-afbc-4fcd-d487-6038adfb87b7"
      },
      "execution_count": 15,
      "outputs": [
        {
          "output_type": "execute_result",
          "data": {
            "text/plain": [
              "                                                 url  \\\n",
              "0  http://www.foxsports.com/baseball/xchange/team...   \n",
              "\n",
              "                                             archive  \\\n",
              "0  http://web.archive.org/web/19980117162148id_/h...   \n",
              "\n",
              "                      title                       date  \\\n",
              "0  Pro Sports Xchange notes 1970-08-20 06:01:57.162148   \n",
              "\n",
              "                                                text  \\\n",
              "0  So sayeth Padre general manager Kevin Towers.\\...   \n",
              "\n",
              "                          summary  compression  coverage  density  \\\n",
              "0  SAN DIEGO PADRES team notebook        209.0       0.8      1.2   \n",
              "\n",
              "  compression_bin coverage_bin  density_bin  __index_level_0__  \\\n",
              "0            high       medium  abstractive                  0   \n",
              "\n",
              "                                          text_clean  \\\n",
              "0  So sayeth Padre general manager Kevin Towers.L...   \n",
              "\n",
              "                    summary_clean  \n",
              "0  SAN DIEGO PADRES team notebook  "
            ],
            "text/html": [
              "\n",
              "  <div id=\"df-0da279c1-bcd5-45b9-b2cc-c21d6ad0a123\" class=\"colab-df-container\">\n",
              "    <div>\n",
              "<style scoped>\n",
              "    .dataframe tbody tr th:only-of-type {\n",
              "        vertical-align: middle;\n",
              "    }\n",
              "\n",
              "    .dataframe tbody tr th {\n",
              "        vertical-align: top;\n",
              "    }\n",
              "\n",
              "    .dataframe thead th {\n",
              "        text-align: right;\n",
              "    }\n",
              "</style>\n",
              "<table border=\"1\" class=\"dataframe\">\n",
              "  <thead>\n",
              "    <tr style=\"text-align: right;\">\n",
              "      <th></th>\n",
              "      <th>url</th>\n",
              "      <th>archive</th>\n",
              "      <th>title</th>\n",
              "      <th>date</th>\n",
              "      <th>text</th>\n",
              "      <th>summary</th>\n",
              "      <th>compression</th>\n",
              "      <th>coverage</th>\n",
              "      <th>density</th>\n",
              "      <th>compression_bin</th>\n",
              "      <th>coverage_bin</th>\n",
              "      <th>density_bin</th>\n",
              "      <th>__index_level_0__</th>\n",
              "      <th>text_clean</th>\n",
              "      <th>summary_clean</th>\n",
              "    </tr>\n",
              "  </thead>\n",
              "  <tbody>\n",
              "    <tr>\n",
              "      <th>0</th>\n",
              "      <td>http://www.foxsports.com/baseball/xchange/team...</td>\n",
              "      <td>http://web.archive.org/web/19980117162148id_/h...</td>\n",
              "      <td>Pro Sports Xchange notes</td>\n",
              "      <td>1970-08-20 06:01:57.162148</td>\n",
              "      <td>So sayeth Padre general manager Kevin Towers.\\...</td>\n",
              "      <td>SAN DIEGO PADRES team notebook</td>\n",
              "      <td>209.0</td>\n",
              "      <td>0.8</td>\n",
              "      <td>1.2</td>\n",
              "      <td>high</td>\n",
              "      <td>medium</td>\n",
              "      <td>abstractive</td>\n",
              "      <td>0</td>\n",
              "      <td>So sayeth Padre general manager Kevin Towers.L...</td>\n",
              "      <td>SAN DIEGO PADRES team notebook</td>\n",
              "    </tr>\n",
              "  </tbody>\n",
              "</table>\n",
              "</div>\n",
              "    <div class=\"colab-df-buttons\">\n",
              "\n",
              "  <div class=\"colab-df-container\">\n",
              "    <button class=\"colab-df-convert\" onclick=\"convertToInteractive('df-0da279c1-bcd5-45b9-b2cc-c21d6ad0a123')\"\n",
              "            title=\"Convert this dataframe to an interactive table.\"\n",
              "            style=\"display:none;\">\n",
              "\n",
              "  <svg xmlns=\"http://www.w3.org/2000/svg\" height=\"24px\" viewBox=\"0 -960 960 960\">\n",
              "    <path d=\"M120-120v-720h720v720H120Zm60-500h600v-160H180v160Zm220 220h160v-160H400v160Zm0 220h160v-160H400v160ZM180-400h160v-160H180v160Zm440 0h160v-160H620v160ZM180-180h160v-160H180v160Zm440 0h160v-160H620v160Z\"/>\n",
              "  </svg>\n",
              "    </button>\n",
              "\n",
              "  <style>\n",
              "    .colab-df-container {\n",
              "      display:flex;\n",
              "      gap: 12px;\n",
              "    }\n",
              "\n",
              "    .colab-df-convert {\n",
              "      background-color: #E8F0FE;\n",
              "      border: none;\n",
              "      border-radius: 50%;\n",
              "      cursor: pointer;\n",
              "      display: none;\n",
              "      fill: #1967D2;\n",
              "      height: 32px;\n",
              "      padding: 0 0 0 0;\n",
              "      width: 32px;\n",
              "    }\n",
              "\n",
              "    .colab-df-convert:hover {\n",
              "      background-color: #E2EBFA;\n",
              "      box-shadow: 0px 1px 2px rgba(60, 64, 67, 0.3), 0px 1px 3px 1px rgba(60, 64, 67, 0.15);\n",
              "      fill: #174EA6;\n",
              "    }\n",
              "\n",
              "    .colab-df-buttons div {\n",
              "      margin-bottom: 4px;\n",
              "    }\n",
              "\n",
              "    [theme=dark] .colab-df-convert {\n",
              "      background-color: #3B4455;\n",
              "      fill: #D2E3FC;\n",
              "    }\n",
              "\n",
              "    [theme=dark] .colab-df-convert:hover {\n",
              "      background-color: #434B5C;\n",
              "      box-shadow: 0px 1px 3px 1px rgba(0, 0, 0, 0.15);\n",
              "      filter: drop-shadow(0px 1px 2px rgba(0, 0, 0, 0.3));\n",
              "      fill: #FFFFFF;\n",
              "    }\n",
              "  </style>\n",
              "\n",
              "    <script>\n",
              "      const buttonEl =\n",
              "        document.querySelector('#df-0da279c1-bcd5-45b9-b2cc-c21d6ad0a123 button.colab-df-convert');\n",
              "      buttonEl.style.display =\n",
              "        google.colab.kernel.accessAllowed ? 'block' : 'none';\n",
              "\n",
              "      async function convertToInteractive(key) {\n",
              "        const element = document.querySelector('#df-0da279c1-bcd5-45b9-b2cc-c21d6ad0a123');\n",
              "        const dataTable =\n",
              "          await google.colab.kernel.invokeFunction('convertToInteractive',\n",
              "                                                    [key], {});\n",
              "        if (!dataTable) return;\n",
              "\n",
              "        const docLinkHtml = 'Like what you see? Visit the ' +\n",
              "          '<a target=\"_blank\" href=https://colab.research.google.com/notebooks/data_table.ipynb>data table notebook</a>'\n",
              "          + ' to learn more about interactive tables.';\n",
              "        element.innerHTML = '';\n",
              "        dataTable['output_type'] = 'display_data';\n",
              "        await google.colab.output.renderOutput(dataTable, element);\n",
              "        const docLink = document.createElement('div');\n",
              "        docLink.innerHTML = docLinkHtml;\n",
              "        element.appendChild(docLink);\n",
              "      }\n",
              "    </script>\n",
              "  </div>\n",
              "\n",
              "\n",
              "    </div>\n",
              "  </div>\n"
            ],
            "application/vnd.google.colaboratory.intrinsic+json": {
              "type": "dataframe",
              "variable_name": "eval_df",
              "summary": "{\n  \"name\": \"eval_df\",\n  \"rows\": 10,\n  \"fields\": [\n    {\n      \"column\": \"url\",\n      \"properties\": {\n        \"dtype\": \"string\",\n        \"num_unique_values\": 10,\n        \"samples\": [\n          \"http://www.nbc.com/a-to-z/blog/headheart-a-to-z-blog/realist-or-romantic-which-are-you\",\n          \"http://mashable.com/2010/10/16/twitter-top-topics-chart/\",\n          \"http://www.msnbc.com/all/all-agenda-fear-black-santa\"\n        ],\n        \"semantic_type\": \"\",\n        \"description\": \"\"\n      }\n    },\n    {\n      \"column\": \"archive\",\n      \"properties\": {\n        \"dtype\": \"string\",\n        \"num_unique_values\": 10,\n        \"samples\": [\n          \"http://web.archive.org/web/20141006145642id_/http://www.nbc.com:80/a-to-z/blog/headheart-a-to-z-blog/realist-or-romantic-which-are-you\",\n          \"http://web.archive.org/web/20120123100903id_/http://mashable.com/2010/10/16/twitter-top-topics-chart/\",\n          \"http://web.archive.org/web/20131216084312id_/http://www.msnbc.com:80/all/all-agenda-fear-black-santa\"\n        ],\n        \"semantic_type\": \"\",\n        \"description\": \"\"\n      }\n    },\n    {\n      \"column\": \"title\",\n      \"properties\": {\n        \"dtype\": \"string\",\n        \"num_unique_values\": 10,\n        \"samples\": [\n          \"Realist or Romantic: Which Are You?\",\n          \"Top 10 Twitter Trends This Week [CHART]\",\n          \"All In Agenda: Fear of a black Santa\"\n        ],\n        \"semantic_type\": \"\",\n        \"description\": \"\"\n      }\n    },\n    {\n      \"column\": \"date\",\n      \"properties\": {\n        \"dtype\": \"date\",\n        \"min\": \"1970-08-20 06:01:57.162148\",\n        \"max\": \"1970-08-22 02:43:35.014008\",\n        \"num_unique_values\": 10,\n        \"samples\": [\n          \"1970-08-22 02:43:26.145642\",\n          \"1970-08-21 20:55:23.100903\",\n          \"1970-08-22 00:00:16.084312\"\n        ],\n        \"semantic_type\": \"\",\n        \"description\": \"\"\n      }\n    },\n    {\n      \"column\": \"text\",\n      \"properties\": {\n        \"dtype\": \"string\",\n        \"num_unique_values\": 10,\n        \"samples\": [\n          \"FROM THE HEAD Whoever said that it's better to have loved and lost than to have never loved at all, clearly hasn't experienced dating in the modern age. It's a crazy quilt of heartache stories waiting to happen out there, and the battle scars don\\u2019t heal so quickly. So excuse me if I'm more than a little reluctant to \\\"listen to my heart.\\\" It's not my heart but my brain that's telling me to get a private investigator's license so I can run a criminal history check on the slew of \\\"Mr. Rights\\\" my friends seem to want me to go out with.\\n\\nOK, being too cautious might leave me a little lonely at times, but following friends' advice to \\\"be spontaneous\\\" has pretty much been a burn every time. If \\\"going with the flow\\\" means wading through a succession of self-centered hipsters, hopeless romantics/stalkers and momma's boys, I'm happy to listen to my head and stay home. Online dating? It's like a masquerade ball out there, with impostors everywhere trumping themselves up as serious when they're usually just out for a good time.\\n\\nThe answer for me is to take a more considered approach. Let a few responsible friends know you're looking to meet someone. When they've got someone \\\"who'd be perfect for you,\\\" ask questions - lots of them. Age? Dating history? Career? College degree? Family? Pets? You really can't be too curious or too careful. Caveat emptor; this is someone you may be trusting with your heart, your happiness and your life.\\n\\nWhy be cautious? Because the stakes couldn't be higher. Give me your comments below if you agree - or disagree.\\n\\nFROM THE HEART Just don't call me a hopeless romantic. There's no such thing. By definition, the belief that there's soulmate out there for each of us is the very essence of hope. And rest assured, destiny has someone in store for you and for me, I just know it. But like a lot of things in life, you've got to believe.\\n\\nWhen it comes to romance, believing means not being afraid: afraid to misstep, to misspeak, to misunderstand. Not being afraid that it just might not work out. It means not retreating, not hiding from who you are and how you feel. And it means not checking off a mental laundry list every time you meet someone: Tall enough? Nice eyes? Same taste in music? Yankees fan? If you look at everyone you meet with a list of nonstarters in mind, you'll almost surely never find someone to start a life together with.\\n\\nWe've all heard that opposites attract. How in the world would ever connect with someone different from yourself if you write off everyone who doesn't meet your pre-established \\\"standards?\\\"\\n\\nFor sure, believing in love, in fate, in destiny means taking a risk. But the risk of not believing is even higher.\\n\\nHow do you see love: something to be considered and calculated, or something mysterious to be embraced whenever and wherever it comes? Give me your comments below if you agree - or disagree.\",\n          \"Remember when everyone on Earth was glued to Twitter (and their TVs, of course) as 33 Chilean miners were hoisted from captivity after 69 days underground? If you thought that story would top this week\\u2019s Twitter trends chart, think again, pal.\\n\\nTurns out, nothing can top the trend power of Korean boy band Super Junior \\u2014 specifically the singer Kim Hee-chul, whose name, you may have noticed, rarely left the top of the trending topics this week. With Bieber-esque panache, Hee-chul launched Super Junior to the top of this week\\u2019s chart, leaving the Chilean miners \\u201cdown below\\u201d (too soon?) at number two.\\n\\nAnd there\\u2019s good news this week for tweeters who like their trends highbrow. News around the recently announced Nobel Prize winners continued to trend strongly for the second week in a row, moving the topic up from fourth to third.\\n\\nCurious about the rest of this week\\u2019s top Twitter topics? Scroll on down to the complete chart below, which is compiled by our friends over at What The Trend. Because this is a topical list, hashtag memes and games have been omitted from the chart.\\n\\nYou can check past Twitter trends in our Top Twitter Topics section as well as read more about this past week\\u2019s trends on What The Trend.\\n\\nDavid Arquette / Courtney Cox\\n\\nHip Hop Awards (TV Show)\\n\\nImage courtesy of iStockphoto, ricardoinfante\",\n          \"1. Boehner is at his wits\\u2019 end with the tea party, and today he let the world know. After conservative groups tried to persuade Republican lawmakers to vote against the budget deal, the Speaker told reporters that they have \\u201clost all credibility.\\u201d Have they? Chris Hayes discusses with Buzzfeed\\u2019s John Stanton, Connecticut Representative Rosa DeLauro, and Contributing Writer to Essence Magazine Dr. Julianne Malveaux.\\n\\n2. Some folks have got the fear. Fear of a black Santa. Fox\\u2019s Megyn Kelly told her viewers that \\u201cSanta is white\\u201d and that \\u201cJesus was a white man too.\\u201d Kelly was responding to an article written by Aisha Harris, who argues for a more expansive view of Santa. Chris Hayes is joined by Harris in studio. In the meantime, watch the video.\\n\\n3. Michigan lawmakers passed a bill requiring women with private insurance plans to purchase an additional rider for abortions. The bill prevailed despite a veto by the state\\u2019s Republican governor, Rick Snyder.\\n\\n3. Matt Yglesias from Slate argues: \\u201cFlying is safer, cheaper, and better than ever. And luggage fees are great.\\u201d Joining Chris Hayes to discuss the joys of air travel are President of FlyersRights.org, Paul Hudson, Comedian Lizz Winstead, Slate\\u2019s Matt Yglesias.\"\n        ],\n        \"semantic_type\": \"\",\n        \"description\": \"\"\n      }\n    },\n    {\n      \"column\": \"summary\",\n      \"properties\": {\n        \"dtype\": \"string\",\n        \"num_unique_values\": 10,\n        \"samples\": [\n          \"Realist or Romantic: Which Are You? */\",\n          \"Check out the chart to find out what the world was talking about on Twitter this past week.\",\n          \"All In Agenda for Thursday, November 12\"\n        ],\n        \"semantic_type\": \"\",\n        \"description\": \"\"\n      }\n    },\n    {\n      \"column\": \"compression\",\n      \"properties\": {\n        \"dtype\": \"number\",\n        \"std\": 57.383514198887205,\n        \"min\": 14.6315789474,\n        \"max\": 209.0,\n        \"num_unique_values\": 10,\n        \"samples\": [\n          63.1,\n          14.6315789474,\n          30.875\n        ],\n        \"semantic_type\": \"\",\n        \"description\": \"\"\n      }\n    },\n    {\n      \"column\": \"coverage\",\n      \"properties\": {\n        \"dtype\": \"number\",\n        \"std\": 0.13711738720083397,\n        \"min\": 0.5,\n        \"max\": 0.8823529412000001,\n        \"num_unique_values\": 9,\n        \"samples\": [\n          0.7000000000000001,\n          0.8421052632,\n          0.5\n        ],\n        \"semantic_type\": \"\",\n        \"description\": \"\"\n      }\n    },\n    {\n      \"column\": \"density\",\n      \"properties\": {\n        \"dtype\": \"number\",\n        \"std\": 0.3294090212718253,\n        \"min\": 0.5,\n        \"max\": 1.3684210526,\n        \"num_unique_values\": 9,\n        \"samples\": [\n          0.7000000000000001,\n          1.3684210526,\n          0.5\n        ],\n        \"semantic_type\": \"\",\n        \"description\": \"\"\n      }\n    },\n    {\n      \"column\": \"compression_bin\",\n      \"properties\": {\n        \"dtype\": \"category\",\n        \"num_unique_values\": 3,\n        \"samples\": [\n          \"high\",\n          \"low\",\n          \"medium\"\n        ],\n        \"semantic_type\": \"\",\n        \"description\": \"\"\n      }\n    },\n    {\n      \"column\": \"coverage_bin\",\n      \"properties\": {\n        \"dtype\": \"category\",\n        \"num_unique_values\": 2,\n        \"samples\": [\n          \"low\",\n          \"medium\"\n        ],\n        \"semantic_type\": \"\",\n        \"description\": \"\"\n      }\n    },\n    {\n      \"column\": \"density_bin\",\n      \"properties\": {\n        \"dtype\": \"category\",\n        \"num_unique_values\": 1,\n        \"samples\": [\n          \"abstractive\"\n        ],\n        \"semantic_type\": \"\",\n        \"description\": \"\"\n      }\n    },\n    {\n      \"column\": \"__index_level_0__\",\n      \"properties\": {\n        \"dtype\": \"number\",\n        \"std\": 5,\n        \"min\": 0,\n        \"max\": 17,\n        \"num_unique_values\": 10,\n        \"samples\": [\n          16\n        ],\n        \"semantic_type\": \"\",\n        \"description\": \"\"\n      }\n    },\n    {\n      \"column\": \"text_clean\",\n      \"properties\": {\n        \"dtype\": \"string\",\n        \"num_unique_values\": 10,\n        \"samples\": [\n          \"FROM THE HEAD Whoever said that its better to have loved and lost than to have never loved at all clearly hasnt experienced dating in the modern age. Its a crazy quilt of heartache stories waiting to happen out there and the battle scars dont heal so quickly. So excuse me if Im more than a little reluctant to listen to my heart. Its not my heart but my brain thats telling me to get a private investigators license so I can run a criminal history check on the slew of Mr. Rights my friends seem to want me to go out with.OK being too cautious might leave me a little lonely at times but following friends advice to be spontaneous has pretty much been a burn every time. If going with the flow means wading through a succession of selfcentered hipsters hopeless romanticsstalkers and mommas boys Im happy to listen to my head and stay home. Online dating Its like a masquerade ball out there with impostors everywhere trumping themselves up as serious when theyre usually just out for a good time.The answer for me is to take a more considered approach. Let a few responsible friends know youre looking to meet someone. When theyve got someone whod be perfect for you ask questions  lots of them. Age Dating history Career College degree Family Pets You really cant be too curious or too careful. Caveat emptor this is someone you may be trusting with your heart your happiness and your life.Why be cautious Because the stakes couldnt be higher. Give me your comments below if you agree  or disagree.FROM THE HEART Just dont call me a hopeless romantic. Theres no such thing. By definition the belief that theres soulmate out there for each of us is the very essence of hope. And rest assured destiny has someone in store for you and for me I just know it. But like a lot of things in life youve got to believe.When it comes to romance believing means not being afraid afraid to misstep to misspeak to misunderstand. Not being afraid that it just might not work out. It means not retreating not hiding from who you are and how you feel. And it means not checking off a mental laundry list every time you meet someone Tall enough Nice eyes Same taste in music Yankees fan If you look at everyone you meet with a list of nonstarters in mind youll almost surely never find someone to start a life together with.Weve all heard that opposites attract. How in the world would ever connect with someone different from yourself if you write off everyone who doesnt meet your preestablished standards.For sure believing in love in fate in destiny means taking a risk. But the risk of not believing is even higher.How do you see love something to be considered and calculated or something mysterious to be embraced whenever and wherever it comes Give me your comments below if you agree  or disagree.\"\n        ],\n        \"semantic_type\": \"\",\n        \"description\": \"\"\n      }\n    },\n    {\n      \"column\": \"summary_clean\",\n      \"properties\": {\n        \"dtype\": \"string\",\n        \"num_unique_values\": 10,\n        \"samples\": [\n          \"Realist or Romantic Which Are You \"\n        ],\n        \"semantic_type\": \"\",\n        \"description\": \"\"\n      }\n    }\n  ]\n}"
            }
          },
          "metadata": {},
          "execution_count": 15
        }
      ]
    },
    {
      "cell_type": "code",
      "source": [
        "train_dataset = Dataset.from_pandas(train_df[['text_clean','summary_clean']])\n",
        "test_dataset = Dataset.from_pandas(test_df[['text_clean','summary_clean']])\n",
        "eval_dataset = Dataset.from_pandas(eval_df[['text_clean','summary_clean']])"
      ],
      "metadata": {
        "id": "gyDLuNQn4Bp2"
      },
      "execution_count": 16,
      "outputs": []
    },
    {
      "cell_type": "code",
      "source": [
        "def batch_tokenize_preprocess(batch, tokenizer, max_source_length, max_target_length):\n",
        "  text, summary = batch[\"text_clean\"], batch[\"summary_clean\"]\n",
        "  text_tokenized = tokenizer(text, max_length=max_source_length, truncation=True)\n",
        "  summary_tokenized = tokenizer(summary, max_length=max_target_length, truncation=True)\n",
        "  batch = {k: v for k, v in text_tokenized.items()}\n",
        "  batch[\"labels\"] = [\n",
        "      -100 if token == tokenizer.pad_token_id else token\n",
        "      for token in summary_tokenized[\"input_ids\"]\n",
        "  ]\n",
        "  return batch"
      ],
      "metadata": {
        "id": "8w59RBh15n0c"
      },
      "execution_count": 17,
      "outputs": []
    },
    {
      "cell_type": "code",
      "source": [
        "train_dataset"
      ],
      "metadata": {
        "id": "X5HZFsuZ1duJ",
        "outputId": "974b4d7f-000a-481f-f0df-55bfde108dec",
        "colab": {
          "base_uri": "https://localhost:8080/"
        }
      },
      "execution_count": 18,
      "outputs": [
        {
          "output_type": "execute_result",
          "data": {
            "text/plain": [
              "Dataset({\n",
              "    features: ['text_clean', 'summary_clean', '__index_level_0__'],\n",
              "    num_rows: 10\n",
              "})"
            ]
          },
          "metadata": {},
          "execution_count": 18
        }
      ]
    },
    {
      "cell_type": "code",
      "source": [
        "train_data = train_dataset.map(\n",
        "    lambda batch: batch_tokenize_preprocess(\n",
        "        batch, tokenizer, encoder_max_length, decoder_max_length\n",
        "    ),\n",
        "    batched=True,\n",
        "    remove_columns=train_dataset.column_names,\n",
        ")\n",
        "\n",
        "test_data = test_dataset.map(\n",
        "    lambda batch: batch_tokenize_preprocess(\n",
        "        batch, tokenizer, encoder_max_length, decoder_max_length\n",
        "    ),\n",
        "    batched=True,\n",
        "    remove_columns=test_dataset.column_names,\n",
        ")\n",
        "\n",
        "eval_data = eval_dataset.map(\n",
        "    lambda batch: batch_tokenize_preprocess(\n",
        "        batch, tokenizer, encoder_max_length, decoder_max_length\n",
        "    ),\n",
        "    batched=True,\n",
        "    remove_columns=eval_dataset.column_names,\n",
        ")\n"
      ],
      "metadata": {
        "id": "AxZq4eIi2tro",
        "outputId": "dfff927c-91b7-42e4-8633-8fd678631cdc",
        "colab": {
          "base_uri": "https://localhost:8080/",
          "height": 133,
          "referenced_widgets": [
            "82755b866009401a8155aa56a0668a51",
            "da28ce03235f4fc7bbaf0fd9992210c1",
            "5001d549126e441f8073639670cb6fd8",
            "b61fddc3619e4adea1f203f129c18a1e",
            "3025af8584494a63917bbf1789e7fcd6",
            "9a465a3d3bc54aa4bc2bfb52df3aae6c",
            "772e70f8bdd9430486f2813badb7ac06",
            "f8ff3edfe3a0493ab0713e4cb219ab0c",
            "5cc408f472b84b2aa8b2b033aab0f0e5",
            "16f4ce99dc1045b496805327e96452a9",
            "28ea0fe2f5e04bd3beeb4ff6bc494e96",
            "21a72ecb915e4d1c91919b2d62b1d030",
            "42eb28f8acb1427aa1ff6433ee232f50",
            "efcd92fae44b45369e8217dcaff53e1f",
            "fc74b6c44934407abb43f841ee5b0f0c",
            "01fe12f748754f75a440eea7e2407150",
            "9f1e5ef3f49745889fcf5c51acac31e6",
            "e669c40cd3594bb99e74c9c281b14426",
            "398da9c576464ba5bc119c80743ccfe3",
            "63a761164cdf43c89efe95ab88ea36fe",
            "884ed84e8cfc40a296e4099a596651da",
            "d0189f4c1c6840c1a9f22d0dab04f14e",
            "f587d02e00294275b938b8cec20dac76",
            "9c656e5c97194be6be6deb3783c5f173",
            "e04628e035f34d719881ee126c1b448b",
            "934ce098c3d84d0ab3fb3d1c01eb4257",
            "32217b02deda44758ad4b8f0d477054d",
            "7f12a0a1b4a34a63a49719b060de93aa",
            "1b14fbdbaca9462284a9ca4e9b2fff6b",
            "e9ded8905f0744ffbaee8e1b4e842679",
            "66b311b53fc04345ac47f2d472924dbf",
            "6129c8e6e200441487fdd6e255ce1ec0",
            "4499b8e67d0d46b3a2c8cb786105ff4d"
          ]
        }
      },
      "execution_count": 19,
      "outputs": [
        {
          "output_type": "display_data",
          "data": {
            "text/plain": [
              "Map:   0%|          | 0/10 [00:00<?, ? examples/s]"
            ],
            "application/vnd.jupyter.widget-view+json": {
              "version_major": 2,
              "version_minor": 0,
              "model_id": "82755b866009401a8155aa56a0668a51"
            }
          },
          "metadata": {}
        },
        {
          "output_type": "display_data",
          "data": {
            "text/plain": [
              "Map:   0%|          | 0/10 [00:00<?, ? examples/s]"
            ],
            "application/vnd.jupyter.widget-view+json": {
              "version_major": 2,
              "version_minor": 0,
              "model_id": "21a72ecb915e4d1c91919b2d62b1d030"
            }
          },
          "metadata": {}
        },
        {
          "output_type": "display_data",
          "data": {
            "text/plain": [
              "Map:   0%|          | 0/10 [00:00<?, ? examples/s]"
            ],
            "application/vnd.jupyter.widget-view+json": {
              "version_major": 2,
              "version_minor": 0,
              "model_id": "f587d02e00294275b938b8cec20dac76"
            }
          },
          "metadata": {}
        }
      ]
    },
    {
      "cell_type": "code",
      "source": [
        "# Borrowed from https://github.com/huggingface/transformers/blob/master/examples/seq2seq/run_summarization.py\n",
        "\n",
        "nltk.download(\"punkt\", quiet=True)\n",
        "\n",
        "# metric = datasets.load_metric(\"rouge\")\n",
        "metric = evaluate.load(\"rouge\")\n",
        "\n",
        "\n",
        "def postprocess_text(preds, labels):\n",
        "    print(\"preds\",preds)\n",
        "    print(\"labels\",labels)\n",
        "    preds = [pred.strip() for pred in preds]\n",
        "    labels = [label.strip() for label in labels]\n",
        "\n",
        "    # rougeLSum expects newline after each sentence\n",
        "    preds = [\"\\n\".join(nltk.sent_tokenize(pred)) for pred in preds]\n",
        "    labels = [\"\\n\".join(nltk.sent_tokenize(label)) for label in labels]\n",
        "    print(\"\\n\\n\")\n",
        "    print(\"preds\",preds)\n",
        "    print(\"labels\",labels)\n",
        "    return preds, labels\n",
        "\n",
        "\n",
        "def compute_metrics(eval_preds):\n",
        "    print(\"eval_preds\",eval_preds)\n",
        "    preds, labels = eval_preds\n",
        "    print(\"preds\",preds)\n",
        "    print(\"labels\",labels)\n",
        "    if isinstance(preds, tuple):\n",
        "        preds = preds[0]\n",
        "    decoded_preds = tokenizer.batch_decode(preds, skip_special_tokens=True)\n",
        "    print(\"decoded_preds\",decoded_preds)\n",
        "    # Replace -100 in the labels as we can't decode them.\n",
        "    labels = np.where(labels != -100, labels, tokenizer.pad_token_id)\n",
        "    print(\"labels\",labels)\n",
        "    decoded_labels = tokenizer.batch_decode(labels, skip_special_tokens=True)\n",
        "    print(\"decoded_labels\",decoded_labels)\n",
        "\n",
        "    # Some simple post-processing\n",
        "    decoded_preds, decoded_labels = postprocess_text(decoded_preds, decoded_labels)\n",
        "    print(\"decoded_preds\",decoded_preds)\n",
        "    print(\"decoded_labels\",decoded_labels)\n",
        "    result = metric.compute(\n",
        "        predictions=decoded_preds, references=decoded_labels, use_stemmer=True\n",
        "    )\n",
        "    print(\"result\",result)\n",
        "    # Extract a few results from ROUGE\n",
        "    # result = {key: value.mid.fmeasure * 100 for key, value in result.items()}\n",
        "    esult = {key: value * 100 for key, value in result.items()}\n",
        "    print(\"result\",esult)\n",
        "    prediction_lens = [\n",
        "        np.count_nonzero(pred != tokenizer.pad_token_id) for pred in preds\n",
        "    ]\n",
        "    print(\"prediction_lens\",prediction_lens)\n",
        "    result[\"gen_len\"] = np.mean(prediction_lens)\n",
        "    result = {k: round(v, 4) for k, v in result.items()}\n",
        "    print(\"result\",result)\n",
        "    return result"
      ],
      "metadata": {
        "id": "vqkXcGLN54jX",
        "outputId": "96d151bc-a375-4af2-a933-7bed0b67179e",
        "colab": {
          "base_uri": "https://localhost:8080/",
          "height": 69,
          "referenced_widgets": [
            "67691184378a460fabbaa9deffbf2942",
            "1c140e47458344daa17ce2135969ab66",
            "412ccc11949e4e7493ba9add45c32ac0",
            "27e7a671a85d4771899b7a39021798b3",
            "7e153a93915a4e0887827d46f7f6c42d",
            "78538f7b0f544cb29717a61ff6243ba8",
            "4348ac706dad4b6cbc6f4e3f4f61a625",
            "bc5ed0f6efbd43e8b94f1738a6eeb025",
            "4e05224098c24064bec6be13e8195c89",
            "1b01b2e24f664d2799a03bf5bca74d38",
            "55a1ef07e4a247d7bad3ffabd3e016a1"
          ]
        }
      },
      "execution_count": 20,
      "outputs": [
        {
          "output_type": "display_data",
          "data": {
            "text/plain": [
              "Downloading builder script:   0%|          | 0.00/6.27k [00:00<?, ?B/s]"
            ],
            "application/vnd.jupyter.widget-view+json": {
              "version_major": 2,
              "version_minor": 0,
              "model_id": "67691184378a460fabbaa9deffbf2942"
            }
          },
          "metadata": {}
        }
      ]
    },
    {
      "cell_type": "code",
      "source": [
        "training_args = Seq2SeqTrainingArguments(\n",
        "    output_dir=\"results\",\n",
        "    num_train_epochs=1,  # demo\n",
        "    do_train=True,\n",
        "    do_eval=True,\n",
        "    per_device_train_batch_size=4,  # demo\n",
        "    per_device_eval_batch_size=4,\n",
        "    learning_rate=3e-05,\n",
        "    warmup_steps=500,\n",
        "    weight_decay=0.1,\n",
        "    label_smoothing_factor=0.1,\n",
        "    predict_with_generate=True,\n",
        "    logging_dir=\"logs\",\n",
        "    logging_steps=50,\n",
        "    save_total_limit=3,\n",
        ")\n",
        "\n",
        "data_collator = DataCollatorForSeq2Seq(tokenizer, model=model)\n",
        "\n",
        "trainer = Seq2SeqTrainer(\n",
        "    model=model,\n",
        "    args=training_args,\n",
        "    data_collator=data_collator,\n",
        "    train_dataset=train_data,\n",
        "    eval_dataset=eval_data,\n",
        "    tokenizer=tokenizer,\n",
        "    compute_metrics=compute_metrics,\n",
        ")"
      ],
      "metadata": {
        "id": "KoCAVHM0_GPD"
      },
      "execution_count": 21,
      "outputs": []
    },
    {
      "cell_type": "code",
      "source": [
        "if WANDB_INTEGRATION:\n",
        "    wandb_run = wandb.init(\n",
        "        project=\"bart-large-cnn_newsroom\",\n",
        "        config={\n",
        "            \"per_device_train_batch_size\": training_args.per_device_train_batch_size,\n",
        "            \"learning_rate\": training_args.learning_rate,\n",
        "            \"dataset\": \"newsroom \",\n",
        "            \"model_name\": model_name,\n",
        "        },\n",
        "    )\n",
        "\n",
        "    now = datetime.now()\n",
        "    current_time = now.strftime(\"%H%M%S\")\n",
        "    wandb_run.name = \"run_\" + current_time"
      ],
      "metadata": {
        "colab": {
          "base_uri": "https://localhost:8080/",
          "height": 144
        },
        "id": "DYlaphgGorhd",
        "outputId": "82ac127e-1ff2-4e88-deb5-a76b16038d58"
      },
      "execution_count": 22,
      "outputs": [
        {
          "output_type": "stream",
          "name": "stderr",
          "text": [
            "\u001b[34m\u001b[1mwandb\u001b[0m: Currently logged in as: \u001b[33mlogeshkc\u001b[0m (\u001b[33mlogeshkc-student\u001b[0m). Use \u001b[1m`wandb login --relogin`\u001b[0m to force relogin\n"
          ]
        },
        {
          "output_type": "display_data",
          "data": {
            "text/plain": [
              "<IPython.core.display.HTML object>"
            ],
            "text/html": [
              "Tracking run with wandb version 0.18.1"
            ]
          },
          "metadata": {}
        },
        {
          "output_type": "display_data",
          "data": {
            "text/plain": [
              "<IPython.core.display.HTML object>"
            ],
            "text/html": [
              "Run data is saved locally in <code>/content/wandb/run-20240918_060439-n8cpds8y</code>"
            ]
          },
          "metadata": {}
        },
        {
          "output_type": "display_data",
          "data": {
            "text/plain": [
              "<IPython.core.display.HTML object>"
            ],
            "text/html": [
              "Syncing run <strong><a href='https://wandb.ai/logeshkc-student/bart-large-cnn_newsroom/runs/n8cpds8y' target=\"_blank\">lemon-paper-5</a></strong> to <a href='https://wandb.ai/logeshkc-student/bart-large-cnn_newsroom' target=\"_blank\">Weights & Biases</a> (<a href='https://wandb.me/run' target=\"_blank\">docs</a>)<br/>"
            ]
          },
          "metadata": {}
        },
        {
          "output_type": "display_data",
          "data": {
            "text/plain": [
              "<IPython.core.display.HTML object>"
            ],
            "text/html": [
              " View project at <a href='https://wandb.ai/logeshkc-student/bart-large-cnn_newsroom' target=\"_blank\">https://wandb.ai/logeshkc-student/bart-large-cnn_newsroom</a>"
            ]
          },
          "metadata": {}
        },
        {
          "output_type": "display_data",
          "data": {
            "text/plain": [
              "<IPython.core.display.HTML object>"
            ],
            "text/html": [
              " View run at <a href='https://wandb.ai/logeshkc-student/bart-large-cnn_newsroom/runs/n8cpds8y' target=\"_blank\">https://wandb.ai/logeshkc-student/bart-large-cnn_newsroom/runs/n8cpds8y</a>"
            ]
          },
          "metadata": {}
        }
      ]
    },
    {
      "cell_type": "code",
      "source": [
        "eval_results_before = trainer.evaluate()"
      ],
      "metadata": {
        "colab": {
          "base_uri": "https://localhost:8080/",
          "height": 764
        },
        "id": "aCcTQ-EFlqvB",
        "outputId": "7ad52339-e0a0-4920-9520-a62fd1ea0db9"
      },
      "execution_count": 23,
      "outputs": [
        {
          "output_type": "display_data",
          "data": {
            "text/plain": [
              "<IPython.core.display.HTML object>"
            ],
            "text/html": [
              "\n",
              "    <div>\n",
              "      \n",
              "      <progress value='3' max='3' style='width:300px; height:20px; vertical-align: middle;'></progress>\n",
              "      [3/3 01:31]\n",
              "    </div>\n",
              "    "
            ]
          },
          "metadata": {}
        },
        {
          "output_type": "stream",
          "name": "stdout",
          "text": [
            "eval_preds <transformers.trainer_utils.EvalPrediction object at 0x7d5d255ff550>\n",
            "preds [[    2     0 10006 ...     1     1     1]\n",
            " [    2     0   530 ...     1     1     1]\n",
            " [    2     0     0 ...     1     1     1]\n",
            " ...\n",
            " [    2     0   133 ...     1     1     1]\n",
            " [    2     0   495 ...     1     1     1]\n",
            " [    2     0 15243 ...     1     1     1]]\n",
            "labels [[    0  9300 15795 ...     1     1     1]\n",
            " [    0 26615    66 ...     1     1     1]\n",
            " [    0 14181     5 ...     1     1     1]\n",
            " ...\n",
            " [    0   104 18995 ...     1     1     1]\n",
            " [    0 17105   661 ...     1     1     1]\n",
            " [    0  2264   436 ...     1     1     1]]\n",
            "decoded_preds ['Mark Langston had elbow and knee problems last year and made only one start Aug. 20 after undergoing arthroscopic surgery in May to have bone spurs removed from his left elbow. Langston thinks it will. And Towers said its not that big a gamble.Right now were very happy with the rotation we have said Towers of the rotation.', 'Korean boy band Super Junior top this weeks Twitter trends chart. Chilean miners freed after 69 days at number two. Nobel Prize winners in third place for second week in a row. Scroll down to see the rest of this weeks top Twitter topics. The chart was compiled by our friends over at What The Trend.', 'Skip has been experimenting with some different enterprises sampling the tapas plate of career opportunities. At first he thought that his natural aptitude refined artistry and ownership of a cape would bring him success in the world of magic. But that got him thinking about one of his personal heroes Harry Houdini who died after someone punched him in the stomach. And that made him think about how Batmans gruff voice is a lot like his dads. And he realized that maybe theyre related.', 'Reporter Brice stimon is now serving a sevenyear sentence after he terrorized soraida posting fake profiles of her on escort websites and worse posting a sex tape of the two of them. To this day she says she has no idea how he recorded them. She never saw a camera or a phone to capture them.', 'August is a quiet month for photography shows so heres a preview of some of the exhibition highlights for the next few months. The most anticipated London show is surely Tate Moderns ambitious double header William KleinDaido Moriyama. The other big London exhibition is the Barbicans group show Everything Was Moving Photography from the 60s and 70s which opens on 13 September.', \"Speaker Boehner says the tea party has lost all credibility. Fox's Megyn Kelly tells her viewers that Santa is white and that Jesus was a white man too. Matt Yglesias from Slate argues Flying is safer cheaper and better than ever. Joining Chris Hayes to discuss the joys of air travel are President of FlyersRights.org Paul Hudson and Comedian Lizz Winstead Slates.\", 'Varanasi a Hindu temple town but a BJP stronghold for decades went out of its way this time to vote for Modi. Modi secured a whopping 516593 votes defeating his nearest rival Arvind Kejriwal by more than 300,000 votes. In 2009 BJP candidate and senior leader Murli Manohar Joshia sitting Member of Parliament from Varanasi who Modi had sidestepped to contest the prestigious seat himself.', 'The wheelchairbound Lynch earned a position in Howard Sterns Wack Pack after he began calling in to the shock jocks radio show in 2002. Lynch had shared his health struggles on the show and Stern admitted his death hit him hard. Stern paid homage to Lynch on his SiriusXM show Monday.', 'Dating is a crazy quilt of heartache stories waiting to happen out there. Let a few responsible friends know youre looking to meet someone. When theyve got someone whod be perfect for you ask questions  lots of them. Online dating Its like a masquerade ball out there with impostors everywhere trumping themselves up as serious when theyre usually just out for a good time.', 'Despite a crackdown on graft in China Russias conflict with the West over Ukraine and Europes sickman economy global luxury spending is still on track to rise 5 in 2014 according to a report released on Tuesday by consulting firm Bain  Co. Bain also stuck to its forecast that global luxury goods sales will rise between 4 and 6 a year between 2014 and 2017.']\n",
            "labels [[    0  9300 15795 ...     1     1     1]\n",
            " [    0 26615    66 ...     1     1     1]\n",
            " [    0 14181     5 ...     1     1     1]\n",
            " ...\n",
            " [    0   104 18995 ...     1     1     1]\n",
            " [    0 17105   661 ...     1     1     1]\n",
            " [    0  2264   436 ...     1     1     1]]\n",
            "decoded_labels ['SAN DIEGO PADRES team notebook', 'Check out the chart to find out what the world was talking about on Twitter this past week.', 'Get the inside story of life inside the White House with this blog from the presidents son Skip Gilchrist.', 'Part 2 Hicks says she never knew her boyfriend turned harasser was also married.', 'From an ambitious survey of 1960s70s photography in London to Kohei Yoshiyukis controversial work in Liverpool and Amsterdams Unseen Photo Fair theres a lot to see. By Sean OHagan', 'All In Agenda for Thursday November 12', 'Narendra Modi swept Varanasi into a saffron wave with his landslide victory against antigraft hero Arvind Kejriwal', 'Stern Jimmy Kimmel and other celebs pay homage to the feisty radio personality', 'Realist or Romantic Which Are You ', 'What China Russian slowdown Luxury sales keep face with forecast Bain says.']\n",
            "preds ['Mark Langston had elbow and knee problems last year and made only one start Aug. 20 after undergoing arthroscopic surgery in May to have bone spurs removed from his left elbow. Langston thinks it will. And Towers said its not that big a gamble.Right now were very happy with the rotation we have said Towers of the rotation.', 'Korean boy band Super Junior top this weeks Twitter trends chart. Chilean miners freed after 69 days at number two. Nobel Prize winners in third place for second week in a row. Scroll down to see the rest of this weeks top Twitter topics. The chart was compiled by our friends over at What The Trend.', 'Skip has been experimenting with some different enterprises sampling the tapas plate of career opportunities. At first he thought that his natural aptitude refined artistry and ownership of a cape would bring him success in the world of magic. But that got him thinking about one of his personal heroes Harry Houdini who died after someone punched him in the stomach. And that made him think about how Batmans gruff voice is a lot like his dads. And he realized that maybe theyre related.', 'Reporter Brice stimon is now serving a sevenyear sentence after he terrorized soraida posting fake profiles of her on escort websites and worse posting a sex tape of the two of them. To this day she says she has no idea how he recorded them. She never saw a camera or a phone to capture them.', 'August is a quiet month for photography shows so heres a preview of some of the exhibition highlights for the next few months. The most anticipated London show is surely Tate Moderns ambitious double header William KleinDaido Moriyama. The other big London exhibition is the Barbicans group show Everything Was Moving Photography from the 60s and 70s which opens on 13 September.', \"Speaker Boehner says the tea party has lost all credibility. Fox's Megyn Kelly tells her viewers that Santa is white and that Jesus was a white man too. Matt Yglesias from Slate argues Flying is safer cheaper and better than ever. Joining Chris Hayes to discuss the joys of air travel are President of FlyersRights.org Paul Hudson and Comedian Lizz Winstead Slates.\", 'Varanasi a Hindu temple town but a BJP stronghold for decades went out of its way this time to vote for Modi. Modi secured a whopping 516593 votes defeating his nearest rival Arvind Kejriwal by more than 300,000 votes. In 2009 BJP candidate and senior leader Murli Manohar Joshia sitting Member of Parliament from Varanasi who Modi had sidestepped to contest the prestigious seat himself.', 'The wheelchairbound Lynch earned a position in Howard Sterns Wack Pack after he began calling in to the shock jocks radio show in 2002. Lynch had shared his health struggles on the show and Stern admitted his death hit him hard. Stern paid homage to Lynch on his SiriusXM show Monday.', 'Dating is a crazy quilt of heartache stories waiting to happen out there. Let a few responsible friends know youre looking to meet someone. When theyve got someone whod be perfect for you ask questions  lots of them. Online dating Its like a masquerade ball out there with impostors everywhere trumping themselves up as serious when theyre usually just out for a good time.', 'Despite a crackdown on graft in China Russias conflict with the West over Ukraine and Europes sickman economy global luxury spending is still on track to rise 5 in 2014 according to a report released on Tuesday by consulting firm Bain  Co. Bain also stuck to its forecast that global luxury goods sales will rise between 4 and 6 a year between 2014 and 2017.']\n",
            "labels ['SAN DIEGO PADRES team notebook', 'Check out the chart to find out what the world was talking about on Twitter this past week.', 'Get the inside story of life inside the White House with this blog from the presidents son Skip Gilchrist.', 'Part 2 Hicks says she never knew her boyfriend turned harasser was also married.', 'From an ambitious survey of 1960s70s photography in London to Kohei Yoshiyukis controversial work in Liverpool and Amsterdams Unseen Photo Fair theres a lot to see. By Sean OHagan', 'All In Agenda for Thursday November 12', 'Narendra Modi swept Varanasi into a saffron wave with his landslide victory against antigraft hero Arvind Kejriwal', 'Stern Jimmy Kimmel and other celebs pay homage to the feisty radio personality', 'Realist or Romantic Which Are You ', 'What China Russian slowdown Luxury sales keep face with forecast Bain says.']\n",
            "\n",
            "\n",
            "\n",
            "preds ['Mark Langston had elbow and knee problems last year and made only one start Aug. 20 after undergoing arthroscopic surgery in May to have bone spurs removed from his left elbow.\\nLangston thinks it will.\\nAnd Towers said its not that big a gamble.Right now were very happy with the rotation we have said Towers of the rotation.', 'Korean boy band Super Junior top this weeks Twitter trends chart.\\nChilean miners freed after 69 days at number two.\\nNobel Prize winners in third place for second week in a row.\\nScroll down to see the rest of this weeks top Twitter topics.\\nThe chart was compiled by our friends over at What The Trend.', 'Skip has been experimenting with some different enterprises sampling the tapas plate of career opportunities.\\nAt first he thought that his natural aptitude refined artistry and ownership of a cape would bring him success in the world of magic.\\nBut that got him thinking about one of his personal heroes Harry Houdini who died after someone punched him in the stomach.\\nAnd that made him think about how Batmans gruff voice is a lot like his dads.\\nAnd he realized that maybe theyre related.', 'Reporter Brice stimon is now serving a sevenyear sentence after he terrorized soraida posting fake profiles of her on escort websites and worse posting a sex tape of the two of them.\\nTo this day she says she has no idea how he recorded them.\\nShe never saw a camera or a phone to capture them.', 'August is a quiet month for photography shows so heres a preview of some of the exhibition highlights for the next few months.\\nThe most anticipated London show is surely Tate Moderns ambitious double header William KleinDaido Moriyama.\\nThe other big London exhibition is the Barbicans group show Everything Was Moving Photography from the 60s and 70s which opens on 13 September.', \"Speaker Boehner says the tea party has lost all credibility.\\nFox's Megyn Kelly tells her viewers that Santa is white and that Jesus was a white man too.\\nMatt Yglesias from Slate argues Flying is safer cheaper and better than ever.\\nJoining Chris Hayes to discuss the joys of air travel are President of FlyersRights.org Paul Hudson and Comedian Lizz Winstead Slates.\", 'Varanasi a Hindu temple town but a BJP stronghold for decades went out of its way this time to vote for Modi.\\nModi secured a whopping 516593 votes defeating his nearest rival Arvind Kejriwal by more than 300,000 votes.\\nIn 2009 BJP candidate and senior leader Murli Manohar Joshia sitting Member of Parliament from Varanasi who Modi had sidestepped to contest the prestigious seat himself.', 'The wheelchairbound Lynch earned a position in Howard Sterns Wack Pack after he began calling in to the shock jocks radio show in 2002.\\nLynch had shared his health struggles on the show and Stern admitted his death hit him hard.\\nStern paid homage to Lynch on his SiriusXM show Monday.', 'Dating is a crazy quilt of heartache stories waiting to happen out there.\\nLet a few responsible friends know youre looking to meet someone.\\nWhen theyve got someone whod be perfect for you ask questions  lots of them.\\nOnline dating Its like a masquerade ball out there with impostors everywhere trumping themselves up as serious when theyre usually just out for a good time.', 'Despite a crackdown on graft in China Russias conflict with the West over Ukraine and Europes sickman economy global luxury spending is still on track to rise 5 in 2014 according to a report released on Tuesday by consulting firm Bain  Co. Bain also stuck to its forecast that global luxury goods sales will rise between 4 and 6 a year between 2014 and 2017.']\n",
            "labels ['SAN DIEGO PADRES team notebook', 'Check out the chart to find out what the world was talking about on Twitter this past week.', 'Get the inside story of life inside the White House with this blog from the presidents son Skip Gilchrist.', 'Part 2 Hicks says she never knew her boyfriend turned harasser was also married.', 'From an ambitious survey of 1960s70s photography in London to Kohei Yoshiyukis controversial work in Liverpool and Amsterdams Unseen Photo Fair theres a lot to see.\\nBy Sean OHagan', 'All In Agenda for Thursday November 12', 'Narendra Modi swept Varanasi into a saffron wave with his landslide victory against antigraft hero Arvind Kejriwal', 'Stern Jimmy Kimmel and other celebs pay homage to the feisty radio personality', 'Realist or Romantic Which Are You', 'What China Russian slowdown Luxury sales keep face with forecast Bain says.']\n",
            "decoded_preds ['Mark Langston had elbow and knee problems last year and made only one start Aug. 20 after undergoing arthroscopic surgery in May to have bone spurs removed from his left elbow.\\nLangston thinks it will.\\nAnd Towers said its not that big a gamble.Right now were very happy with the rotation we have said Towers of the rotation.', 'Korean boy band Super Junior top this weeks Twitter trends chart.\\nChilean miners freed after 69 days at number two.\\nNobel Prize winners in third place for second week in a row.\\nScroll down to see the rest of this weeks top Twitter topics.\\nThe chart was compiled by our friends over at What The Trend.', 'Skip has been experimenting with some different enterprises sampling the tapas plate of career opportunities.\\nAt first he thought that his natural aptitude refined artistry and ownership of a cape would bring him success in the world of magic.\\nBut that got him thinking about one of his personal heroes Harry Houdini who died after someone punched him in the stomach.\\nAnd that made him think about how Batmans gruff voice is a lot like his dads.\\nAnd he realized that maybe theyre related.', 'Reporter Brice stimon is now serving a sevenyear sentence after he terrorized soraida posting fake profiles of her on escort websites and worse posting a sex tape of the two of them.\\nTo this day she says she has no idea how he recorded them.\\nShe never saw a camera or a phone to capture them.', 'August is a quiet month for photography shows so heres a preview of some of the exhibition highlights for the next few months.\\nThe most anticipated London show is surely Tate Moderns ambitious double header William KleinDaido Moriyama.\\nThe other big London exhibition is the Barbicans group show Everything Was Moving Photography from the 60s and 70s which opens on 13 September.', \"Speaker Boehner says the tea party has lost all credibility.\\nFox's Megyn Kelly tells her viewers that Santa is white and that Jesus was a white man too.\\nMatt Yglesias from Slate argues Flying is safer cheaper and better than ever.\\nJoining Chris Hayes to discuss the joys of air travel are President of FlyersRights.org Paul Hudson and Comedian Lizz Winstead Slates.\", 'Varanasi a Hindu temple town but a BJP stronghold for decades went out of its way this time to vote for Modi.\\nModi secured a whopping 516593 votes defeating his nearest rival Arvind Kejriwal by more than 300,000 votes.\\nIn 2009 BJP candidate and senior leader Murli Manohar Joshia sitting Member of Parliament from Varanasi who Modi had sidestepped to contest the prestigious seat himself.', 'The wheelchairbound Lynch earned a position in Howard Sterns Wack Pack after he began calling in to the shock jocks radio show in 2002.\\nLynch had shared his health struggles on the show and Stern admitted his death hit him hard.\\nStern paid homage to Lynch on his SiriusXM show Monday.', 'Dating is a crazy quilt of heartache stories waiting to happen out there.\\nLet a few responsible friends know youre looking to meet someone.\\nWhen theyve got someone whod be perfect for you ask questions  lots of them.\\nOnline dating Its like a masquerade ball out there with impostors everywhere trumping themselves up as serious when theyre usually just out for a good time.', 'Despite a crackdown on graft in China Russias conflict with the West over Ukraine and Europes sickman economy global luxury spending is still on track to rise 5 in 2014 according to a report released on Tuesday by consulting firm Bain  Co. Bain also stuck to its forecast that global luxury goods sales will rise between 4 and 6 a year between 2014 and 2017.']\n",
            "decoded_labels ['SAN DIEGO PADRES team notebook', 'Check out the chart to find out what the world was talking about on Twitter this past week.', 'Get the inside story of life inside the White House with this blog from the presidents son Skip Gilchrist.', 'Part 2 Hicks says she never knew her boyfriend turned harasser was also married.', 'From an ambitious survey of 1960s70s photography in London to Kohei Yoshiyukis controversial work in Liverpool and Amsterdams Unseen Photo Fair theres a lot to see.\\nBy Sean OHagan', 'All In Agenda for Thursday November 12', 'Narendra Modi swept Varanasi into a saffron wave with his landslide victory against antigraft hero Arvind Kejriwal', 'Stern Jimmy Kimmel and other celebs pay homage to the feisty radio personality', 'Realist or Romantic Which Are You', 'What China Russian slowdown Luxury sales keep face with forecast Bain says.']\n"
          ]
        },
        {
          "output_type": "stream",
          "name": "stderr",
          "text": [
            "\u001b[34m\u001b[1mwandb\u001b[0m: \u001b[33mWARNING\u001b[0m The `run_name` is currently set to the same value as `TrainingArguments.output_dir`. If this was not intended, please specify a different run name by setting the `TrainingArguments.run_name` parameter.\n"
          ]
        },
        {
          "output_type": "stream",
          "name": "stdout",
          "text": [
            "result {'rouge1': 0.11733538835085595, 'rouge2': 0.01978939724037763, 'rougeL': 0.07491946496240301, 'rougeLsum': 0.0898122273313667}\n",
            "result {'rouge1': 11.733538835085595, 'rouge2': 1.978939724037763, 'rougeL': 7.491946496240301, 'rougeLsum': 8.98122273313667}\n",
            "prediction_lens [73, 65, 102, 68, 77, 85, 86, 62, 83, 74]\n",
            "result {'rouge1': 0.1173, 'rouge2': 0.0198, 'rougeL': 0.0749, 'rougeLsum': 0.0898, 'gen_len': 77.5}\n"
          ]
        }
      ]
    },
    {
      "cell_type": "code",
      "source": [
        "%%wandb\n",
        "# uncomment to display Wandb charts\n",
        "\n",
        "trainer.train()"
      ],
      "metadata": {
        "colab": {
          "base_uri": "https://localhost:8080/",
          "height": 595
        },
        "id": "deo-8I5FluQ8",
        "outputId": "763a373b-123f-46d8-9fb5-6e64fd3ec289"
      },
      "execution_count": 24,
      "outputs": [
        {
          "output_type": "display_data",
          "data": {
            "text/plain": [
              "<wandb.jupyter.IFrame at 0x7d5d1d859f00>"
            ],
            "text/html": [
              "<iframe src='https://wandb.ai/logeshkc-student/bart-large-cnn_newsroom/runs/n8cpds8y?jupyter=true' style='border:none;width:100%;height:420px;'></iframe>"
            ]
          },
          "metadata": {}
        },
        {
          "output_type": "display_data",
          "data": {
            "text/plain": [
              "<IPython.core.display.HTML object>"
            ],
            "text/html": [
              "\n",
              "    <div>\n",
              "      \n",
              "      <progress value='3' max='3' style='width:300px; height:20px; vertical-align: middle;'></progress>\n",
              "      [3/3 05:03, Epoch 1/1]\n",
              "    </div>\n",
              "    <table border=\"1\" class=\"dataframe\">\n",
              "  <thead>\n",
              " <tr style=\"text-align: left;\">\n",
              "      <th>Step</th>\n",
              "      <th>Training Loss</th>\n",
              "    </tr>\n",
              "  </thead>\n",
              "  <tbody>\n",
              "  </tbody>\n",
              "</table><p>"
            ]
          },
          "metadata": {}
        },
        {
          "output_type": "stream",
          "name": "stderr",
          "text": [
            "Some non-default generation parameters are set in the model config. These should go into a GenerationConfig file (https://huggingface.co/docs/transformers/generation_strategies#save-a-custom-decoding-strategy-with-your-model) instead. This warning will be raised to an exception in v4.41.\n",
            "Non-default generation parameters: {'max_length': 142, 'min_length': 56, 'early_stopping': True, 'num_beams': 4, 'length_penalty': 2.0, 'no_repeat_ngram_size': 3, 'forced_bos_token_id': 0, 'forced_eos_token_id': 2}\n"
          ]
        },
        {
          "output_type": "execute_result",
          "data": {
            "text/plain": [
              "TrainOutput(global_step=3, training_loss=5.17302926381429, metrics={'train_runtime': 337.5207, 'train_samples_per_second': 0.03, 'train_steps_per_second': 0.009, 'total_flos': 5417761505280.0, 'train_loss': 5.17302926381429, 'epoch': 1.0})"
            ]
          },
          "metadata": {},
          "execution_count": 24
        }
      ]
    },
    {
      "cell_type": "code",
      "source": [
        "eval_results_after = trainer.evaluate()"
      ],
      "metadata": {
        "colab": {
          "base_uri": "https://localhost:8080/",
          "height": 746
        },
        "id": "SMtNVVXqnzWc",
        "outputId": "50d75203-d74e-405a-e76d-6b9d7ec217ce"
      },
      "execution_count": 25,
      "outputs": [
        {
          "output_type": "display_data",
          "data": {
            "text/plain": [
              "<IPython.core.display.HTML object>"
            ],
            "text/html": [
              "\n",
              "    <div>\n",
              "      \n",
              "      <progress value='6' max='3' style='width:300px; height:20px; vertical-align: middle;'></progress>\n",
              "      [3/3 09:38]\n",
              "    </div>\n",
              "    "
            ]
          },
          "metadata": {}
        },
        {
          "output_type": "stream",
          "name": "stdout",
          "text": [
            "eval_preds <transformers.trainer_utils.EvalPrediction object at 0x7d5d24dc8d60>\n",
            "preds [[    2     0 10006 ...     1     1     1]\n",
            " [    2     0   530 ...     1     1     1]\n",
            " [    2     0     0 ...     1     1     1]\n",
            " ...\n",
            " [    2     0   133 ...     1     1     1]\n",
            " [    2     0   495 ...     1     1     1]\n",
            " [    2     0 15243 ...     1     1     1]]\n",
            "labels [[    0  9300 15795 ...     1     1     1]\n",
            " [    0 26615    66 ...     1     1     1]\n",
            " [    0 14181     5 ...     1     1     1]\n",
            " ...\n",
            " [    0   104 18995 ...     1     1     1]\n",
            " [    0 17105   661 ...     1     1     1]\n",
            " [    0  2264   436 ...     1     1     1]]\n",
            "decoded_preds ['Mark Langston had elbow and knee problems last year and made only one start Aug. 20 after undergoing arthroscopic surgery in May to have bone spurs removed from his left elbow. Langston thinks it will. And Towers said its not that big a gamble.Right now were very happy with the rotation we have said Towers of the rotation.', 'Korean boy band Super Junior top this weeks Twitter trends chart. Chilean miners freed after 69 days at number two. Nobel Prize winners in third place for second week in a row. Scroll down to see the rest of this weeks top Twitter topics. The chart was compiled by our friends over at What The Trend.', 'Skip has been experimenting with some different enterprises sampling the tapas plate of career opportunities. At first he thought that his natural aptitude refined artistry and ownership of a cape would bring him success in the world of magic. But that got him thinking about one of his personal heroes Harry Houdini who died after someone punched him in the stomach. And that made him think about how Batmans gruff voice is a lot like his dads. And he realized that maybe theyre related.', 'Reporter Brice stimon is now serving a sevenyear sentence after he terrorized soraida posting fake profiles of her on escort websites and worse posting a sex tape of the two of them. To this day she says she has no idea how he recorded them. She never saw a camera or a phone to capture them.', 'August is a quiet month for photography shows so heres a preview of some of the exhibition highlights for the next few months. The most anticipated London show is surely Tate Moderns ambitious double header William KleinDaido Moriyama. The other big London exhibition is the Barbicans group show Everything Was Moving Photography from the 60s and 70s which opens on 13 September.', \"Speaker Boehner says the tea party has lost all credibility. Fox's Megyn Kelly tells her viewers that Santa is white and that Jesus was a white man too. Matt Yglesias from Slate argues Flying is safer cheaper and better than ever. Joining Chris Hayes to discuss the joys of air travel are President of FlyersRights.org Paul Hudson and Comedian Lizz Winstead Slates.\", 'Varanasi a Hindu temple town but a BJP stronghold for decades went out of its way this time to vote for Modi. Modi secured a whopping 516593 votes defeating his nearest rival Arvind Kejriwal by more than 300,000 votes. In 2009 BJP candidate and senior leader Murli Manohar Joshia sitting Member of Parliament from Varanasi who Modi had sidestepped to contest the prestigious seat himself.', 'The wheelchairbound Lynch earned a position in Howard Sterns Wack Pack after he began calling in to the shock jocks radio show in 2002. Lynch had shared his health struggles on the show and Stern admitted his death hit him hard. Stern paid homage to Lynch on his SiriusXM show Monday.', 'Dating is a crazy quilt of heartache stories waiting to happen out there. Let a few responsible friends know youre looking to meet someone. When theyve got someone whod be perfect for you ask questions  lots of them. Online dating Its like a masquerade ball out there with impostors everywhere trumping themselves up as serious when theyre usually just out for a good time.', 'Despite a crackdown on graft in China Russias conflict with the West over Ukraine and Europes sickman economy global luxury spending is still on track to rise 5 in 2014 according to a report released on Tuesday by consulting firm Bain  Co. Bain also stuck to its forecast that global luxury goods sales will rise between 4 and 6 a year between 2014 and 2017.']\n",
            "labels [[    0  9300 15795 ...     1     1     1]\n",
            " [    0 26615    66 ...     1     1     1]\n",
            " [    0 14181     5 ...     1     1     1]\n",
            " ...\n",
            " [    0   104 18995 ...     1     1     1]\n",
            " [    0 17105   661 ...     1     1     1]\n",
            " [    0  2264   436 ...     1     1     1]]\n",
            "decoded_labels ['SAN DIEGO PADRES team notebook', 'Check out the chart to find out what the world was talking about on Twitter this past week.', 'Get the inside story of life inside the White House with this blog from the presidents son Skip Gilchrist.', 'Part 2 Hicks says she never knew her boyfriend turned harasser was also married.', 'From an ambitious survey of 1960s70s photography in London to Kohei Yoshiyukis controversial work in Liverpool and Amsterdams Unseen Photo Fair theres a lot to see. By Sean OHagan', 'All In Agenda for Thursday November 12', 'Narendra Modi swept Varanasi into a saffron wave with his landslide victory against antigraft hero Arvind Kejriwal', 'Stern Jimmy Kimmel and other celebs pay homage to the feisty radio personality', 'Realist or Romantic Which Are You ', 'What China Russian slowdown Luxury sales keep face with forecast Bain says.']\n",
            "preds ['Mark Langston had elbow and knee problems last year and made only one start Aug. 20 after undergoing arthroscopic surgery in May to have bone spurs removed from his left elbow. Langston thinks it will. And Towers said its not that big a gamble.Right now were very happy with the rotation we have said Towers of the rotation.', 'Korean boy band Super Junior top this weeks Twitter trends chart. Chilean miners freed after 69 days at number two. Nobel Prize winners in third place for second week in a row. Scroll down to see the rest of this weeks top Twitter topics. The chart was compiled by our friends over at What The Trend.', 'Skip has been experimenting with some different enterprises sampling the tapas plate of career opportunities. At first he thought that his natural aptitude refined artistry and ownership of a cape would bring him success in the world of magic. But that got him thinking about one of his personal heroes Harry Houdini who died after someone punched him in the stomach. And that made him think about how Batmans gruff voice is a lot like his dads. And he realized that maybe theyre related.', 'Reporter Brice stimon is now serving a sevenyear sentence after he terrorized soraida posting fake profiles of her on escort websites and worse posting a sex tape of the two of them. To this day she says she has no idea how he recorded them. She never saw a camera or a phone to capture them.', 'August is a quiet month for photography shows so heres a preview of some of the exhibition highlights for the next few months. The most anticipated London show is surely Tate Moderns ambitious double header William KleinDaido Moriyama. The other big London exhibition is the Barbicans group show Everything Was Moving Photography from the 60s and 70s which opens on 13 September.', \"Speaker Boehner says the tea party has lost all credibility. Fox's Megyn Kelly tells her viewers that Santa is white and that Jesus was a white man too. Matt Yglesias from Slate argues Flying is safer cheaper and better than ever. Joining Chris Hayes to discuss the joys of air travel are President of FlyersRights.org Paul Hudson and Comedian Lizz Winstead Slates.\", 'Varanasi a Hindu temple town but a BJP stronghold for decades went out of its way this time to vote for Modi. Modi secured a whopping 516593 votes defeating his nearest rival Arvind Kejriwal by more than 300,000 votes. In 2009 BJP candidate and senior leader Murli Manohar Joshia sitting Member of Parliament from Varanasi who Modi had sidestepped to contest the prestigious seat himself.', 'The wheelchairbound Lynch earned a position in Howard Sterns Wack Pack after he began calling in to the shock jocks radio show in 2002. Lynch had shared his health struggles on the show and Stern admitted his death hit him hard. Stern paid homage to Lynch on his SiriusXM show Monday.', 'Dating is a crazy quilt of heartache stories waiting to happen out there. Let a few responsible friends know youre looking to meet someone. When theyve got someone whod be perfect for you ask questions  lots of them. Online dating Its like a masquerade ball out there with impostors everywhere trumping themselves up as serious when theyre usually just out for a good time.', 'Despite a crackdown on graft in China Russias conflict with the West over Ukraine and Europes sickman economy global luxury spending is still on track to rise 5 in 2014 according to a report released on Tuesday by consulting firm Bain  Co. Bain also stuck to its forecast that global luxury goods sales will rise between 4 and 6 a year between 2014 and 2017.']\n",
            "labels ['SAN DIEGO PADRES team notebook', 'Check out the chart to find out what the world was talking about on Twitter this past week.', 'Get the inside story of life inside the White House with this blog from the presidents son Skip Gilchrist.', 'Part 2 Hicks says she never knew her boyfriend turned harasser was also married.', 'From an ambitious survey of 1960s70s photography in London to Kohei Yoshiyukis controversial work in Liverpool and Amsterdams Unseen Photo Fair theres a lot to see. By Sean OHagan', 'All In Agenda for Thursday November 12', 'Narendra Modi swept Varanasi into a saffron wave with his landslide victory against antigraft hero Arvind Kejriwal', 'Stern Jimmy Kimmel and other celebs pay homage to the feisty radio personality', 'Realist or Romantic Which Are You ', 'What China Russian slowdown Luxury sales keep face with forecast Bain says.']\n",
            "\n",
            "\n",
            "\n",
            "preds ['Mark Langston had elbow and knee problems last year and made only one start Aug. 20 after undergoing arthroscopic surgery in May to have bone spurs removed from his left elbow.\\nLangston thinks it will.\\nAnd Towers said its not that big a gamble.Right now were very happy with the rotation we have said Towers of the rotation.', 'Korean boy band Super Junior top this weeks Twitter trends chart.\\nChilean miners freed after 69 days at number two.\\nNobel Prize winners in third place for second week in a row.\\nScroll down to see the rest of this weeks top Twitter topics.\\nThe chart was compiled by our friends over at What The Trend.', 'Skip has been experimenting with some different enterprises sampling the tapas plate of career opportunities.\\nAt first he thought that his natural aptitude refined artistry and ownership of a cape would bring him success in the world of magic.\\nBut that got him thinking about one of his personal heroes Harry Houdini who died after someone punched him in the stomach.\\nAnd that made him think about how Batmans gruff voice is a lot like his dads.\\nAnd he realized that maybe theyre related.', 'Reporter Brice stimon is now serving a sevenyear sentence after he terrorized soraida posting fake profiles of her on escort websites and worse posting a sex tape of the two of them.\\nTo this day she says she has no idea how he recorded them.\\nShe never saw a camera or a phone to capture them.', 'August is a quiet month for photography shows so heres a preview of some of the exhibition highlights for the next few months.\\nThe most anticipated London show is surely Tate Moderns ambitious double header William KleinDaido Moriyama.\\nThe other big London exhibition is the Barbicans group show Everything Was Moving Photography from the 60s and 70s which opens on 13 September.', \"Speaker Boehner says the tea party has lost all credibility.\\nFox's Megyn Kelly tells her viewers that Santa is white and that Jesus was a white man too.\\nMatt Yglesias from Slate argues Flying is safer cheaper and better than ever.\\nJoining Chris Hayes to discuss the joys of air travel are President of FlyersRights.org Paul Hudson and Comedian Lizz Winstead Slates.\", 'Varanasi a Hindu temple town but a BJP stronghold for decades went out of its way this time to vote for Modi.\\nModi secured a whopping 516593 votes defeating his nearest rival Arvind Kejriwal by more than 300,000 votes.\\nIn 2009 BJP candidate and senior leader Murli Manohar Joshia sitting Member of Parliament from Varanasi who Modi had sidestepped to contest the prestigious seat himself.', 'The wheelchairbound Lynch earned a position in Howard Sterns Wack Pack after he began calling in to the shock jocks radio show in 2002.\\nLynch had shared his health struggles on the show and Stern admitted his death hit him hard.\\nStern paid homage to Lynch on his SiriusXM show Monday.', 'Dating is a crazy quilt of heartache stories waiting to happen out there.\\nLet a few responsible friends know youre looking to meet someone.\\nWhen theyve got someone whod be perfect for you ask questions  lots of them.\\nOnline dating Its like a masquerade ball out there with impostors everywhere trumping themselves up as serious when theyre usually just out for a good time.', 'Despite a crackdown on graft in China Russias conflict with the West over Ukraine and Europes sickman economy global luxury spending is still on track to rise 5 in 2014 according to a report released on Tuesday by consulting firm Bain  Co. Bain also stuck to its forecast that global luxury goods sales will rise between 4 and 6 a year between 2014 and 2017.']\n",
            "labels ['SAN DIEGO PADRES team notebook', 'Check out the chart to find out what the world was talking about on Twitter this past week.', 'Get the inside story of life inside the White House with this blog from the presidents son Skip Gilchrist.', 'Part 2 Hicks says she never knew her boyfriend turned harasser was also married.', 'From an ambitious survey of 1960s70s photography in London to Kohei Yoshiyukis controversial work in Liverpool and Amsterdams Unseen Photo Fair theres a lot to see.\\nBy Sean OHagan', 'All In Agenda for Thursday November 12', 'Narendra Modi swept Varanasi into a saffron wave with his landslide victory against antigraft hero Arvind Kejriwal', 'Stern Jimmy Kimmel and other celebs pay homage to the feisty radio personality', 'Realist or Romantic Which Are You', 'What China Russian slowdown Luxury sales keep face with forecast Bain says.']\n",
            "decoded_preds ['Mark Langston had elbow and knee problems last year and made only one start Aug. 20 after undergoing arthroscopic surgery in May to have bone spurs removed from his left elbow.\\nLangston thinks it will.\\nAnd Towers said its not that big a gamble.Right now were very happy with the rotation we have said Towers of the rotation.', 'Korean boy band Super Junior top this weeks Twitter trends chart.\\nChilean miners freed after 69 days at number two.\\nNobel Prize winners in third place for second week in a row.\\nScroll down to see the rest of this weeks top Twitter topics.\\nThe chart was compiled by our friends over at What The Trend.', 'Skip has been experimenting with some different enterprises sampling the tapas plate of career opportunities.\\nAt first he thought that his natural aptitude refined artistry and ownership of a cape would bring him success in the world of magic.\\nBut that got him thinking about one of his personal heroes Harry Houdini who died after someone punched him in the stomach.\\nAnd that made him think about how Batmans gruff voice is a lot like his dads.\\nAnd he realized that maybe theyre related.', 'Reporter Brice stimon is now serving a sevenyear sentence after he terrorized soraida posting fake profiles of her on escort websites and worse posting a sex tape of the two of them.\\nTo this day she says she has no idea how he recorded them.\\nShe never saw a camera or a phone to capture them.', 'August is a quiet month for photography shows so heres a preview of some of the exhibition highlights for the next few months.\\nThe most anticipated London show is surely Tate Moderns ambitious double header William KleinDaido Moriyama.\\nThe other big London exhibition is the Barbicans group show Everything Was Moving Photography from the 60s and 70s which opens on 13 September.', \"Speaker Boehner says the tea party has lost all credibility.\\nFox's Megyn Kelly tells her viewers that Santa is white and that Jesus was a white man too.\\nMatt Yglesias from Slate argues Flying is safer cheaper and better than ever.\\nJoining Chris Hayes to discuss the joys of air travel are President of FlyersRights.org Paul Hudson and Comedian Lizz Winstead Slates.\", 'Varanasi a Hindu temple town but a BJP stronghold for decades went out of its way this time to vote for Modi.\\nModi secured a whopping 516593 votes defeating his nearest rival Arvind Kejriwal by more than 300,000 votes.\\nIn 2009 BJP candidate and senior leader Murli Manohar Joshia sitting Member of Parliament from Varanasi who Modi had sidestepped to contest the prestigious seat himself.', 'The wheelchairbound Lynch earned a position in Howard Sterns Wack Pack after he began calling in to the shock jocks radio show in 2002.\\nLynch had shared his health struggles on the show and Stern admitted his death hit him hard.\\nStern paid homage to Lynch on his SiriusXM show Monday.', 'Dating is a crazy quilt of heartache stories waiting to happen out there.\\nLet a few responsible friends know youre looking to meet someone.\\nWhen theyve got someone whod be perfect for you ask questions  lots of them.\\nOnline dating Its like a masquerade ball out there with impostors everywhere trumping themselves up as serious when theyre usually just out for a good time.', 'Despite a crackdown on graft in China Russias conflict with the West over Ukraine and Europes sickman economy global luxury spending is still on track to rise 5 in 2014 according to a report released on Tuesday by consulting firm Bain  Co. Bain also stuck to its forecast that global luxury goods sales will rise between 4 and 6 a year between 2014 and 2017.']\n",
            "decoded_labels ['SAN DIEGO PADRES team notebook', 'Check out the chart to find out what the world was talking about on Twitter this past week.', 'Get the inside story of life inside the White House with this blog from the presidents son Skip Gilchrist.', 'Part 2 Hicks says she never knew her boyfriend turned harasser was also married.', 'From an ambitious survey of 1960s70s photography in London to Kohei Yoshiyukis controversial work in Liverpool and Amsterdams Unseen Photo Fair theres a lot to see.\\nBy Sean OHagan', 'All In Agenda for Thursday November 12', 'Narendra Modi swept Varanasi into a saffron wave with his landslide victory against antigraft hero Arvind Kejriwal', 'Stern Jimmy Kimmel and other celebs pay homage to the feisty radio personality', 'Realist or Romantic Which Are You', 'What China Russian slowdown Luxury sales keep face with forecast Bain says.']\n",
            "result {'rouge1': 0.11733538835085595, 'rouge2': 0.01978939724037763, 'rougeL': 0.07491946496240301, 'rougeLsum': 0.0898122273313667}\n",
            "result {'rouge1': 11.733538835085595, 'rouge2': 1.978939724037763, 'rougeL': 7.491946496240301, 'rougeLsum': 8.98122273313667}\n",
            "prediction_lens [73, 65, 102, 68, 77, 85, 86, 62, 83, 74]\n",
            "result {'rouge1': 0.1173, 'rouge2': 0.0198, 'rougeL': 0.0749, 'rougeLsum': 0.0898, 'gen_len': 77.5}\n"
          ]
        }
      ]
    },
    {
      "cell_type": "code",
      "source": [
        "if WANDB_INTEGRATION:\n",
        "    wandb_run.finish()"
      ],
      "metadata": {
        "colab": {
          "base_uri": "https://localhost:8080/",
          "height": 549,
          "referenced_widgets": [
            "50387fd8bb3d42d3a7e4bd6792b4361f",
            "1693edd15df64bb8b92aff1e38afbbb0",
            "989bf836f4744876a8a3bf4915c8d1f4",
            "55bf703c4da54e0387fef342cfeac073",
            "4f4c5e41701f43f4a40081fc9bad09da",
            "107098a7f3d04c23941991632b8d942f",
            "0b153982537a4f8a927e980481ef2fc4",
            "c84b0ed37d824200b68483672d1f6e13"
          ]
        },
        "id": "WIfrQChNocLi",
        "outputId": "dd04099d-693e-4053-e271-652773cc6a2c"
      },
      "execution_count": 26,
      "outputs": [
        {
          "output_type": "display_data",
          "data": {
            "text/plain": [
              "VBox(children=(Label(value='0.057 MB of 0.057 MB uploaded\\r'), FloatProgress(value=1.0, max=1.0)))"
            ],
            "application/vnd.jupyter.widget-view+json": {
              "version_major": 2,
              "version_minor": 0,
              "model_id": "50387fd8bb3d42d3a7e4bd6792b4361f"
            }
          },
          "metadata": {}
        },
        {
          "output_type": "display_data",
          "data": {
            "text/plain": [
              "<IPython.core.display.HTML object>"
            ],
            "text/html": [
              "<style>\n",
              "    table.wandb td:nth-child(1) { padding: 0 10px; text-align: left ; width: auto;} td:nth-child(2) {text-align: left ; width: 100%}\n",
              "    .wandb-row { display: flex; flex-direction: row; flex-wrap: wrap; justify-content: flex-start; width: 100% }\n",
              "    .wandb-col { display: flex; flex-direction: column; flex-basis: 100%; flex: 1; padding: 10px; }\n",
              "    </style>\n",
              "<div class=\"wandb-row\"><div class=\"wandb-col\"><h3>Run history:</h3><br/><table class=\"wandb\"><tr><td>eval/gen_len</td><td>▁▁</td></tr><tr><td>eval/loss</td><td>█▁</td></tr><tr><td>eval/model_preparation_time</td><td>▁▁</td></tr><tr><td>eval/rouge1</td><td>▁▁</td></tr><tr><td>eval/rouge2</td><td>▁▁</td></tr><tr><td>eval/rougeL</td><td>▁▁</td></tr><tr><td>eval/rougeLsum</td><td>▁▁</td></tr><tr><td>eval/runtime</td><td>█▁</td></tr><tr><td>eval/samples_per_second</td><td>▁█</td></tr><tr><td>eval/steps_per_second</td><td>▁█</td></tr><tr><td>train/epoch</td><td>▁▁</td></tr><tr><td>train/global_step</td><td>▁██</td></tr></table><br/></div><div class=\"wandb-col\"><h3>Run summary:</h3><br/><table class=\"wandb\"><tr><td>eval/gen_len</td><td>77.5</td></tr><tr><td>eval/loss</td><td>5.81882</td></tr><tr><td>eval/model_preparation_time</td><td>0.0083</td></tr><tr><td>eval/rouge1</td><td>0.1173</td></tr><tr><td>eval/rouge2</td><td>0.0198</td></tr><tr><td>eval/rougeL</td><td>0.0749</td></tr><tr><td>eval/rougeLsum</td><td>0.0898</td></tr><tr><td>eval/runtime</td><td>149.0395</td></tr><tr><td>eval/samples_per_second</td><td>0.067</td></tr><tr><td>eval/steps_per_second</td><td>0.02</td></tr><tr><td>total_flos</td><td>5417761505280.0</td></tr><tr><td>train/epoch</td><td>1</td></tr><tr><td>train/global_step</td><td>3</td></tr><tr><td>train_loss</td><td>5.17303</td></tr><tr><td>train_runtime</td><td>337.5207</td></tr><tr><td>train_samples_per_second</td><td>0.03</td></tr><tr><td>train_steps_per_second</td><td>0.009</td></tr></table><br/></div></div>"
            ]
          },
          "metadata": {}
        },
        {
          "output_type": "display_data",
          "data": {
            "text/plain": [
              "<IPython.core.display.HTML object>"
            ],
            "text/html": [
              " View run <strong style=\"color:#cdcd00\">lemon-paper-5</strong> at: <a href='https://wandb.ai/logeshkc-student/bart-large-cnn_newsroom/runs/n8cpds8y' target=\"_blank\">https://wandb.ai/logeshkc-student/bart-large-cnn_newsroom/runs/n8cpds8y</a><br/> View project at: <a href='https://wandb.ai/logeshkc-student/bart-large-cnn_newsroom' target=\"_blank\">https://wandb.ai/logeshkc-student/bart-large-cnn_newsroom</a><br/>Synced 5 W&B file(s), 0 media file(s), 0 artifact file(s) and 0 other file(s)"
            ]
          },
          "metadata": {}
        },
        {
          "output_type": "display_data",
          "data": {
            "text/plain": [
              "<IPython.core.display.HTML object>"
            ],
            "text/html": [
              "Find logs at: <code>./wandb/run-20240918_060439-n8cpds8y/logs</code>"
            ]
          },
          "metadata": {}
        }
      ]
    },
    {
      "cell_type": "code",
      "source": [
        "eval_results_after"
      ],
      "metadata": {
        "colab": {
          "base_uri": "https://localhost:8080/"
        },
        "id": "WyV-DIGjvPG3",
        "outputId": "5bed3fb2-ce75-47a4-8e6e-706e832bcfa2"
      },
      "execution_count": 27,
      "outputs": [
        {
          "output_type": "execute_result",
          "data": {
            "text/plain": [
              "{'eval_loss': 5.818817138671875,\n",
              " 'eval_model_preparation_time': 0.0083,\n",
              " 'eval_rouge1': 0.1173,\n",
              " 'eval_rouge2': 0.0198,\n",
              " 'eval_rougeL': 0.0749,\n",
              " 'eval_rougeLsum': 0.0898,\n",
              " 'eval_gen_len': 77.5,\n",
              " 'eval_runtime': 149.0395,\n",
              " 'eval_samples_per_second': 0.067,\n",
              " 'eval_steps_per_second': 0.02,\n",
              " 'epoch': 1.0}"
            ]
          },
          "metadata": {},
          "execution_count": 27
        }
      ]
    },
    {
      "cell_type": "code",
      "source": [
        "import pandas as pd\n",
        "\n",
        "# Convert the metric results into lists for element-wise operations\n",
        "metrics = list(eval_results_before.keys())\n",
        "before_values = list(eval_results_before.values())\n",
        "after_values = list(eval_results_after.values())\n",
        "\n",
        "# Compute the differences\n",
        "differences = [after - before for before, after in zip(before_values, after_values)]\n",
        "\n",
        "print(len(metrics),len(before_values),len(after_values),len(differences))\n",
        "# Combine the results into a DataFrame for comparison\n",
        "comparison_df = pd.DataFrame({\n",
        "    'Metric': metrics,\n",
        "    'Before Training': before_values,\n",
        "    'After Training': after_values[:-1],\n",
        "    'Difference': differences\n",
        "})\n",
        "\n",
        "print(comparison_df)\n"
      ],
      "metadata": {
        "colab": {
          "base_uri": "https://localhost:8080/"
        },
        "id": "Auqfrl1toerc",
        "outputId": "02fb8cab-fc2d-4cf9-8e10-b08c49f73159"
      },
      "execution_count": 28,
      "outputs": [
        {
          "output_type": "stream",
          "name": "stdout",
          "text": [
            "10 10 11 10\n",
            "                        Metric  Before Training  After Training  Difference\n",
            "0                    eval_loss         5.820386        5.818817   -0.001569\n",
            "1  eval_model_preparation_time         0.008300        0.008300    0.000000\n",
            "2                  eval_rouge1         0.117300        0.117300    0.000000\n",
            "3                  eval_rouge2         0.019800        0.019800    0.000000\n",
            "4                  eval_rougeL         0.074900        0.074900    0.000000\n",
            "5               eval_rougeLsum         0.089800        0.089800    0.000000\n",
            "6                 eval_gen_len        77.500000       77.500000    0.000000\n",
            "7                 eval_runtime       155.693700      149.039500   -6.654200\n",
            "8      eval_samples_per_second         0.064000        0.067000    0.003000\n",
            "9        eval_steps_per_second         0.019000        0.020000    0.001000\n"
          ]
        }
      ]
    },
    {
      "cell_type": "code",
      "source": [
        "eval_results_after.keys()"
      ],
      "metadata": {
        "colab": {
          "base_uri": "https://localhost:8080/"
        },
        "id": "4EbiXvsA5RES",
        "outputId": "02f442db-d11d-49a7-afaa-67823c1e01e0"
      },
      "execution_count": 29,
      "outputs": [
        {
          "output_type": "execute_result",
          "data": {
            "text/plain": [
              "dict_keys(['eval_loss', 'eval_model_preparation_time', 'eval_rouge1', 'eval_rouge2', 'eval_rougeL', 'eval_rougeLsum', 'eval_gen_len', 'eval_runtime', 'eval_samples_per_second', 'eval_steps_per_second', 'epoch'])"
            ]
          },
          "metadata": {},
          "execution_count": 29
        }
      ]
    },
    {
      "cell_type": "code",
      "source": [
        "eval_results_before.keys()"
      ],
      "metadata": {
        "colab": {
          "base_uri": "https://localhost:8080/"
        },
        "id": "iUpYpDfH5UyU",
        "outputId": "ddb0e408-3f5b-47a4-c46e-7f56259f2127"
      },
      "execution_count": 30,
      "outputs": [
        {
          "output_type": "execute_result",
          "data": {
            "text/plain": [
              "dict_keys(['eval_loss', 'eval_model_preparation_time', 'eval_rouge1', 'eval_rouge2', 'eval_rougeL', 'eval_rougeLsum', 'eval_gen_len', 'eval_runtime', 'eval_samples_per_second', 'eval_steps_per_second'])"
            ]
          },
          "metadata": {},
          "execution_count": 30
        }
      ]
    },
    {
      "cell_type": "code",
      "source": [
        "# Predict on the test dataset\n",
        "test_results = trainer.predict(test_data)\n",
        "\n",
        "# The test results contain predictions and metrics (if compute_metrics is defined)\n",
        "predictions, labels, metrics = test_results\n",
        "\n",
        "# Print predictions and test metrics\n",
        "print(\"Test Metrics:\", metrics)\n",
        "print(\"Predictions:\", predictions)\n"
      ],
      "metadata": {
        "colab": {
          "base_uri": "https://localhost:8080/",
          "height": 1000
        },
        "id": "N_-Llk0qxwPt",
        "outputId": "e06a9664-53f3-4801-93fc-f9cacf31712d"
      },
      "execution_count": 31,
      "outputs": [
        {
          "output_type": "display_data",
          "data": {
            "text/plain": [
              "<IPython.core.display.HTML object>"
            ],
            "text/html": [
              "\n",
              "    <div>\n",
              "      \n",
              "      <progress value='9' max='3' style='width:300px; height:20px; vertical-align: middle;'></progress>\n",
              "      [3/3 11:53]\n",
              "    </div>\n",
              "    "
            ]
          },
          "metadata": {}
        },
        {
          "output_type": "stream",
          "name": "stdout",
          "text": [
            "eval_preds <transformers.trainer_utils.EvalPrediction object at 0x7d5d24137820>\n",
            "preds [[    2     0  2522 ...     1     1     1]\n",
            " [    2     0   100 ...     1     1     1]\n",
            " [    2     0   970 ...     1     1     1]\n",
            " ...\n",
            " [    2     0   387 ...     1     1     1]\n",
            " [    2     0 14043 ...     1     1     1]\n",
            " [    2     0   846 ...     1     1     1]]\n",
            "labels [[    0 45093   184 ...     1     1     1]\n",
            " [    0 32401 33280 ...     1     1     1]\n",
            " [    0   771 27698 ...     1     1     1]\n",
            " ...\n",
            " [    0   133  3390 ...     1     1     1]\n",
            " [    0 32139 12579 ...     1     1     1]\n",
            " [    0   846   833 ...     1     1     1]]\n",
            "decoded_preds ['Our habit of carrying our phones constantly makes them more prone to breakage. Not all phone mishaps can be fixed but many can either at home or by professionals. For remedies to 10 common cellphone accidents read on. For more information on how to fix your phone click here.', 'I visited Saudi Arabia in September 2008 arriving in Riyadh the day Hurricane Ike smashed into Houston knocking out power for my wife and two little boys. Nothing I could do about it but watch storm footage on CNN International while drinking nonalcoholic Budweiser no booze in the kingdom. That was the same month that the financial crisis hit and on the day of Lehman Brothers  LEHMQ news people collapse.', 'There are serious numerical anomalies in the debate you are moderating.You may want to check it out. I am sorry and certainly I believe the political operative who quite possibly has been behind this voterigging has to be at least privately reprimanded by his party. Pulling this under the rug would be quite counterproductive.', 'A tradition in Washington since 1983 these 12 guys wear snouts dresses and garden hats to Redskins games. The Hogettes several of whom are in the Pro Football Hall of Fames Hall of Fans have made charities a significant part of their group. Over the years theyve donated millions of dollars to charitable causes.', 'Castao who leads the Colombian paramilitaries reveals that he was trained in the arts of war in Israelas a young man of 18 in the 1980s. He glowingly adds âI copied the concept of paramilitary forces from the Israelisâ in his chapterlong account of his Israel experiences.', 'Leonardo da Vinci drew the first ever landscape on 5 August 1473. The invention of landscape painting is one of the great moments of European art. Painting nature is a way to get inside yourself. To this day people enjoy doing watercolours in the outdoors as a form of meditation.', 'Dubbed Spy Booth the image of three spooks appeared on the corner of two residential streets in Cheltenham Gloucestershire. It was suspected that the work was by Banksy but the artist has confirmed it on the QA section of his website. The admission comes in the wake of the storm over surveillance by GCHQ and the National Security Agency.', 'Barrymore and 22monthold daughter Olive hit up the popular Childrens Beach for some fun in the sun. The family then headed to dinner at Lola Burger where Barrymore dined on a New England summer staple a lobster roll. She is also mom to newborn daughter. whom she and husband Will Kopelman.', 'Dr. Holmes called attention to prevalence of small families among the highly intelligent. In 1929 he said that the future would see a larger proportion of Negroes in the North than in the South. In 1939 he urged the substitution of a Darwinian code of morals for the ancient Hebraic and Christian codes.', 'Vine Alternative Investments is raising 300 million for a new fund that would invest in film and television show royalty streams. Vine has set a 400 million hard cap for the new fund with a 5 million minimum investment for institutions. The New Yorkbased firm has invested in more than 400 films including Ace Ventura Black Hawk Down DreamGirls and Rent.']\n",
            "labels [[    0 45093   184 ...     1     1     1]\n",
            " [    0 32401 33280 ...     1     1     1]\n",
            " [    0   771 27698 ...     1     1     1]\n",
            " ...\n",
            " [    0   133  3390 ...     1     1     1]\n",
            " [    0 32139 12579 ...     1     1     1]\n",
            " [    0   846   833 ...     1     1     1]]\n",
            "decoded_labels ['Simple home remedies for repairing your mobile phoneand when to get professional help.', 'Hurricane Ike Ramadan and the billionaire prince.', 'WITH a month to go until Mexicos presidential election everyone is thinking about politics. Or are they A new poll asking which news stories have caught peoples attention suggests that campaign hasnt grabbed everyone.', 'When Ed Anzalone relinquished his role as quotFireman Edquot this week he wasnt just hanging up his hat. He was leaving an exclusive gro.', 'PâI learned an infinite amount of things in Israel and to that country I owe part of my essence my human and military achievementsâ said Colombian paramilitary leader and indicted drug trafficker Carlos Castao in his ghostwritten autobiography Mi Confesin.P', 'The history books say that western Renaissance artists invented landscape painting. Not if you believe a new VA exhibition of Chinese art writes Jonathan Jones', 'Guerrilla graffiti artist admits to painting three 1950sstyle spooks near listening centre in Cheltenham', 'The actress spent time at the beach and pool with her elder daughter Olive', 'Holmes Saml J 95', 'Vine is latest in recent string of income funds to hit the private equity market.']\n",
            "preds ['Our habit of carrying our phones constantly makes them more prone to breakage. Not all phone mishaps can be fixed but many can either at home or by professionals. For remedies to 10 common cellphone accidents read on. For more information on how to fix your phone click here.', 'I visited Saudi Arabia in September 2008 arriving in Riyadh the day Hurricane Ike smashed into Houston knocking out power for my wife and two little boys. Nothing I could do about it but watch storm footage on CNN International while drinking nonalcoholic Budweiser no booze in the kingdom. That was the same month that the financial crisis hit and on the day of Lehman Brothers  LEHMQ news people collapse.', 'There are serious numerical anomalies in the debate you are moderating.You may want to check it out. I am sorry and certainly I believe the political operative who quite possibly has been behind this voterigging has to be at least privately reprimanded by his party. Pulling this under the rug would be quite counterproductive.', 'A tradition in Washington since 1983 these 12 guys wear snouts dresses and garden hats to Redskins games. The Hogettes several of whom are in the Pro Football Hall of Fames Hall of Fans have made charities a significant part of their group. Over the years theyve donated millions of dollars to charitable causes.', 'Castao who leads the Colombian paramilitaries reveals that he was trained in the arts of war in Israelas a young man of 18 in the 1980s. He glowingly adds âI copied the concept of paramilitary forces from the Israelisâ in his chapterlong account of his Israel experiences.', 'Leonardo da Vinci drew the first ever landscape on 5 August 1473. The invention of landscape painting is one of the great moments of European art. Painting nature is a way to get inside yourself. To this day people enjoy doing watercolours in the outdoors as a form of meditation.', 'Dubbed Spy Booth the image of three spooks appeared on the corner of two residential streets in Cheltenham Gloucestershire. It was suspected that the work was by Banksy but the artist has confirmed it on the QA section of his website. The admission comes in the wake of the storm over surveillance by GCHQ and the National Security Agency.', 'Barrymore and 22monthold daughter Olive hit up the popular Childrens Beach for some fun in the sun. The family then headed to dinner at Lola Burger where Barrymore dined on a New England summer staple a lobster roll. She is also mom to newborn daughter. whom she and husband Will Kopelman.', 'Dr. Holmes called attention to prevalence of small families among the highly intelligent. In 1929 he said that the future would see a larger proportion of Negroes in the North than in the South. In 1939 he urged the substitution of a Darwinian code of morals for the ancient Hebraic and Christian codes.', 'Vine Alternative Investments is raising 300 million for a new fund that would invest in film and television show royalty streams. Vine has set a 400 million hard cap for the new fund with a 5 million minimum investment for institutions. The New Yorkbased firm has invested in more than 400 films including Ace Ventura Black Hawk Down DreamGirls and Rent.']\n",
            "labels ['Simple home remedies for repairing your mobile phoneand when to get professional help.', 'Hurricane Ike Ramadan and the billionaire prince.', 'WITH a month to go until Mexicos presidential election everyone is thinking about politics. Or are they A new poll asking which news stories have caught peoples attention suggests that campaign hasnt grabbed everyone.', 'When Ed Anzalone relinquished his role as quotFireman Edquot this week he wasnt just hanging up his hat. He was leaving an exclusive gro.', 'PâI learned an infinite amount of things in Israel and to that country I owe part of my essence my human and military achievementsâ said Colombian paramilitary leader and indicted drug trafficker Carlos Castao in his ghostwritten autobiography Mi Confesin.P', 'The history books say that western Renaissance artists invented landscape painting. Not if you believe a new VA exhibition of Chinese art writes Jonathan Jones', 'Guerrilla graffiti artist admits to painting three 1950sstyle spooks near listening centre in Cheltenham', 'The actress spent time at the beach and pool with her elder daughter Olive', 'Holmes Saml J 95', 'Vine is latest in recent string of income funds to hit the private equity market.']\n",
            "\n",
            "\n",
            "\n",
            "preds ['Our habit of carrying our phones constantly makes them more prone to breakage.\\nNot all phone mishaps can be fixed but many can either at home or by professionals.\\nFor remedies to 10 common cellphone accidents read on.\\nFor more information on how to fix your phone click here.', 'I visited Saudi Arabia in September 2008 arriving in Riyadh the day Hurricane Ike smashed into Houston knocking out power for my wife and two little boys.\\nNothing I could do about it but watch storm footage on CNN International while drinking nonalcoholic Budweiser no booze in the kingdom.\\nThat was the same month that the financial crisis hit and on the day of Lehman Brothers  LEHMQ news people collapse.', 'There are serious numerical anomalies in the debate you are moderating.You may want to check it out.\\nI am sorry and certainly I believe the political operative who quite possibly has been behind this voterigging has to be at least privately reprimanded by his party.\\nPulling this under the rug would be quite counterproductive.', 'A tradition in Washington since 1983 these 12 guys wear snouts dresses and garden hats to Redskins games.\\nThe Hogettes several of whom are in the Pro Football Hall of Fames Hall of Fans have made charities a significant part of their group.\\nOver the years theyve donated millions of dollars to charitable causes.', 'Castao who leads the Colombian paramilitaries reveals that he was trained in the arts of war in Israelas a young man of 18 in the 1980s.\\nHe glowingly adds âI copied the concept of paramilitary forces from the Israelisâ in his chapterlong account of his Israel experiences.', 'Leonardo da Vinci drew the first ever landscape on 5 August 1473.\\nThe invention of landscape painting is one of the great moments of European art.\\nPainting nature is a way to get inside yourself.\\nTo this day people enjoy doing watercolours in the outdoors as a form of meditation.', 'Dubbed Spy Booth the image of three spooks appeared on the corner of two residential streets in Cheltenham Gloucestershire.\\nIt was suspected that the work was by Banksy but the artist has confirmed it on the QA section of his website.\\nThe admission comes in the wake of the storm over surveillance by GCHQ and the National Security Agency.', 'Barrymore and 22monthold daughter Olive hit up the popular Childrens Beach for some fun in the sun.\\nThe family then headed to dinner at Lola Burger where Barrymore dined on a New England summer staple a lobster roll.\\nShe is also mom to newborn daughter.\\nwhom she and husband Will Kopelman.', 'Dr. Holmes called attention to prevalence of small families among the highly intelligent.\\nIn 1929 he said that the future would see a larger proportion of Negroes in the North than in the South.\\nIn 1939 he urged the substitution of a Darwinian code of morals for the ancient Hebraic and Christian codes.', 'Vine Alternative Investments is raising 300 million for a new fund that would invest in film and television show royalty streams.\\nVine has set a 400 million hard cap for the new fund with a 5 million minimum investment for institutions.\\nThe New Yorkbased firm has invested in more than 400 films including Ace Ventura Black Hawk Down DreamGirls and Rent.']\n",
            "labels ['Simple home remedies for repairing your mobile phoneand when to get professional help.', 'Hurricane Ike Ramadan and the billionaire prince.', 'WITH a month to go until Mexicos presidential election everyone is thinking about politics.\\nOr are they A new poll asking which news stories have caught peoples attention suggests that campaign hasnt grabbed everyone.', 'When Ed Anzalone relinquished his role as quotFireman Edquot this week he wasnt just hanging up his hat.\\nHe was leaving an exclusive gro.', 'PâI learned an infinite amount of things in Israel and to that country I owe part of my essence my human and military achievementsâ said Colombian paramilitary leader and indicted drug trafficker Carlos Castao in his ghostwritten autobiography Mi Confesin.P', 'The history books say that western Renaissance artists invented landscape painting.\\nNot if you believe a new VA exhibition of Chinese art writes Jonathan Jones', 'Guerrilla graffiti artist admits to painting three 1950sstyle spooks near listening centre in Cheltenham', 'The actress spent time at the beach and pool with her elder daughter Olive', 'Holmes Saml J 95', 'Vine is latest in recent string of income funds to hit the private equity market.']\n",
            "decoded_preds ['Our habit of carrying our phones constantly makes them more prone to breakage.\\nNot all phone mishaps can be fixed but many can either at home or by professionals.\\nFor remedies to 10 common cellphone accidents read on.\\nFor more information on how to fix your phone click here.', 'I visited Saudi Arabia in September 2008 arriving in Riyadh the day Hurricane Ike smashed into Houston knocking out power for my wife and two little boys.\\nNothing I could do about it but watch storm footage on CNN International while drinking nonalcoholic Budweiser no booze in the kingdom.\\nThat was the same month that the financial crisis hit and on the day of Lehman Brothers  LEHMQ news people collapse.', 'There are serious numerical anomalies in the debate you are moderating.You may want to check it out.\\nI am sorry and certainly I believe the political operative who quite possibly has been behind this voterigging has to be at least privately reprimanded by his party.\\nPulling this under the rug would be quite counterproductive.', 'A tradition in Washington since 1983 these 12 guys wear snouts dresses and garden hats to Redskins games.\\nThe Hogettes several of whom are in the Pro Football Hall of Fames Hall of Fans have made charities a significant part of their group.\\nOver the years theyve donated millions of dollars to charitable causes.', 'Castao who leads the Colombian paramilitaries reveals that he was trained in the arts of war in Israelas a young man of 18 in the 1980s.\\nHe glowingly adds âI copied the concept of paramilitary forces from the Israelisâ in his chapterlong account of his Israel experiences.', 'Leonardo da Vinci drew the first ever landscape on 5 August 1473.\\nThe invention of landscape painting is one of the great moments of European art.\\nPainting nature is a way to get inside yourself.\\nTo this day people enjoy doing watercolours in the outdoors as a form of meditation.', 'Dubbed Spy Booth the image of three spooks appeared on the corner of two residential streets in Cheltenham Gloucestershire.\\nIt was suspected that the work was by Banksy but the artist has confirmed it on the QA section of his website.\\nThe admission comes in the wake of the storm over surveillance by GCHQ and the National Security Agency.', 'Barrymore and 22monthold daughter Olive hit up the popular Childrens Beach for some fun in the sun.\\nThe family then headed to dinner at Lola Burger where Barrymore dined on a New England summer staple a lobster roll.\\nShe is also mom to newborn daughter.\\nwhom she and husband Will Kopelman.', 'Dr. Holmes called attention to prevalence of small families among the highly intelligent.\\nIn 1929 he said that the future would see a larger proportion of Negroes in the North than in the South.\\nIn 1939 he urged the substitution of a Darwinian code of morals for the ancient Hebraic and Christian codes.', 'Vine Alternative Investments is raising 300 million for a new fund that would invest in film and television show royalty streams.\\nVine has set a 400 million hard cap for the new fund with a 5 million minimum investment for institutions.\\nThe New Yorkbased firm has invested in more than 400 films including Ace Ventura Black Hawk Down DreamGirls and Rent.']\n",
            "decoded_labels ['Simple home remedies for repairing your mobile phoneand when to get professional help.', 'Hurricane Ike Ramadan and the billionaire prince.', 'WITH a month to go until Mexicos presidential election everyone is thinking about politics.\\nOr are they A new poll asking which news stories have caught peoples attention suggests that campaign hasnt grabbed everyone.', 'When Ed Anzalone relinquished his role as quotFireman Edquot this week he wasnt just hanging up his hat.\\nHe was leaving an exclusive gro.', 'PâI learned an infinite amount of things in Israel and to that country I owe part of my essence my human and military achievementsâ said Colombian paramilitary leader and indicted drug trafficker Carlos Castao in his ghostwritten autobiography Mi Confesin.P', 'The history books say that western Renaissance artists invented landscape painting.\\nNot if you believe a new VA exhibition of Chinese art writes Jonathan Jones', 'Guerrilla graffiti artist admits to painting three 1950sstyle spooks near listening centre in Cheltenham', 'The actress spent time at the beach and pool with her elder daughter Olive', 'Holmes Saml J 95', 'Vine is latest in recent string of income funds to hit the private equity market.']\n",
            "result {'rouge1': 0.1343396508294749, 'rouge2': 0.016068657787273684, 'rougeL': 0.0989185672467187, 'rougeLsum': 0.11217078601186245}\n",
            "result {'rouge1': 13.433965082947491, 'rouge2': 1.6068657787273684, 'rougeL': 9.89185672467187, 'rougeLsum': 11.217078601186245}\n",
            "prediction_lens [58, 84, 67, 64, 62, 62, 75, 67, 64, 70]\n",
            "result {'rouge1': 0.1343, 'rouge2': 0.0161, 'rougeL': 0.0989, 'rougeLsum': 0.1122, 'gen_len': 67.3}\n"
          ]
        },
        {
          "output_type": "error",
          "ename": "Error",
          "evalue": "You must call wandb.init() before wandb.log()",
          "traceback": [
            "\u001b[0;31m---------------------------------------------------------------------------\u001b[0m",
            "\u001b[0;31mError\u001b[0m                                     Traceback (most recent call last)",
            "\u001b[0;32m<ipython-input-31-d81db09095e4>\u001b[0m in \u001b[0;36m<cell line: 2>\u001b[0;34m()\u001b[0m\n\u001b[1;32m      1\u001b[0m \u001b[0;31m# Predict on the test dataset\u001b[0m\u001b[0;34m\u001b[0m\u001b[0;34m\u001b[0m\u001b[0m\n\u001b[0;32m----> 2\u001b[0;31m \u001b[0mtest_results\u001b[0m \u001b[0;34m=\u001b[0m \u001b[0mtrainer\u001b[0m\u001b[0;34m.\u001b[0m\u001b[0mpredict\u001b[0m\u001b[0;34m(\u001b[0m\u001b[0mtest_data\u001b[0m\u001b[0;34m)\u001b[0m\u001b[0;34m\u001b[0m\u001b[0;34m\u001b[0m\u001b[0m\n\u001b[0m\u001b[1;32m      3\u001b[0m \u001b[0;34m\u001b[0m\u001b[0m\n\u001b[1;32m      4\u001b[0m \u001b[0;31m# The test results contain predictions and metrics (if compute_metrics is defined)\u001b[0m\u001b[0;34m\u001b[0m\u001b[0;34m\u001b[0m\u001b[0m\n\u001b[1;32m      5\u001b[0m \u001b[0mpredictions\u001b[0m\u001b[0;34m,\u001b[0m \u001b[0mlabels\u001b[0m\u001b[0;34m,\u001b[0m \u001b[0mmetrics\u001b[0m \u001b[0;34m=\u001b[0m \u001b[0mtest_results\u001b[0m\u001b[0;34m\u001b[0m\u001b[0;34m\u001b[0m\u001b[0m\n",
            "\u001b[0;32m/usr/local/lib/python3.10/dist-packages/transformers/trainer_seq2seq.py\u001b[0m in \u001b[0;36mpredict\u001b[0;34m(self, test_dataset, ignore_keys, metric_key_prefix, **gen_kwargs)\u001b[0m\n\u001b[1;32m    242\u001b[0m         \u001b[0mself\u001b[0m\u001b[0;34m.\u001b[0m\u001b[0m_gen_kwargs\u001b[0m \u001b[0;34m=\u001b[0m \u001b[0mgen_kwargs\u001b[0m\u001b[0;34m\u001b[0m\u001b[0;34m\u001b[0m\u001b[0m\n\u001b[1;32m    243\u001b[0m \u001b[0;34m\u001b[0m\u001b[0m\n\u001b[0;32m--> 244\u001b[0;31m         \u001b[0;32mreturn\u001b[0m \u001b[0msuper\u001b[0m\u001b[0;34m(\u001b[0m\u001b[0;34m)\u001b[0m\u001b[0;34m.\u001b[0m\u001b[0mpredict\u001b[0m\u001b[0;34m(\u001b[0m\u001b[0mtest_dataset\u001b[0m\u001b[0;34m,\u001b[0m \u001b[0mignore_keys\u001b[0m\u001b[0;34m=\u001b[0m\u001b[0mignore_keys\u001b[0m\u001b[0;34m,\u001b[0m \u001b[0mmetric_key_prefix\u001b[0m\u001b[0;34m=\u001b[0m\u001b[0mmetric_key_prefix\u001b[0m\u001b[0;34m)\u001b[0m\u001b[0;34m\u001b[0m\u001b[0;34m\u001b[0m\u001b[0m\n\u001b[0m\u001b[1;32m    245\u001b[0m \u001b[0;34m\u001b[0m\u001b[0m\n\u001b[1;32m    246\u001b[0m     def prediction_step(\n",
            "\u001b[0;32m/usr/local/lib/python3.10/dist-packages/transformers/trainer.py\u001b[0m in \u001b[0;36mpredict\u001b[0;34m(self, test_dataset, ignore_keys, metric_key_prefix)\u001b[0m\n\u001b[1;32m   3759\u001b[0m         )\n\u001b[1;32m   3760\u001b[0m \u001b[0;34m\u001b[0m\u001b[0m\n\u001b[0;32m-> 3761\u001b[0;31m         \u001b[0mself\u001b[0m\u001b[0;34m.\u001b[0m\u001b[0mcontrol\u001b[0m \u001b[0;34m=\u001b[0m \u001b[0mself\u001b[0m\u001b[0;34m.\u001b[0m\u001b[0mcallback_handler\u001b[0m\u001b[0;34m.\u001b[0m\u001b[0mon_predict\u001b[0m\u001b[0;34m(\u001b[0m\u001b[0mself\u001b[0m\u001b[0;34m.\u001b[0m\u001b[0margs\u001b[0m\u001b[0;34m,\u001b[0m \u001b[0mself\u001b[0m\u001b[0;34m.\u001b[0m\u001b[0mstate\u001b[0m\u001b[0;34m,\u001b[0m \u001b[0mself\u001b[0m\u001b[0;34m.\u001b[0m\u001b[0mcontrol\u001b[0m\u001b[0;34m,\u001b[0m \u001b[0moutput\u001b[0m\u001b[0;34m.\u001b[0m\u001b[0mmetrics\u001b[0m\u001b[0;34m)\u001b[0m\u001b[0;34m\u001b[0m\u001b[0;34m\u001b[0m\u001b[0m\n\u001b[0m\u001b[1;32m   3762\u001b[0m         \u001b[0mself\u001b[0m\u001b[0;34m.\u001b[0m\u001b[0m_memory_tracker\u001b[0m\u001b[0;34m.\u001b[0m\u001b[0mstop_and_update_metrics\u001b[0m\u001b[0;34m(\u001b[0m\u001b[0moutput\u001b[0m\u001b[0;34m.\u001b[0m\u001b[0mmetrics\u001b[0m\u001b[0;34m)\u001b[0m\u001b[0;34m\u001b[0m\u001b[0;34m\u001b[0m\u001b[0m\n\u001b[1;32m   3763\u001b[0m \u001b[0;34m\u001b[0m\u001b[0m\n",
            "\u001b[0;32m/usr/local/lib/python3.10/dist-packages/transformers/trainer_callback.py\u001b[0m in \u001b[0;36mon_predict\u001b[0;34m(self, args, state, control, metrics)\u001b[0m\n\u001b[1;32m    490\u001b[0m \u001b[0;34m\u001b[0m\u001b[0m\n\u001b[1;32m    491\u001b[0m     \u001b[0;32mdef\u001b[0m \u001b[0mon_predict\u001b[0m\u001b[0;34m(\u001b[0m\u001b[0mself\u001b[0m\u001b[0;34m,\u001b[0m \u001b[0margs\u001b[0m\u001b[0;34m:\u001b[0m \u001b[0mTrainingArguments\u001b[0m\u001b[0;34m,\u001b[0m \u001b[0mstate\u001b[0m\u001b[0;34m:\u001b[0m \u001b[0mTrainerState\u001b[0m\u001b[0;34m,\u001b[0m \u001b[0mcontrol\u001b[0m\u001b[0;34m:\u001b[0m \u001b[0mTrainerControl\u001b[0m\u001b[0;34m,\u001b[0m \u001b[0mmetrics\u001b[0m\u001b[0;34m)\u001b[0m\u001b[0;34m:\u001b[0m\u001b[0;34m\u001b[0m\u001b[0;34m\u001b[0m\u001b[0m\n\u001b[0;32m--> 492\u001b[0;31m         \u001b[0;32mreturn\u001b[0m \u001b[0mself\u001b[0m\u001b[0;34m.\u001b[0m\u001b[0mcall_event\u001b[0m\u001b[0;34m(\u001b[0m\u001b[0;34m\"on_predict\"\u001b[0m\u001b[0;34m,\u001b[0m \u001b[0margs\u001b[0m\u001b[0;34m,\u001b[0m \u001b[0mstate\u001b[0m\u001b[0;34m,\u001b[0m \u001b[0mcontrol\u001b[0m\u001b[0;34m,\u001b[0m \u001b[0mmetrics\u001b[0m\u001b[0;34m=\u001b[0m\u001b[0mmetrics\u001b[0m\u001b[0;34m)\u001b[0m\u001b[0;34m\u001b[0m\u001b[0;34m\u001b[0m\u001b[0m\n\u001b[0m\u001b[1;32m    493\u001b[0m \u001b[0;34m\u001b[0m\u001b[0m\n\u001b[1;32m    494\u001b[0m     \u001b[0;32mdef\u001b[0m \u001b[0mon_save\u001b[0m\u001b[0;34m(\u001b[0m\u001b[0mself\u001b[0m\u001b[0;34m,\u001b[0m \u001b[0margs\u001b[0m\u001b[0;34m:\u001b[0m \u001b[0mTrainingArguments\u001b[0m\u001b[0;34m,\u001b[0m \u001b[0mstate\u001b[0m\u001b[0;34m:\u001b[0m \u001b[0mTrainerState\u001b[0m\u001b[0;34m,\u001b[0m \u001b[0mcontrol\u001b[0m\u001b[0;34m:\u001b[0m \u001b[0mTrainerControl\u001b[0m\u001b[0;34m)\u001b[0m\u001b[0;34m:\u001b[0m\u001b[0;34m\u001b[0m\u001b[0;34m\u001b[0m\u001b[0m\n",
            "\u001b[0;32m/usr/local/lib/python3.10/dist-packages/transformers/trainer_callback.py\u001b[0m in \u001b[0;36mcall_event\u001b[0;34m(self, event, args, state, control, **kwargs)\u001b[0m\n\u001b[1;32m    505\u001b[0m     \u001b[0;32mdef\u001b[0m \u001b[0mcall_event\u001b[0m\u001b[0;34m(\u001b[0m\u001b[0mself\u001b[0m\u001b[0;34m,\u001b[0m \u001b[0mevent\u001b[0m\u001b[0;34m,\u001b[0m \u001b[0margs\u001b[0m\u001b[0;34m,\u001b[0m \u001b[0mstate\u001b[0m\u001b[0;34m,\u001b[0m \u001b[0mcontrol\u001b[0m\u001b[0;34m,\u001b[0m \u001b[0;34m**\u001b[0m\u001b[0mkwargs\u001b[0m\u001b[0;34m)\u001b[0m\u001b[0;34m:\u001b[0m\u001b[0;34m\u001b[0m\u001b[0;34m\u001b[0m\u001b[0m\n\u001b[1;32m    506\u001b[0m         \u001b[0;32mfor\u001b[0m \u001b[0mcallback\u001b[0m \u001b[0;32min\u001b[0m \u001b[0mself\u001b[0m\u001b[0;34m.\u001b[0m\u001b[0mcallbacks\u001b[0m\u001b[0;34m:\u001b[0m\u001b[0;34m\u001b[0m\u001b[0;34m\u001b[0m\u001b[0m\n\u001b[0;32m--> 507\u001b[0;31m             result = getattr(callback, event)(\n\u001b[0m\u001b[1;32m    508\u001b[0m                 \u001b[0margs\u001b[0m\u001b[0;34m,\u001b[0m\u001b[0;34m\u001b[0m\u001b[0;34m\u001b[0m\u001b[0m\n\u001b[1;32m    509\u001b[0m                 \u001b[0mstate\u001b[0m\u001b[0;34m,\u001b[0m\u001b[0;34m\u001b[0m\u001b[0;34m\u001b[0m\u001b[0m\n",
            "\u001b[0;32m/usr/local/lib/python3.10/dist-packages/transformers/integrations/integration_utils.py\u001b[0m in \u001b[0;36mon_predict\u001b[0;34m(self, args, state, control, metrics, **kwargs)\u001b[0m\n\u001b[1;32m    990\u001b[0m         \u001b[0;32mif\u001b[0m \u001b[0mstate\u001b[0m\u001b[0;34m.\u001b[0m\u001b[0mis_world_process_zero\u001b[0m\u001b[0;34m:\u001b[0m\u001b[0;34m\u001b[0m\u001b[0;34m\u001b[0m\u001b[0m\n\u001b[1;32m    991\u001b[0m             \u001b[0mmetrics\u001b[0m \u001b[0;34m=\u001b[0m \u001b[0mrewrite_logs\u001b[0m\u001b[0;34m(\u001b[0m\u001b[0mmetrics\u001b[0m\u001b[0;34m)\u001b[0m\u001b[0;34m\u001b[0m\u001b[0;34m\u001b[0m\u001b[0m\n\u001b[0;32m--> 992\u001b[0;31m             \u001b[0mself\u001b[0m\u001b[0;34m.\u001b[0m\u001b[0m_wandb\u001b[0m\u001b[0;34m.\u001b[0m\u001b[0mlog\u001b[0m\u001b[0;34m(\u001b[0m\u001b[0mmetrics\u001b[0m\u001b[0;34m)\u001b[0m\u001b[0;34m\u001b[0m\u001b[0;34m\u001b[0m\u001b[0m\n\u001b[0m\u001b[1;32m    993\u001b[0m \u001b[0;34m\u001b[0m\u001b[0m\n\u001b[1;32m    994\u001b[0m \u001b[0;34m\u001b[0m\u001b[0m\n",
            "\u001b[0;32m/usr/local/lib/python3.10/dist-packages/wandb/sdk/lib/preinit.py\u001b[0m in \u001b[0;36mpreinit_wrapper\u001b[0;34m(*args, **kwargs)\u001b[0m\n\u001b[1;32m     34\u001b[0m ) -> Callable:\n\u001b[1;32m     35\u001b[0m     \u001b[0;32mdef\u001b[0m \u001b[0mpreinit_wrapper\u001b[0m\u001b[0;34m(\u001b[0m\u001b[0;34m*\u001b[0m\u001b[0margs\u001b[0m\u001b[0;34m:\u001b[0m \u001b[0mAny\u001b[0m\u001b[0;34m,\u001b[0m \u001b[0;34m**\u001b[0m\u001b[0mkwargs\u001b[0m\u001b[0;34m:\u001b[0m \u001b[0mAny\u001b[0m\u001b[0;34m)\u001b[0m \u001b[0;34m->\u001b[0m \u001b[0mAny\u001b[0m\u001b[0;34m:\u001b[0m\u001b[0;34m\u001b[0m\u001b[0;34m\u001b[0m\u001b[0m\n\u001b[0;32m---> 36\u001b[0;31m         \u001b[0;32mraise\u001b[0m \u001b[0mwandb\u001b[0m\u001b[0;34m.\u001b[0m\u001b[0mError\u001b[0m\u001b[0;34m(\u001b[0m\u001b[0;34mf\"You must call wandb.init() before {name}()\"\u001b[0m\u001b[0;34m)\u001b[0m\u001b[0;34m\u001b[0m\u001b[0;34m\u001b[0m\u001b[0m\n\u001b[0m\u001b[1;32m     37\u001b[0m \u001b[0;34m\u001b[0m\u001b[0m\n\u001b[1;32m     38\u001b[0m     \u001b[0mpreinit_wrapper\u001b[0m\u001b[0;34m.\u001b[0m\u001b[0m__name__\u001b[0m \u001b[0;34m=\u001b[0m \u001b[0mstr\u001b[0m\u001b[0;34m(\u001b[0m\u001b[0mname\u001b[0m\u001b[0;34m)\u001b[0m\u001b[0;34m\u001b[0m\u001b[0;34m\u001b[0m\u001b[0m\n",
            "\u001b[0;31mError\u001b[0m: You must call wandb.init() before wandb.log()"
          ]
        }
      ]
    },
    {
      "cell_type": "code",
      "source": [
        "!pip install transformers huggingface_hub\n",
        "!huggingface-cli login"
      ],
      "metadata": {
        "colab": {
          "base_uri": "https://localhost:8080/"
        },
        "id": "SwEQCWFgyqlC",
        "outputId": "660adb98-c14d-4224-bcf6-f4aadf574d3e"
      },
      "execution_count": 32,
      "outputs": [
        {
          "output_type": "stream",
          "name": "stdout",
          "text": [
            "Requirement already satisfied: transformers in /usr/local/lib/python3.10/dist-packages (4.44.2)\n",
            "Requirement already satisfied: huggingface_hub in /usr/local/lib/python3.10/dist-packages (0.24.7)\n",
            "Requirement already satisfied: filelock in /usr/local/lib/python3.10/dist-packages (from transformers) (3.16.0)\n",
            "Requirement already satisfied: numpy>=1.17 in /usr/local/lib/python3.10/dist-packages (from transformers) (1.26.4)\n",
            "Requirement already satisfied: packaging>=20.0 in /usr/local/lib/python3.10/dist-packages (from transformers) (24.1)\n",
            "Requirement already satisfied: pyyaml>=5.1 in /usr/local/lib/python3.10/dist-packages (from transformers) (6.0.2)\n",
            "Requirement already satisfied: regex!=2019.12.17 in /usr/local/lib/python3.10/dist-packages (from transformers) (2024.5.15)\n",
            "Requirement already satisfied: requests in /usr/local/lib/python3.10/dist-packages (from transformers) (2.32.3)\n",
            "Requirement already satisfied: safetensors>=0.4.1 in /usr/local/lib/python3.10/dist-packages (from transformers) (0.4.5)\n",
            "Requirement already satisfied: tokenizers<0.20,>=0.19 in /usr/local/lib/python3.10/dist-packages (from transformers) (0.19.1)\n",
            "Requirement already satisfied: tqdm>=4.27 in /usr/local/lib/python3.10/dist-packages (from transformers) (4.66.5)\n",
            "Requirement already satisfied: fsspec>=2023.5.0 in /usr/local/lib/python3.10/dist-packages (from huggingface_hub) (2024.6.1)\n",
            "Requirement already satisfied: typing-extensions>=3.7.4.3 in /usr/local/lib/python3.10/dist-packages (from huggingface_hub) (4.12.2)\n",
            "Requirement already satisfied: charset-normalizer<4,>=2 in /usr/local/lib/python3.10/dist-packages (from requests->transformers) (3.3.2)\n",
            "Requirement already satisfied: idna<4,>=2.5 in /usr/local/lib/python3.10/dist-packages (from requests->transformers) (3.8)\n",
            "Requirement already satisfied: urllib3<3,>=1.21.1 in /usr/local/lib/python3.10/dist-packages (from requests->transformers) (2.0.7)\n",
            "Requirement already satisfied: certifi>=2017.4.17 in /usr/local/lib/python3.10/dist-packages (from requests->transformers) (2024.8.30)\n",
            "\n",
            "    _|    _|  _|    _|    _|_|_|    _|_|_|  _|_|_|  _|      _|    _|_|_|      _|_|_|_|    _|_|      _|_|_|  _|_|_|_|\n",
            "    _|    _|  _|    _|  _|        _|          _|    _|_|    _|  _|            _|        _|    _|  _|        _|\n",
            "    _|_|_|_|  _|    _|  _|  _|_|  _|  _|_|    _|    _|  _|  _|  _|  _|_|      _|_|_|    _|_|_|_|  _|        _|_|_|\n",
            "    _|    _|  _|    _|  _|    _|  _|    _|    _|    _|    _|_|  _|    _|      _|        _|    _|  _|        _|\n",
            "    _|    _|    _|_|      _|_|_|    _|_|_|  _|_|_|  _|      _|    _|_|_|      _|        _|    _|    _|_|_|  _|_|_|_|\n",
            "\n",
            "    To login, `huggingface_hub` requires a token generated from https://huggingface.co/settings/tokens .\n",
            "Enter your token (input will not be visible): \n",
            "Add token as git credential? (Y/n) n\n",
            "Token is valid (permission: write).\n",
            "Your token has been saved to /root/.cache/huggingface/token\n",
            "Login successful\n"
          ]
        }
      ]
    },
    {
      "cell_type": "code",
      "source": [
        "from huggingface_hub import create_repo\n",
        "\n",
        "# Replace 'your-username' with your HF username and 'your-model-name' with the desired model repo name\n",
        "repo_name = \"Logeshkc/bart-large-cnn-newsroom\"\n",
        "create_repo(repo_name)"
      ],
      "metadata": {
        "colab": {
          "base_uri": "https://localhost:8080/",
          "height": 74
        },
        "id": "HqlHmVuoyraJ",
        "outputId": "fae0a686-fb48-498b-9e3c-318921e101b3"
      },
      "execution_count": 34,
      "outputs": [
        {
          "output_type": "execute_result",
          "data": {
            "text/plain": [
              "RepoUrl('https://huggingface.co/Logeshkc/bart-large-cnn-newsroom', endpoint='https://huggingface.co', repo_type='model', repo_id='Logeshkc/bart-large-cnn-newsroom')"
            ],
            "application/vnd.google.colaboratory.intrinsic+json": {
              "type": "string"
            }
          },
          "metadata": {},
          "execution_count": 34
        }
      ]
    },
    {
      "cell_type": "code",
      "source": [
        "from transformers import AutoTokenizer, AutoModelForSeq2SeqLM\n",
        "\n",
        "# Assuming you have the trained model and tokenizer\n",
        "# model = AutoModelForSeq2SeqLM.from_pretrained(\"path_to_your_model\")\n",
        "# tokenizer = AutoTokenizer.from_pretrained(\"path_to_your_tokenizer\")\n",
        "\n",
        "# Save your model and tokenizer locally before pushing\n",
        "model.save_pretrained(\"bart-large-cnn-newsroom\")\n",
        "tokenizer.save_pretrained(\"bart-large-cnn-newsroom\")\n",
        "\n",
        "# Now push them to Hugging Face Hub\n",
        "model.push_to_hub(repo_name)\n",
        "tokenizer.push_to_hub(repo_name)"
      ],
      "metadata": {
        "colab": {
          "base_uri": "https://localhost:8080/",
          "height": 213,
          "referenced_widgets": [
            "1826726d26a7414b945e8ca9343be264",
            "aa14e71b2e754c96b8ab3c53b36af066",
            "c91f427af63e4da2b4235af00d2e549e",
            "5d1e9e3cb6334a07b2f3eeb8d65dbe94",
            "eff808a76f2f4d27bd5aea6404ec640a",
            "fe6c6893fc614194b0c15420eef84534",
            "f0fc6f87b73f44d1aa4ac620d865f7dd",
            "cc1f43f184a04c2d85107ed9403447c5",
            "4b51c00e12634564b3fc274907e5fc16",
            "30c0e26666db452493bde1bb58202a98",
            "0deb1f02e16243f1a6e70e0dfc07676a",
            "f9fa392542bc4631b3ec1d1f8d3e4cbe",
            "a800850a4fa74e11aff0491448eaaafb",
            "474d6173d7c648b381fd4aa623e26cfc",
            "1e6a7c50b0854fa084429d44c2af6d0c",
            "391127497fb44b819c35daac929a7890",
            "e3aa91967a0346fa9cb9ddd4f15c6174",
            "62b79ee93bc14a4e8e5da5df21fb8e5b",
            "5499836a37ee496cb204bee0a55d0b55",
            "25a04dc8d51748569c0fd06f938169a3",
            "0460fcb239fe4d88be3df55545df7008",
            "de2216fa268b435094278ec3d4dcf579"
          ]
        },
        "id": "0ANZeqaAy1C0",
        "outputId": "60d56727-7f8b-409f-9808-6995a0c3c792"
      },
      "execution_count": 35,
      "outputs": [
        {
          "output_type": "stream",
          "name": "stderr",
          "text": [
            "Some non-default generation parameters are set in the model config. These should go into a GenerationConfig file (https://huggingface.co/docs/transformers/generation_strategies#save-a-custom-decoding-strategy-with-your-model) instead. This warning will be raised to an exception in v4.41.\n",
            "Non-default generation parameters: {'max_length': 142, 'min_length': 56, 'early_stopping': True, 'num_beams': 4, 'length_penalty': 2.0, 'no_repeat_ngram_size': 3, 'forced_bos_token_id': 0, 'forced_eos_token_id': 2}\n",
            "Some non-default generation parameters are set in the model config. These should go into a GenerationConfig file (https://huggingface.co/docs/transformers/generation_strategies#save-a-custom-decoding-strategy-with-your-model) instead. This warning will be raised to an exception in v4.41.\n",
            "Non-default generation parameters: {'max_length': 142, 'min_length': 56, 'early_stopping': True, 'num_beams': 4, 'length_penalty': 2.0, 'no_repeat_ngram_size': 3, 'forced_bos_token_id': 0, 'forced_eos_token_id': 2}\n"
          ]
        },
        {
          "output_type": "display_data",
          "data": {
            "text/plain": [
              "model.safetensors:   0%|          | 0.00/1.63G [00:00<?, ?B/s]"
            ],
            "application/vnd.jupyter.widget-view+json": {
              "version_major": 2,
              "version_minor": 0,
              "model_id": "1826726d26a7414b945e8ca9343be264"
            }
          },
          "metadata": {}
        },
        {
          "output_type": "display_data",
          "data": {
            "text/plain": [
              "README.md:   0%|          | 0.00/5.17k [00:00<?, ?B/s]"
            ],
            "application/vnd.jupyter.widget-view+json": {
              "version_major": 2,
              "version_minor": 0,
              "model_id": "f9fa392542bc4631b3ec1d1f8d3e4cbe"
            }
          },
          "metadata": {}
        },
        {
          "output_type": "execute_result",
          "data": {
            "text/plain": [
              "CommitInfo(commit_url='https://huggingface.co/Logeshkc/bart-large-cnn-newsroom/commit/e7cdfe23840a3de8b01207e62dcf040364e01987', commit_message='Upload tokenizer', commit_description='', oid='e7cdfe23840a3de8b01207e62dcf040364e01987', pr_url=None, pr_revision=None, pr_num=None)"
            ],
            "application/vnd.google.colaboratory.intrinsic+json": {
              "type": "string"
            }
          },
          "metadata": {},
          "execution_count": 35
        }
      ]
    },
    {
      "cell_type": "code",
      "source": [
        "trainer.save_model(\"bart-large-cnn-newsroom\")\n",
        "trainer.push_to_hub(repo_name)"
      ],
      "metadata": {
        "colab": {
          "base_uri": "https://localhost:8080/",
          "height": 186
        },
        "id": "kI5PuRIMy7WU",
        "outputId": "24c92926-cc91-4cbc-fe29-3324a22001fb"
      },
      "execution_count": 37,
      "outputs": [
        {
          "output_type": "stream",
          "name": "stderr",
          "text": [
            "Some non-default generation parameters are set in the model config. These should go into a GenerationConfig file (https://huggingface.co/docs/transformers/generation_strategies#save-a-custom-decoding-strategy-with-your-model) instead. This warning will be raised to an exception in v4.41.\n",
            "Non-default generation parameters: {'max_length': 142, 'min_length': 56, 'early_stopping': True, 'num_beams': 4, 'length_penalty': 2.0, 'no_repeat_ngram_size': 3, 'forced_bos_token_id': 0, 'forced_eos_token_id': 2}\n",
            "Some non-default generation parameters are set in the model config. These should go into a GenerationConfig file (https://huggingface.co/docs/transformers/generation_strategies#save-a-custom-decoding-strategy-with-your-model) instead. This warning will be raised to an exception in v4.41.\n",
            "Non-default generation parameters: {'max_length': 142, 'min_length': 56, 'early_stopping': True, 'num_beams': 4, 'length_penalty': 2.0, 'no_repeat_ngram_size': 3, 'forced_bos_token_id': 0, 'forced_eos_token_id': 2}\n",
            "No files have been modified since last commit. Skipping to prevent empty commit.\n",
            "WARNING:huggingface_hub.hf_api:No files have been modified since last commit. Skipping to prevent empty commit.\n"
          ]
        },
        {
          "output_type": "execute_result",
          "data": {
            "text/plain": [
              "CommitInfo(commit_url='https://huggingface.co/Logeshkc/results/commit/294c43722158690d9a571ba2ca5a54826cc07f1d', commit_message='Logeshkc/bart-large-cnn-newsroom', commit_description='', oid='294c43722158690d9a571ba2ca5a54826cc07f1d', pr_url=None, pr_revision=None, pr_num=None)"
            ],
            "application/vnd.google.colaboratory.intrinsic+json": {
              "type": "string"
            }
          },
          "metadata": {},
          "execution_count": 37
        }
      ]
    },
    {
      "cell_type": "code",
      "source": [
        "from transformers import AutoModelForSeq2SeqLM, AutoTokenizer\n",
        "\n",
        "# Load the model and tokenizer from the hub\n",
        "model = AutoModelForSeq2SeqLM.from_pretrained(repo_name)\n",
        "tokenizer = AutoTokenizer.from_pretrained(repo_name)"
      ],
      "metadata": {
        "id": "4Xg4ayZIzHhm"
      },
      "execution_count": null,
      "outputs": []
    },
    {
      "cell_type": "code",
      "source": [],
      "metadata": {
        "id": "4GcrwnwQ0yGS"
      },
      "execution_count": null,
      "outputs": []
    },
    {
      "cell_type": "code",
      "source": [],
      "metadata": {
        "id": "KAwF6L19Hm5g"
      },
      "execution_count": null,
      "outputs": []
    }
  ],
  "metadata": {
    "colab": {
      "name": "Welcome To Colab",
      "provenance": [],
      "gpuType": "V28",
      "include_colab_link": true
    },
    "kernelspec": {
      "display_name": "Python 3",
      "name": "python3"
    },
    "widgets": {
      "application/vnd.jupyter.widget-state+json": {
        "7b2b26fe6c8b46c288eb7585927e83e3": {
          "model_module": "@jupyter-widgets/controls",
          "model_name": "HBoxModel",
          "model_module_version": "1.5.0",
          "state": {
            "_dom_classes": [],
            "_model_module": "@jupyter-widgets/controls",
            "_model_module_version": "1.5.0",
            "_model_name": "HBoxModel",
            "_view_count": null,
            "_view_module": "@jupyter-widgets/controls",
            "_view_module_version": "1.5.0",
            "_view_name": "HBoxView",
            "box_style": "",
            "children": [
              "IPY_MODEL_edfe48c41a78466ea2feb5a9df80e44e",
              "IPY_MODEL_244db535c9834a86b781b11a69db76d9",
              "IPY_MODEL_7f9bfa1e78e74a8ba08367cc35959772"
            ],
            "layout": "IPY_MODEL_eafbba14e9c843ccbc71912e6643c0d0"
          }
        },
        "edfe48c41a78466ea2feb5a9df80e44e": {
          "model_module": "@jupyter-widgets/controls",
          "model_name": "HTMLModel",
          "model_module_version": "1.5.0",
          "state": {
            "_dom_classes": [],
            "_model_module": "@jupyter-widgets/controls",
            "_model_module_version": "1.5.0",
            "_model_name": "HTMLModel",
            "_view_count": null,
            "_view_module": "@jupyter-widgets/controls",
            "_view_module_version": "1.5.0",
            "_view_name": "HTMLView",
            "description": "",
            "description_tooltip": null,
            "layout": "IPY_MODEL_0816c7056030469ca7c9600691c75b92",
            "placeholder": "​",
            "style": "IPY_MODEL_3561df53dc504f1fb366b038af14e874",
            "value": "README.md: 100%"
          }
        },
        "244db535c9834a86b781b11a69db76d9": {
          "model_module": "@jupyter-widgets/controls",
          "model_name": "FloatProgressModel",
          "model_module_version": "1.5.0",
          "state": {
            "_dom_classes": [],
            "_model_module": "@jupyter-widgets/controls",
            "_model_module_version": "1.5.0",
            "_model_name": "FloatProgressModel",
            "_view_count": null,
            "_view_module": "@jupyter-widgets/controls",
            "_view_module_version": "1.5.0",
            "_view_name": "ProgressView",
            "bar_style": "success",
            "description": "",
            "description_tooltip": null,
            "layout": "IPY_MODEL_341afe45d0344747837eb1cd346d03b4",
            "max": 988,
            "min": 0,
            "orientation": "horizontal",
            "style": "IPY_MODEL_bd8d5186c95e4fef994a9e6e152fbcad",
            "value": 988
          }
        },
        "7f9bfa1e78e74a8ba08367cc35959772": {
          "model_module": "@jupyter-widgets/controls",
          "model_name": "HTMLModel",
          "model_module_version": "1.5.0",
          "state": {
            "_dom_classes": [],
            "_model_module": "@jupyter-widgets/controls",
            "_model_module_version": "1.5.0",
            "_model_name": "HTMLModel",
            "_view_count": null,
            "_view_module": "@jupyter-widgets/controls",
            "_view_module_version": "1.5.0",
            "_view_name": "HTMLView",
            "description": "",
            "description_tooltip": null,
            "layout": "IPY_MODEL_83847f57e52b413c88a562298c7275fe",
            "placeholder": "​",
            "style": "IPY_MODEL_a12fdcd9b3464ba5b4402776d51849fa",
            "value": " 988/988 [00:00&lt;00:00, 13.8kB/s]"
          }
        },
        "eafbba14e9c843ccbc71912e6643c0d0": {
          "model_module": "@jupyter-widgets/base",
          "model_name": "LayoutModel",
          "model_module_version": "1.2.0",
          "state": {
            "_model_module": "@jupyter-widgets/base",
            "_model_module_version": "1.2.0",
            "_model_name": "LayoutModel",
            "_view_count": null,
            "_view_module": "@jupyter-widgets/base",
            "_view_module_version": "1.2.0",
            "_view_name": "LayoutView",
            "align_content": null,
            "align_items": null,
            "align_self": null,
            "border": null,
            "bottom": null,
            "display": null,
            "flex": null,
            "flex_flow": null,
            "grid_area": null,
            "grid_auto_columns": null,
            "grid_auto_flow": null,
            "grid_auto_rows": null,
            "grid_column": null,
            "grid_gap": null,
            "grid_row": null,
            "grid_template_areas": null,
            "grid_template_columns": null,
            "grid_template_rows": null,
            "height": null,
            "justify_content": null,
            "justify_items": null,
            "left": null,
            "margin": null,
            "max_height": null,
            "max_width": null,
            "min_height": null,
            "min_width": null,
            "object_fit": null,
            "object_position": null,
            "order": null,
            "overflow": null,
            "overflow_x": null,
            "overflow_y": null,
            "padding": null,
            "right": null,
            "top": null,
            "visibility": null,
            "width": null
          }
        },
        "0816c7056030469ca7c9600691c75b92": {
          "model_module": "@jupyter-widgets/base",
          "model_name": "LayoutModel",
          "model_module_version": "1.2.0",
          "state": {
            "_model_module": "@jupyter-widgets/base",
            "_model_module_version": "1.2.0",
            "_model_name": "LayoutModel",
            "_view_count": null,
            "_view_module": "@jupyter-widgets/base",
            "_view_module_version": "1.2.0",
            "_view_name": "LayoutView",
            "align_content": null,
            "align_items": null,
            "align_self": null,
            "border": null,
            "bottom": null,
            "display": null,
            "flex": null,
            "flex_flow": null,
            "grid_area": null,
            "grid_auto_columns": null,
            "grid_auto_flow": null,
            "grid_auto_rows": null,
            "grid_column": null,
            "grid_gap": null,
            "grid_row": null,
            "grid_template_areas": null,
            "grid_template_columns": null,
            "grid_template_rows": null,
            "height": null,
            "justify_content": null,
            "justify_items": null,
            "left": null,
            "margin": null,
            "max_height": null,
            "max_width": null,
            "min_height": null,
            "min_width": null,
            "object_fit": null,
            "object_position": null,
            "order": null,
            "overflow": null,
            "overflow_x": null,
            "overflow_y": null,
            "padding": null,
            "right": null,
            "top": null,
            "visibility": null,
            "width": null
          }
        },
        "3561df53dc504f1fb366b038af14e874": {
          "model_module": "@jupyter-widgets/controls",
          "model_name": "DescriptionStyleModel",
          "model_module_version": "1.5.0",
          "state": {
            "_model_module": "@jupyter-widgets/controls",
            "_model_module_version": "1.5.0",
            "_model_name": "DescriptionStyleModel",
            "_view_count": null,
            "_view_module": "@jupyter-widgets/base",
            "_view_module_version": "1.2.0",
            "_view_name": "StyleView",
            "description_width": ""
          }
        },
        "341afe45d0344747837eb1cd346d03b4": {
          "model_module": "@jupyter-widgets/base",
          "model_name": "LayoutModel",
          "model_module_version": "1.2.0",
          "state": {
            "_model_module": "@jupyter-widgets/base",
            "_model_module_version": "1.2.0",
            "_model_name": "LayoutModel",
            "_view_count": null,
            "_view_module": "@jupyter-widgets/base",
            "_view_module_version": "1.2.0",
            "_view_name": "LayoutView",
            "align_content": null,
            "align_items": null,
            "align_self": null,
            "border": null,
            "bottom": null,
            "display": null,
            "flex": null,
            "flex_flow": null,
            "grid_area": null,
            "grid_auto_columns": null,
            "grid_auto_flow": null,
            "grid_auto_rows": null,
            "grid_column": null,
            "grid_gap": null,
            "grid_row": null,
            "grid_template_areas": null,
            "grid_template_columns": null,
            "grid_template_rows": null,
            "height": null,
            "justify_content": null,
            "justify_items": null,
            "left": null,
            "margin": null,
            "max_height": null,
            "max_width": null,
            "min_height": null,
            "min_width": null,
            "object_fit": null,
            "object_position": null,
            "order": null,
            "overflow": null,
            "overflow_x": null,
            "overflow_y": null,
            "padding": null,
            "right": null,
            "top": null,
            "visibility": null,
            "width": null
          }
        },
        "bd8d5186c95e4fef994a9e6e152fbcad": {
          "model_module": "@jupyter-widgets/controls",
          "model_name": "ProgressStyleModel",
          "model_module_version": "1.5.0",
          "state": {
            "_model_module": "@jupyter-widgets/controls",
            "_model_module_version": "1.5.0",
            "_model_name": "ProgressStyleModel",
            "_view_count": null,
            "_view_module": "@jupyter-widgets/base",
            "_view_module_version": "1.2.0",
            "_view_name": "StyleView",
            "bar_color": null,
            "description_width": ""
          }
        },
        "83847f57e52b413c88a562298c7275fe": {
          "model_module": "@jupyter-widgets/base",
          "model_name": "LayoutModel",
          "model_module_version": "1.2.0",
          "state": {
            "_model_module": "@jupyter-widgets/base",
            "_model_module_version": "1.2.0",
            "_model_name": "LayoutModel",
            "_view_count": null,
            "_view_module": "@jupyter-widgets/base",
            "_view_module_version": "1.2.0",
            "_view_name": "LayoutView",
            "align_content": null,
            "align_items": null,
            "align_self": null,
            "border": null,
            "bottom": null,
            "display": null,
            "flex": null,
            "flex_flow": null,
            "grid_area": null,
            "grid_auto_columns": null,
            "grid_auto_flow": null,
            "grid_auto_rows": null,
            "grid_column": null,
            "grid_gap": null,
            "grid_row": null,
            "grid_template_areas": null,
            "grid_template_columns": null,
            "grid_template_rows": null,
            "height": null,
            "justify_content": null,
            "justify_items": null,
            "left": null,
            "margin": null,
            "max_height": null,
            "max_width": null,
            "min_height": null,
            "min_width": null,
            "object_fit": null,
            "object_position": null,
            "order": null,
            "overflow": null,
            "overflow_x": null,
            "overflow_y": null,
            "padding": null,
            "right": null,
            "top": null,
            "visibility": null,
            "width": null
          }
        },
        "a12fdcd9b3464ba5b4402776d51849fa": {
          "model_module": "@jupyter-widgets/controls",
          "model_name": "DescriptionStyleModel",
          "model_module_version": "1.5.0",
          "state": {
            "_model_module": "@jupyter-widgets/controls",
            "_model_module_version": "1.5.0",
            "_model_name": "DescriptionStyleModel",
            "_view_count": null,
            "_view_module": "@jupyter-widgets/base",
            "_view_module_version": "1.2.0",
            "_view_name": "StyleView",
            "description_width": ""
          }
        },
        "82755b866009401a8155aa56a0668a51": {
          "model_module": "@jupyter-widgets/controls",
          "model_name": "HBoxModel",
          "model_module_version": "1.5.0",
          "state": {
            "_dom_classes": [],
            "_model_module": "@jupyter-widgets/controls",
            "_model_module_version": "1.5.0",
            "_model_name": "HBoxModel",
            "_view_count": null,
            "_view_module": "@jupyter-widgets/controls",
            "_view_module_version": "1.5.0",
            "_view_name": "HBoxView",
            "box_style": "",
            "children": [
              "IPY_MODEL_da28ce03235f4fc7bbaf0fd9992210c1",
              "IPY_MODEL_5001d549126e441f8073639670cb6fd8",
              "IPY_MODEL_b61fddc3619e4adea1f203f129c18a1e"
            ],
            "layout": "IPY_MODEL_3025af8584494a63917bbf1789e7fcd6"
          }
        },
        "da28ce03235f4fc7bbaf0fd9992210c1": {
          "model_module": "@jupyter-widgets/controls",
          "model_name": "HTMLModel",
          "model_module_version": "1.5.0",
          "state": {
            "_dom_classes": [],
            "_model_module": "@jupyter-widgets/controls",
            "_model_module_version": "1.5.0",
            "_model_name": "HTMLModel",
            "_view_count": null,
            "_view_module": "@jupyter-widgets/controls",
            "_view_module_version": "1.5.0",
            "_view_name": "HTMLView",
            "description": "",
            "description_tooltip": null,
            "layout": "IPY_MODEL_9a465a3d3bc54aa4bc2bfb52df3aae6c",
            "placeholder": "​",
            "style": "IPY_MODEL_772e70f8bdd9430486f2813badb7ac06",
            "value": "Map: 100%"
          }
        },
        "5001d549126e441f8073639670cb6fd8": {
          "model_module": "@jupyter-widgets/controls",
          "model_name": "FloatProgressModel",
          "model_module_version": "1.5.0",
          "state": {
            "_dom_classes": [],
            "_model_module": "@jupyter-widgets/controls",
            "_model_module_version": "1.5.0",
            "_model_name": "FloatProgressModel",
            "_view_count": null,
            "_view_module": "@jupyter-widgets/controls",
            "_view_module_version": "1.5.0",
            "_view_name": "ProgressView",
            "bar_style": "success",
            "description": "",
            "description_tooltip": null,
            "layout": "IPY_MODEL_f8ff3edfe3a0493ab0713e4cb219ab0c",
            "max": 10,
            "min": 0,
            "orientation": "horizontal",
            "style": "IPY_MODEL_5cc408f472b84b2aa8b2b033aab0f0e5",
            "value": 10
          }
        },
        "b61fddc3619e4adea1f203f129c18a1e": {
          "model_module": "@jupyter-widgets/controls",
          "model_name": "HTMLModel",
          "model_module_version": "1.5.0",
          "state": {
            "_dom_classes": [],
            "_model_module": "@jupyter-widgets/controls",
            "_model_module_version": "1.5.0",
            "_model_name": "HTMLModel",
            "_view_count": null,
            "_view_module": "@jupyter-widgets/controls",
            "_view_module_version": "1.5.0",
            "_view_name": "HTMLView",
            "description": "",
            "description_tooltip": null,
            "layout": "IPY_MODEL_16f4ce99dc1045b496805327e96452a9",
            "placeholder": "​",
            "style": "IPY_MODEL_28ea0fe2f5e04bd3beeb4ff6bc494e96",
            "value": " 10/10 [00:00&lt;00:00, 161.48 examples/s]"
          }
        },
        "3025af8584494a63917bbf1789e7fcd6": {
          "model_module": "@jupyter-widgets/base",
          "model_name": "LayoutModel",
          "model_module_version": "1.2.0",
          "state": {
            "_model_module": "@jupyter-widgets/base",
            "_model_module_version": "1.2.0",
            "_model_name": "LayoutModel",
            "_view_count": null,
            "_view_module": "@jupyter-widgets/base",
            "_view_module_version": "1.2.0",
            "_view_name": "LayoutView",
            "align_content": null,
            "align_items": null,
            "align_self": null,
            "border": null,
            "bottom": null,
            "display": null,
            "flex": null,
            "flex_flow": null,
            "grid_area": null,
            "grid_auto_columns": null,
            "grid_auto_flow": null,
            "grid_auto_rows": null,
            "grid_column": null,
            "grid_gap": null,
            "grid_row": null,
            "grid_template_areas": null,
            "grid_template_columns": null,
            "grid_template_rows": null,
            "height": null,
            "justify_content": null,
            "justify_items": null,
            "left": null,
            "margin": null,
            "max_height": null,
            "max_width": null,
            "min_height": null,
            "min_width": null,
            "object_fit": null,
            "object_position": null,
            "order": null,
            "overflow": null,
            "overflow_x": null,
            "overflow_y": null,
            "padding": null,
            "right": null,
            "top": null,
            "visibility": null,
            "width": null
          }
        },
        "9a465a3d3bc54aa4bc2bfb52df3aae6c": {
          "model_module": "@jupyter-widgets/base",
          "model_name": "LayoutModel",
          "model_module_version": "1.2.0",
          "state": {
            "_model_module": "@jupyter-widgets/base",
            "_model_module_version": "1.2.0",
            "_model_name": "LayoutModel",
            "_view_count": null,
            "_view_module": "@jupyter-widgets/base",
            "_view_module_version": "1.2.0",
            "_view_name": "LayoutView",
            "align_content": null,
            "align_items": null,
            "align_self": null,
            "border": null,
            "bottom": null,
            "display": null,
            "flex": null,
            "flex_flow": null,
            "grid_area": null,
            "grid_auto_columns": null,
            "grid_auto_flow": null,
            "grid_auto_rows": null,
            "grid_column": null,
            "grid_gap": null,
            "grid_row": null,
            "grid_template_areas": null,
            "grid_template_columns": null,
            "grid_template_rows": null,
            "height": null,
            "justify_content": null,
            "justify_items": null,
            "left": null,
            "margin": null,
            "max_height": null,
            "max_width": null,
            "min_height": null,
            "min_width": null,
            "object_fit": null,
            "object_position": null,
            "order": null,
            "overflow": null,
            "overflow_x": null,
            "overflow_y": null,
            "padding": null,
            "right": null,
            "top": null,
            "visibility": null,
            "width": null
          }
        },
        "772e70f8bdd9430486f2813badb7ac06": {
          "model_module": "@jupyter-widgets/controls",
          "model_name": "DescriptionStyleModel",
          "model_module_version": "1.5.0",
          "state": {
            "_model_module": "@jupyter-widgets/controls",
            "_model_module_version": "1.5.0",
            "_model_name": "DescriptionStyleModel",
            "_view_count": null,
            "_view_module": "@jupyter-widgets/base",
            "_view_module_version": "1.2.0",
            "_view_name": "StyleView",
            "description_width": ""
          }
        },
        "f8ff3edfe3a0493ab0713e4cb219ab0c": {
          "model_module": "@jupyter-widgets/base",
          "model_name": "LayoutModel",
          "model_module_version": "1.2.0",
          "state": {
            "_model_module": "@jupyter-widgets/base",
            "_model_module_version": "1.2.0",
            "_model_name": "LayoutModel",
            "_view_count": null,
            "_view_module": "@jupyter-widgets/base",
            "_view_module_version": "1.2.0",
            "_view_name": "LayoutView",
            "align_content": null,
            "align_items": null,
            "align_self": null,
            "border": null,
            "bottom": null,
            "display": null,
            "flex": null,
            "flex_flow": null,
            "grid_area": null,
            "grid_auto_columns": null,
            "grid_auto_flow": null,
            "grid_auto_rows": null,
            "grid_column": null,
            "grid_gap": null,
            "grid_row": null,
            "grid_template_areas": null,
            "grid_template_columns": null,
            "grid_template_rows": null,
            "height": null,
            "justify_content": null,
            "justify_items": null,
            "left": null,
            "margin": null,
            "max_height": null,
            "max_width": null,
            "min_height": null,
            "min_width": null,
            "object_fit": null,
            "object_position": null,
            "order": null,
            "overflow": null,
            "overflow_x": null,
            "overflow_y": null,
            "padding": null,
            "right": null,
            "top": null,
            "visibility": null,
            "width": null
          }
        },
        "5cc408f472b84b2aa8b2b033aab0f0e5": {
          "model_module": "@jupyter-widgets/controls",
          "model_name": "ProgressStyleModel",
          "model_module_version": "1.5.0",
          "state": {
            "_model_module": "@jupyter-widgets/controls",
            "_model_module_version": "1.5.0",
            "_model_name": "ProgressStyleModel",
            "_view_count": null,
            "_view_module": "@jupyter-widgets/base",
            "_view_module_version": "1.2.0",
            "_view_name": "StyleView",
            "bar_color": null,
            "description_width": ""
          }
        },
        "16f4ce99dc1045b496805327e96452a9": {
          "model_module": "@jupyter-widgets/base",
          "model_name": "LayoutModel",
          "model_module_version": "1.2.0",
          "state": {
            "_model_module": "@jupyter-widgets/base",
            "_model_module_version": "1.2.0",
            "_model_name": "LayoutModel",
            "_view_count": null,
            "_view_module": "@jupyter-widgets/base",
            "_view_module_version": "1.2.0",
            "_view_name": "LayoutView",
            "align_content": null,
            "align_items": null,
            "align_self": null,
            "border": null,
            "bottom": null,
            "display": null,
            "flex": null,
            "flex_flow": null,
            "grid_area": null,
            "grid_auto_columns": null,
            "grid_auto_flow": null,
            "grid_auto_rows": null,
            "grid_column": null,
            "grid_gap": null,
            "grid_row": null,
            "grid_template_areas": null,
            "grid_template_columns": null,
            "grid_template_rows": null,
            "height": null,
            "justify_content": null,
            "justify_items": null,
            "left": null,
            "margin": null,
            "max_height": null,
            "max_width": null,
            "min_height": null,
            "min_width": null,
            "object_fit": null,
            "object_position": null,
            "order": null,
            "overflow": null,
            "overflow_x": null,
            "overflow_y": null,
            "padding": null,
            "right": null,
            "top": null,
            "visibility": null,
            "width": null
          }
        },
        "28ea0fe2f5e04bd3beeb4ff6bc494e96": {
          "model_module": "@jupyter-widgets/controls",
          "model_name": "DescriptionStyleModel",
          "model_module_version": "1.5.0",
          "state": {
            "_model_module": "@jupyter-widgets/controls",
            "_model_module_version": "1.5.0",
            "_model_name": "DescriptionStyleModel",
            "_view_count": null,
            "_view_module": "@jupyter-widgets/base",
            "_view_module_version": "1.2.0",
            "_view_name": "StyleView",
            "description_width": ""
          }
        },
        "21a72ecb915e4d1c91919b2d62b1d030": {
          "model_module": "@jupyter-widgets/controls",
          "model_name": "HBoxModel",
          "model_module_version": "1.5.0",
          "state": {
            "_dom_classes": [],
            "_model_module": "@jupyter-widgets/controls",
            "_model_module_version": "1.5.0",
            "_model_name": "HBoxModel",
            "_view_count": null,
            "_view_module": "@jupyter-widgets/controls",
            "_view_module_version": "1.5.0",
            "_view_name": "HBoxView",
            "box_style": "",
            "children": [
              "IPY_MODEL_42eb28f8acb1427aa1ff6433ee232f50",
              "IPY_MODEL_efcd92fae44b45369e8217dcaff53e1f",
              "IPY_MODEL_fc74b6c44934407abb43f841ee5b0f0c"
            ],
            "layout": "IPY_MODEL_01fe12f748754f75a440eea7e2407150"
          }
        },
        "42eb28f8acb1427aa1ff6433ee232f50": {
          "model_module": "@jupyter-widgets/controls",
          "model_name": "HTMLModel",
          "model_module_version": "1.5.0",
          "state": {
            "_dom_classes": [],
            "_model_module": "@jupyter-widgets/controls",
            "_model_module_version": "1.5.0",
            "_model_name": "HTMLModel",
            "_view_count": null,
            "_view_module": "@jupyter-widgets/controls",
            "_view_module_version": "1.5.0",
            "_view_name": "HTMLView",
            "description": "",
            "description_tooltip": null,
            "layout": "IPY_MODEL_9f1e5ef3f49745889fcf5c51acac31e6",
            "placeholder": "​",
            "style": "IPY_MODEL_e669c40cd3594bb99e74c9c281b14426",
            "value": "Map: 100%"
          }
        },
        "efcd92fae44b45369e8217dcaff53e1f": {
          "model_module": "@jupyter-widgets/controls",
          "model_name": "FloatProgressModel",
          "model_module_version": "1.5.0",
          "state": {
            "_dom_classes": [],
            "_model_module": "@jupyter-widgets/controls",
            "_model_module_version": "1.5.0",
            "_model_name": "FloatProgressModel",
            "_view_count": null,
            "_view_module": "@jupyter-widgets/controls",
            "_view_module_version": "1.5.0",
            "_view_name": "ProgressView",
            "bar_style": "success",
            "description": "",
            "description_tooltip": null,
            "layout": "IPY_MODEL_398da9c576464ba5bc119c80743ccfe3",
            "max": 10,
            "min": 0,
            "orientation": "horizontal",
            "style": "IPY_MODEL_63a761164cdf43c89efe95ab88ea36fe",
            "value": 10
          }
        },
        "fc74b6c44934407abb43f841ee5b0f0c": {
          "model_module": "@jupyter-widgets/controls",
          "model_name": "HTMLModel",
          "model_module_version": "1.5.0",
          "state": {
            "_dom_classes": [],
            "_model_module": "@jupyter-widgets/controls",
            "_model_module_version": "1.5.0",
            "_model_name": "HTMLModel",
            "_view_count": null,
            "_view_module": "@jupyter-widgets/controls",
            "_view_module_version": "1.5.0",
            "_view_name": "HTMLView",
            "description": "",
            "description_tooltip": null,
            "layout": "IPY_MODEL_884ed84e8cfc40a296e4099a596651da",
            "placeholder": "​",
            "style": "IPY_MODEL_d0189f4c1c6840c1a9f22d0dab04f14e",
            "value": " 10/10 [00:00&lt;00:00, 122.84 examples/s]"
          }
        },
        "01fe12f748754f75a440eea7e2407150": {
          "model_module": "@jupyter-widgets/base",
          "model_name": "LayoutModel",
          "model_module_version": "1.2.0",
          "state": {
            "_model_module": "@jupyter-widgets/base",
            "_model_module_version": "1.2.0",
            "_model_name": "LayoutModel",
            "_view_count": null,
            "_view_module": "@jupyter-widgets/base",
            "_view_module_version": "1.2.0",
            "_view_name": "LayoutView",
            "align_content": null,
            "align_items": null,
            "align_self": null,
            "border": null,
            "bottom": null,
            "display": null,
            "flex": null,
            "flex_flow": null,
            "grid_area": null,
            "grid_auto_columns": null,
            "grid_auto_flow": null,
            "grid_auto_rows": null,
            "grid_column": null,
            "grid_gap": null,
            "grid_row": null,
            "grid_template_areas": null,
            "grid_template_columns": null,
            "grid_template_rows": null,
            "height": null,
            "justify_content": null,
            "justify_items": null,
            "left": null,
            "margin": null,
            "max_height": null,
            "max_width": null,
            "min_height": null,
            "min_width": null,
            "object_fit": null,
            "object_position": null,
            "order": null,
            "overflow": null,
            "overflow_x": null,
            "overflow_y": null,
            "padding": null,
            "right": null,
            "top": null,
            "visibility": null,
            "width": null
          }
        },
        "9f1e5ef3f49745889fcf5c51acac31e6": {
          "model_module": "@jupyter-widgets/base",
          "model_name": "LayoutModel",
          "model_module_version": "1.2.0",
          "state": {
            "_model_module": "@jupyter-widgets/base",
            "_model_module_version": "1.2.0",
            "_model_name": "LayoutModel",
            "_view_count": null,
            "_view_module": "@jupyter-widgets/base",
            "_view_module_version": "1.2.0",
            "_view_name": "LayoutView",
            "align_content": null,
            "align_items": null,
            "align_self": null,
            "border": null,
            "bottom": null,
            "display": null,
            "flex": null,
            "flex_flow": null,
            "grid_area": null,
            "grid_auto_columns": null,
            "grid_auto_flow": null,
            "grid_auto_rows": null,
            "grid_column": null,
            "grid_gap": null,
            "grid_row": null,
            "grid_template_areas": null,
            "grid_template_columns": null,
            "grid_template_rows": null,
            "height": null,
            "justify_content": null,
            "justify_items": null,
            "left": null,
            "margin": null,
            "max_height": null,
            "max_width": null,
            "min_height": null,
            "min_width": null,
            "object_fit": null,
            "object_position": null,
            "order": null,
            "overflow": null,
            "overflow_x": null,
            "overflow_y": null,
            "padding": null,
            "right": null,
            "top": null,
            "visibility": null,
            "width": null
          }
        },
        "e669c40cd3594bb99e74c9c281b14426": {
          "model_module": "@jupyter-widgets/controls",
          "model_name": "DescriptionStyleModel",
          "model_module_version": "1.5.0",
          "state": {
            "_model_module": "@jupyter-widgets/controls",
            "_model_module_version": "1.5.0",
            "_model_name": "DescriptionStyleModel",
            "_view_count": null,
            "_view_module": "@jupyter-widgets/base",
            "_view_module_version": "1.2.0",
            "_view_name": "StyleView",
            "description_width": ""
          }
        },
        "398da9c576464ba5bc119c80743ccfe3": {
          "model_module": "@jupyter-widgets/base",
          "model_name": "LayoutModel",
          "model_module_version": "1.2.0",
          "state": {
            "_model_module": "@jupyter-widgets/base",
            "_model_module_version": "1.2.0",
            "_model_name": "LayoutModel",
            "_view_count": null,
            "_view_module": "@jupyter-widgets/base",
            "_view_module_version": "1.2.0",
            "_view_name": "LayoutView",
            "align_content": null,
            "align_items": null,
            "align_self": null,
            "border": null,
            "bottom": null,
            "display": null,
            "flex": null,
            "flex_flow": null,
            "grid_area": null,
            "grid_auto_columns": null,
            "grid_auto_flow": null,
            "grid_auto_rows": null,
            "grid_column": null,
            "grid_gap": null,
            "grid_row": null,
            "grid_template_areas": null,
            "grid_template_columns": null,
            "grid_template_rows": null,
            "height": null,
            "justify_content": null,
            "justify_items": null,
            "left": null,
            "margin": null,
            "max_height": null,
            "max_width": null,
            "min_height": null,
            "min_width": null,
            "object_fit": null,
            "object_position": null,
            "order": null,
            "overflow": null,
            "overflow_x": null,
            "overflow_y": null,
            "padding": null,
            "right": null,
            "top": null,
            "visibility": null,
            "width": null
          }
        },
        "63a761164cdf43c89efe95ab88ea36fe": {
          "model_module": "@jupyter-widgets/controls",
          "model_name": "ProgressStyleModel",
          "model_module_version": "1.5.0",
          "state": {
            "_model_module": "@jupyter-widgets/controls",
            "_model_module_version": "1.5.0",
            "_model_name": "ProgressStyleModel",
            "_view_count": null,
            "_view_module": "@jupyter-widgets/base",
            "_view_module_version": "1.2.0",
            "_view_name": "StyleView",
            "bar_color": null,
            "description_width": ""
          }
        },
        "884ed84e8cfc40a296e4099a596651da": {
          "model_module": "@jupyter-widgets/base",
          "model_name": "LayoutModel",
          "model_module_version": "1.2.0",
          "state": {
            "_model_module": "@jupyter-widgets/base",
            "_model_module_version": "1.2.0",
            "_model_name": "LayoutModel",
            "_view_count": null,
            "_view_module": "@jupyter-widgets/base",
            "_view_module_version": "1.2.0",
            "_view_name": "LayoutView",
            "align_content": null,
            "align_items": null,
            "align_self": null,
            "border": null,
            "bottom": null,
            "display": null,
            "flex": null,
            "flex_flow": null,
            "grid_area": null,
            "grid_auto_columns": null,
            "grid_auto_flow": null,
            "grid_auto_rows": null,
            "grid_column": null,
            "grid_gap": null,
            "grid_row": null,
            "grid_template_areas": null,
            "grid_template_columns": null,
            "grid_template_rows": null,
            "height": null,
            "justify_content": null,
            "justify_items": null,
            "left": null,
            "margin": null,
            "max_height": null,
            "max_width": null,
            "min_height": null,
            "min_width": null,
            "object_fit": null,
            "object_position": null,
            "order": null,
            "overflow": null,
            "overflow_x": null,
            "overflow_y": null,
            "padding": null,
            "right": null,
            "top": null,
            "visibility": null,
            "width": null
          }
        },
        "d0189f4c1c6840c1a9f22d0dab04f14e": {
          "model_module": "@jupyter-widgets/controls",
          "model_name": "DescriptionStyleModel",
          "model_module_version": "1.5.0",
          "state": {
            "_model_module": "@jupyter-widgets/controls",
            "_model_module_version": "1.5.0",
            "_model_name": "DescriptionStyleModel",
            "_view_count": null,
            "_view_module": "@jupyter-widgets/base",
            "_view_module_version": "1.2.0",
            "_view_name": "StyleView",
            "description_width": ""
          }
        },
        "f587d02e00294275b938b8cec20dac76": {
          "model_module": "@jupyter-widgets/controls",
          "model_name": "HBoxModel",
          "model_module_version": "1.5.0",
          "state": {
            "_dom_classes": [],
            "_model_module": "@jupyter-widgets/controls",
            "_model_module_version": "1.5.0",
            "_model_name": "HBoxModel",
            "_view_count": null,
            "_view_module": "@jupyter-widgets/controls",
            "_view_module_version": "1.5.0",
            "_view_name": "HBoxView",
            "box_style": "",
            "children": [
              "IPY_MODEL_9c656e5c97194be6be6deb3783c5f173",
              "IPY_MODEL_e04628e035f34d719881ee126c1b448b",
              "IPY_MODEL_934ce098c3d84d0ab3fb3d1c01eb4257"
            ],
            "layout": "IPY_MODEL_32217b02deda44758ad4b8f0d477054d"
          }
        },
        "9c656e5c97194be6be6deb3783c5f173": {
          "model_module": "@jupyter-widgets/controls",
          "model_name": "HTMLModel",
          "model_module_version": "1.5.0",
          "state": {
            "_dom_classes": [],
            "_model_module": "@jupyter-widgets/controls",
            "_model_module_version": "1.5.0",
            "_model_name": "HTMLModel",
            "_view_count": null,
            "_view_module": "@jupyter-widgets/controls",
            "_view_module_version": "1.5.0",
            "_view_name": "HTMLView",
            "description": "",
            "description_tooltip": null,
            "layout": "IPY_MODEL_7f12a0a1b4a34a63a49719b060de93aa",
            "placeholder": "​",
            "style": "IPY_MODEL_1b14fbdbaca9462284a9ca4e9b2fff6b",
            "value": "Map: 100%"
          }
        },
        "e04628e035f34d719881ee126c1b448b": {
          "model_module": "@jupyter-widgets/controls",
          "model_name": "FloatProgressModel",
          "model_module_version": "1.5.0",
          "state": {
            "_dom_classes": [],
            "_model_module": "@jupyter-widgets/controls",
            "_model_module_version": "1.5.0",
            "_model_name": "FloatProgressModel",
            "_view_count": null,
            "_view_module": "@jupyter-widgets/controls",
            "_view_module_version": "1.5.0",
            "_view_name": "ProgressView",
            "bar_style": "success",
            "description": "",
            "description_tooltip": null,
            "layout": "IPY_MODEL_e9ded8905f0744ffbaee8e1b4e842679",
            "max": 10,
            "min": 0,
            "orientation": "horizontal",
            "style": "IPY_MODEL_66b311b53fc04345ac47f2d472924dbf",
            "value": 10
          }
        },
        "934ce098c3d84d0ab3fb3d1c01eb4257": {
          "model_module": "@jupyter-widgets/controls",
          "model_name": "HTMLModel",
          "model_module_version": "1.5.0",
          "state": {
            "_dom_classes": [],
            "_model_module": "@jupyter-widgets/controls",
            "_model_module_version": "1.5.0",
            "_model_name": "HTMLModel",
            "_view_count": null,
            "_view_module": "@jupyter-widgets/controls",
            "_view_module_version": "1.5.0",
            "_view_name": "HTMLView",
            "description": "",
            "description_tooltip": null,
            "layout": "IPY_MODEL_6129c8e6e200441487fdd6e255ce1ec0",
            "placeholder": "​",
            "style": "IPY_MODEL_4499b8e67d0d46b3a2c8cb786105ff4d",
            "value": " 10/10 [00:00&lt;00:00, 138.90 examples/s]"
          }
        },
        "32217b02deda44758ad4b8f0d477054d": {
          "model_module": "@jupyter-widgets/base",
          "model_name": "LayoutModel",
          "model_module_version": "1.2.0",
          "state": {
            "_model_module": "@jupyter-widgets/base",
            "_model_module_version": "1.2.0",
            "_model_name": "LayoutModel",
            "_view_count": null,
            "_view_module": "@jupyter-widgets/base",
            "_view_module_version": "1.2.0",
            "_view_name": "LayoutView",
            "align_content": null,
            "align_items": null,
            "align_self": null,
            "border": null,
            "bottom": null,
            "display": null,
            "flex": null,
            "flex_flow": null,
            "grid_area": null,
            "grid_auto_columns": null,
            "grid_auto_flow": null,
            "grid_auto_rows": null,
            "grid_column": null,
            "grid_gap": null,
            "grid_row": null,
            "grid_template_areas": null,
            "grid_template_columns": null,
            "grid_template_rows": null,
            "height": null,
            "justify_content": null,
            "justify_items": null,
            "left": null,
            "margin": null,
            "max_height": null,
            "max_width": null,
            "min_height": null,
            "min_width": null,
            "object_fit": null,
            "object_position": null,
            "order": null,
            "overflow": null,
            "overflow_x": null,
            "overflow_y": null,
            "padding": null,
            "right": null,
            "top": null,
            "visibility": null,
            "width": null
          }
        },
        "7f12a0a1b4a34a63a49719b060de93aa": {
          "model_module": "@jupyter-widgets/base",
          "model_name": "LayoutModel",
          "model_module_version": "1.2.0",
          "state": {
            "_model_module": "@jupyter-widgets/base",
            "_model_module_version": "1.2.0",
            "_model_name": "LayoutModel",
            "_view_count": null,
            "_view_module": "@jupyter-widgets/base",
            "_view_module_version": "1.2.0",
            "_view_name": "LayoutView",
            "align_content": null,
            "align_items": null,
            "align_self": null,
            "border": null,
            "bottom": null,
            "display": null,
            "flex": null,
            "flex_flow": null,
            "grid_area": null,
            "grid_auto_columns": null,
            "grid_auto_flow": null,
            "grid_auto_rows": null,
            "grid_column": null,
            "grid_gap": null,
            "grid_row": null,
            "grid_template_areas": null,
            "grid_template_columns": null,
            "grid_template_rows": null,
            "height": null,
            "justify_content": null,
            "justify_items": null,
            "left": null,
            "margin": null,
            "max_height": null,
            "max_width": null,
            "min_height": null,
            "min_width": null,
            "object_fit": null,
            "object_position": null,
            "order": null,
            "overflow": null,
            "overflow_x": null,
            "overflow_y": null,
            "padding": null,
            "right": null,
            "top": null,
            "visibility": null,
            "width": null
          }
        },
        "1b14fbdbaca9462284a9ca4e9b2fff6b": {
          "model_module": "@jupyter-widgets/controls",
          "model_name": "DescriptionStyleModel",
          "model_module_version": "1.5.0",
          "state": {
            "_model_module": "@jupyter-widgets/controls",
            "_model_module_version": "1.5.0",
            "_model_name": "DescriptionStyleModel",
            "_view_count": null,
            "_view_module": "@jupyter-widgets/base",
            "_view_module_version": "1.2.0",
            "_view_name": "StyleView",
            "description_width": ""
          }
        },
        "e9ded8905f0744ffbaee8e1b4e842679": {
          "model_module": "@jupyter-widgets/base",
          "model_name": "LayoutModel",
          "model_module_version": "1.2.0",
          "state": {
            "_model_module": "@jupyter-widgets/base",
            "_model_module_version": "1.2.0",
            "_model_name": "LayoutModel",
            "_view_count": null,
            "_view_module": "@jupyter-widgets/base",
            "_view_module_version": "1.2.0",
            "_view_name": "LayoutView",
            "align_content": null,
            "align_items": null,
            "align_self": null,
            "border": null,
            "bottom": null,
            "display": null,
            "flex": null,
            "flex_flow": null,
            "grid_area": null,
            "grid_auto_columns": null,
            "grid_auto_flow": null,
            "grid_auto_rows": null,
            "grid_column": null,
            "grid_gap": null,
            "grid_row": null,
            "grid_template_areas": null,
            "grid_template_columns": null,
            "grid_template_rows": null,
            "height": null,
            "justify_content": null,
            "justify_items": null,
            "left": null,
            "margin": null,
            "max_height": null,
            "max_width": null,
            "min_height": null,
            "min_width": null,
            "object_fit": null,
            "object_position": null,
            "order": null,
            "overflow": null,
            "overflow_x": null,
            "overflow_y": null,
            "padding": null,
            "right": null,
            "top": null,
            "visibility": null,
            "width": null
          }
        },
        "66b311b53fc04345ac47f2d472924dbf": {
          "model_module": "@jupyter-widgets/controls",
          "model_name": "ProgressStyleModel",
          "model_module_version": "1.5.0",
          "state": {
            "_model_module": "@jupyter-widgets/controls",
            "_model_module_version": "1.5.0",
            "_model_name": "ProgressStyleModel",
            "_view_count": null,
            "_view_module": "@jupyter-widgets/base",
            "_view_module_version": "1.2.0",
            "_view_name": "StyleView",
            "bar_color": null,
            "description_width": ""
          }
        },
        "6129c8e6e200441487fdd6e255ce1ec0": {
          "model_module": "@jupyter-widgets/base",
          "model_name": "LayoutModel",
          "model_module_version": "1.2.0",
          "state": {
            "_model_module": "@jupyter-widgets/base",
            "_model_module_version": "1.2.0",
            "_model_name": "LayoutModel",
            "_view_count": null,
            "_view_module": "@jupyter-widgets/base",
            "_view_module_version": "1.2.0",
            "_view_name": "LayoutView",
            "align_content": null,
            "align_items": null,
            "align_self": null,
            "border": null,
            "bottom": null,
            "display": null,
            "flex": null,
            "flex_flow": null,
            "grid_area": null,
            "grid_auto_columns": null,
            "grid_auto_flow": null,
            "grid_auto_rows": null,
            "grid_column": null,
            "grid_gap": null,
            "grid_row": null,
            "grid_template_areas": null,
            "grid_template_columns": null,
            "grid_template_rows": null,
            "height": null,
            "justify_content": null,
            "justify_items": null,
            "left": null,
            "margin": null,
            "max_height": null,
            "max_width": null,
            "min_height": null,
            "min_width": null,
            "object_fit": null,
            "object_position": null,
            "order": null,
            "overflow": null,
            "overflow_x": null,
            "overflow_y": null,
            "padding": null,
            "right": null,
            "top": null,
            "visibility": null,
            "width": null
          }
        },
        "4499b8e67d0d46b3a2c8cb786105ff4d": {
          "model_module": "@jupyter-widgets/controls",
          "model_name": "DescriptionStyleModel",
          "model_module_version": "1.5.0",
          "state": {
            "_model_module": "@jupyter-widgets/controls",
            "_model_module_version": "1.5.0",
            "_model_name": "DescriptionStyleModel",
            "_view_count": null,
            "_view_module": "@jupyter-widgets/base",
            "_view_module_version": "1.2.0",
            "_view_name": "StyleView",
            "description_width": ""
          }
        },
        "67691184378a460fabbaa9deffbf2942": {
          "model_module": "@jupyter-widgets/controls",
          "model_name": "HBoxModel",
          "model_module_version": "1.5.0",
          "state": {
            "_dom_classes": [],
            "_model_module": "@jupyter-widgets/controls",
            "_model_module_version": "1.5.0",
            "_model_name": "HBoxModel",
            "_view_count": null,
            "_view_module": "@jupyter-widgets/controls",
            "_view_module_version": "1.5.0",
            "_view_name": "HBoxView",
            "box_style": "",
            "children": [
              "IPY_MODEL_1c140e47458344daa17ce2135969ab66",
              "IPY_MODEL_412ccc11949e4e7493ba9add45c32ac0",
              "IPY_MODEL_27e7a671a85d4771899b7a39021798b3"
            ],
            "layout": "IPY_MODEL_7e153a93915a4e0887827d46f7f6c42d"
          }
        },
        "1c140e47458344daa17ce2135969ab66": {
          "model_module": "@jupyter-widgets/controls",
          "model_name": "HTMLModel",
          "model_module_version": "1.5.0",
          "state": {
            "_dom_classes": [],
            "_model_module": "@jupyter-widgets/controls",
            "_model_module_version": "1.5.0",
            "_model_name": "HTMLModel",
            "_view_count": null,
            "_view_module": "@jupyter-widgets/controls",
            "_view_module_version": "1.5.0",
            "_view_name": "HTMLView",
            "description": "",
            "description_tooltip": null,
            "layout": "IPY_MODEL_78538f7b0f544cb29717a61ff6243ba8",
            "placeholder": "​",
            "style": "IPY_MODEL_4348ac706dad4b6cbc6f4e3f4f61a625",
            "value": "Downloading builder script: 100%"
          }
        },
        "412ccc11949e4e7493ba9add45c32ac0": {
          "model_module": "@jupyter-widgets/controls",
          "model_name": "FloatProgressModel",
          "model_module_version": "1.5.0",
          "state": {
            "_dom_classes": [],
            "_model_module": "@jupyter-widgets/controls",
            "_model_module_version": "1.5.0",
            "_model_name": "FloatProgressModel",
            "_view_count": null,
            "_view_module": "@jupyter-widgets/controls",
            "_view_module_version": "1.5.0",
            "_view_name": "ProgressView",
            "bar_style": "success",
            "description": "",
            "description_tooltip": null,
            "layout": "IPY_MODEL_bc5ed0f6efbd43e8b94f1738a6eeb025",
            "max": 6270,
            "min": 0,
            "orientation": "horizontal",
            "style": "IPY_MODEL_4e05224098c24064bec6be13e8195c89",
            "value": 6270
          }
        },
        "27e7a671a85d4771899b7a39021798b3": {
          "model_module": "@jupyter-widgets/controls",
          "model_name": "HTMLModel",
          "model_module_version": "1.5.0",
          "state": {
            "_dom_classes": [],
            "_model_module": "@jupyter-widgets/controls",
            "_model_module_version": "1.5.0",
            "_model_name": "HTMLModel",
            "_view_count": null,
            "_view_module": "@jupyter-widgets/controls",
            "_view_module_version": "1.5.0",
            "_view_name": "HTMLView",
            "description": "",
            "description_tooltip": null,
            "layout": "IPY_MODEL_1b01b2e24f664d2799a03bf5bca74d38",
            "placeholder": "​",
            "style": "IPY_MODEL_55a1ef07e4a247d7bad3ffabd3e016a1",
            "value": " 6.27k/6.27k [00:00&lt;00:00, 338kB/s]"
          }
        },
        "7e153a93915a4e0887827d46f7f6c42d": {
          "model_module": "@jupyter-widgets/base",
          "model_name": "LayoutModel",
          "model_module_version": "1.2.0",
          "state": {
            "_model_module": "@jupyter-widgets/base",
            "_model_module_version": "1.2.0",
            "_model_name": "LayoutModel",
            "_view_count": null,
            "_view_module": "@jupyter-widgets/base",
            "_view_module_version": "1.2.0",
            "_view_name": "LayoutView",
            "align_content": null,
            "align_items": null,
            "align_self": null,
            "border": null,
            "bottom": null,
            "display": null,
            "flex": null,
            "flex_flow": null,
            "grid_area": null,
            "grid_auto_columns": null,
            "grid_auto_flow": null,
            "grid_auto_rows": null,
            "grid_column": null,
            "grid_gap": null,
            "grid_row": null,
            "grid_template_areas": null,
            "grid_template_columns": null,
            "grid_template_rows": null,
            "height": null,
            "justify_content": null,
            "justify_items": null,
            "left": null,
            "margin": null,
            "max_height": null,
            "max_width": null,
            "min_height": null,
            "min_width": null,
            "object_fit": null,
            "object_position": null,
            "order": null,
            "overflow": null,
            "overflow_x": null,
            "overflow_y": null,
            "padding": null,
            "right": null,
            "top": null,
            "visibility": null,
            "width": null
          }
        },
        "78538f7b0f544cb29717a61ff6243ba8": {
          "model_module": "@jupyter-widgets/base",
          "model_name": "LayoutModel",
          "model_module_version": "1.2.0",
          "state": {
            "_model_module": "@jupyter-widgets/base",
            "_model_module_version": "1.2.0",
            "_model_name": "LayoutModel",
            "_view_count": null,
            "_view_module": "@jupyter-widgets/base",
            "_view_module_version": "1.2.0",
            "_view_name": "LayoutView",
            "align_content": null,
            "align_items": null,
            "align_self": null,
            "border": null,
            "bottom": null,
            "display": null,
            "flex": null,
            "flex_flow": null,
            "grid_area": null,
            "grid_auto_columns": null,
            "grid_auto_flow": null,
            "grid_auto_rows": null,
            "grid_column": null,
            "grid_gap": null,
            "grid_row": null,
            "grid_template_areas": null,
            "grid_template_columns": null,
            "grid_template_rows": null,
            "height": null,
            "justify_content": null,
            "justify_items": null,
            "left": null,
            "margin": null,
            "max_height": null,
            "max_width": null,
            "min_height": null,
            "min_width": null,
            "object_fit": null,
            "object_position": null,
            "order": null,
            "overflow": null,
            "overflow_x": null,
            "overflow_y": null,
            "padding": null,
            "right": null,
            "top": null,
            "visibility": null,
            "width": null
          }
        },
        "4348ac706dad4b6cbc6f4e3f4f61a625": {
          "model_module": "@jupyter-widgets/controls",
          "model_name": "DescriptionStyleModel",
          "model_module_version": "1.5.0",
          "state": {
            "_model_module": "@jupyter-widgets/controls",
            "_model_module_version": "1.5.0",
            "_model_name": "DescriptionStyleModel",
            "_view_count": null,
            "_view_module": "@jupyter-widgets/base",
            "_view_module_version": "1.2.0",
            "_view_name": "StyleView",
            "description_width": ""
          }
        },
        "bc5ed0f6efbd43e8b94f1738a6eeb025": {
          "model_module": "@jupyter-widgets/base",
          "model_name": "LayoutModel",
          "model_module_version": "1.2.0",
          "state": {
            "_model_module": "@jupyter-widgets/base",
            "_model_module_version": "1.2.0",
            "_model_name": "LayoutModel",
            "_view_count": null,
            "_view_module": "@jupyter-widgets/base",
            "_view_module_version": "1.2.0",
            "_view_name": "LayoutView",
            "align_content": null,
            "align_items": null,
            "align_self": null,
            "border": null,
            "bottom": null,
            "display": null,
            "flex": null,
            "flex_flow": null,
            "grid_area": null,
            "grid_auto_columns": null,
            "grid_auto_flow": null,
            "grid_auto_rows": null,
            "grid_column": null,
            "grid_gap": null,
            "grid_row": null,
            "grid_template_areas": null,
            "grid_template_columns": null,
            "grid_template_rows": null,
            "height": null,
            "justify_content": null,
            "justify_items": null,
            "left": null,
            "margin": null,
            "max_height": null,
            "max_width": null,
            "min_height": null,
            "min_width": null,
            "object_fit": null,
            "object_position": null,
            "order": null,
            "overflow": null,
            "overflow_x": null,
            "overflow_y": null,
            "padding": null,
            "right": null,
            "top": null,
            "visibility": null,
            "width": null
          }
        },
        "4e05224098c24064bec6be13e8195c89": {
          "model_module": "@jupyter-widgets/controls",
          "model_name": "ProgressStyleModel",
          "model_module_version": "1.5.0",
          "state": {
            "_model_module": "@jupyter-widgets/controls",
            "_model_module_version": "1.5.0",
            "_model_name": "ProgressStyleModel",
            "_view_count": null,
            "_view_module": "@jupyter-widgets/base",
            "_view_module_version": "1.2.0",
            "_view_name": "StyleView",
            "bar_color": null,
            "description_width": ""
          }
        },
        "1b01b2e24f664d2799a03bf5bca74d38": {
          "model_module": "@jupyter-widgets/base",
          "model_name": "LayoutModel",
          "model_module_version": "1.2.0",
          "state": {
            "_model_module": "@jupyter-widgets/base",
            "_model_module_version": "1.2.0",
            "_model_name": "LayoutModel",
            "_view_count": null,
            "_view_module": "@jupyter-widgets/base",
            "_view_module_version": "1.2.0",
            "_view_name": "LayoutView",
            "align_content": null,
            "align_items": null,
            "align_self": null,
            "border": null,
            "bottom": null,
            "display": null,
            "flex": null,
            "flex_flow": null,
            "grid_area": null,
            "grid_auto_columns": null,
            "grid_auto_flow": null,
            "grid_auto_rows": null,
            "grid_column": null,
            "grid_gap": null,
            "grid_row": null,
            "grid_template_areas": null,
            "grid_template_columns": null,
            "grid_template_rows": null,
            "height": null,
            "justify_content": null,
            "justify_items": null,
            "left": null,
            "margin": null,
            "max_height": null,
            "max_width": null,
            "min_height": null,
            "min_width": null,
            "object_fit": null,
            "object_position": null,
            "order": null,
            "overflow": null,
            "overflow_x": null,
            "overflow_y": null,
            "padding": null,
            "right": null,
            "top": null,
            "visibility": null,
            "width": null
          }
        },
        "55a1ef07e4a247d7bad3ffabd3e016a1": {
          "model_module": "@jupyter-widgets/controls",
          "model_name": "DescriptionStyleModel",
          "model_module_version": "1.5.0",
          "state": {
            "_model_module": "@jupyter-widgets/controls",
            "_model_module_version": "1.5.0",
            "_model_name": "DescriptionStyleModel",
            "_view_count": null,
            "_view_module": "@jupyter-widgets/base",
            "_view_module_version": "1.2.0",
            "_view_name": "StyleView",
            "description_width": ""
          }
        },
        "50387fd8bb3d42d3a7e4bd6792b4361f": {
          "model_module": "@jupyter-widgets/controls",
          "model_name": "VBoxModel",
          "model_module_version": "1.5.0",
          "state": {
            "_dom_classes": [],
            "_model_module": "@jupyter-widgets/controls",
            "_model_module_version": "1.5.0",
            "_model_name": "VBoxModel",
            "_view_count": null,
            "_view_module": "@jupyter-widgets/controls",
            "_view_module_version": "1.5.0",
            "_view_name": "VBoxView",
            "box_style": "",
            "children": [
              "IPY_MODEL_1693edd15df64bb8b92aff1e38afbbb0",
              "IPY_MODEL_989bf836f4744876a8a3bf4915c8d1f4"
            ],
            "layout": "IPY_MODEL_55bf703c4da54e0387fef342cfeac073"
          }
        },
        "1693edd15df64bb8b92aff1e38afbbb0": {
          "model_module": "@jupyter-widgets/controls",
          "model_name": "LabelModel",
          "model_module_version": "1.5.0",
          "state": {
            "_dom_classes": [],
            "_model_module": "@jupyter-widgets/controls",
            "_model_module_version": "1.5.0",
            "_model_name": "LabelModel",
            "_view_count": null,
            "_view_module": "@jupyter-widgets/controls",
            "_view_module_version": "1.5.0",
            "_view_name": "LabelView",
            "description": "",
            "description_tooltip": null,
            "layout": "IPY_MODEL_4f4c5e41701f43f4a40081fc9bad09da",
            "placeholder": "​",
            "style": "IPY_MODEL_107098a7f3d04c23941991632b8d942f",
            "value": "0.057 MB of 0.057 MB uploaded\r"
          }
        },
        "989bf836f4744876a8a3bf4915c8d1f4": {
          "model_module": "@jupyter-widgets/controls",
          "model_name": "FloatProgressModel",
          "model_module_version": "1.5.0",
          "state": {
            "_dom_classes": [],
            "_model_module": "@jupyter-widgets/controls",
            "_model_module_version": "1.5.0",
            "_model_name": "FloatProgressModel",
            "_view_count": null,
            "_view_module": "@jupyter-widgets/controls",
            "_view_module_version": "1.5.0",
            "_view_name": "ProgressView",
            "bar_style": "",
            "description": "",
            "description_tooltip": null,
            "layout": "IPY_MODEL_0b153982537a4f8a927e980481ef2fc4",
            "max": 1,
            "min": 0,
            "orientation": "horizontal",
            "style": "IPY_MODEL_c84b0ed37d824200b68483672d1f6e13",
            "value": 1
          }
        },
        "55bf703c4da54e0387fef342cfeac073": {
          "model_module": "@jupyter-widgets/base",
          "model_name": "LayoutModel",
          "model_module_version": "1.2.0",
          "state": {
            "_model_module": "@jupyter-widgets/base",
            "_model_module_version": "1.2.0",
            "_model_name": "LayoutModel",
            "_view_count": null,
            "_view_module": "@jupyter-widgets/base",
            "_view_module_version": "1.2.0",
            "_view_name": "LayoutView",
            "align_content": null,
            "align_items": null,
            "align_self": null,
            "border": null,
            "bottom": null,
            "display": null,
            "flex": null,
            "flex_flow": null,
            "grid_area": null,
            "grid_auto_columns": null,
            "grid_auto_flow": null,
            "grid_auto_rows": null,
            "grid_column": null,
            "grid_gap": null,
            "grid_row": null,
            "grid_template_areas": null,
            "grid_template_columns": null,
            "grid_template_rows": null,
            "height": null,
            "justify_content": null,
            "justify_items": null,
            "left": null,
            "margin": null,
            "max_height": null,
            "max_width": null,
            "min_height": null,
            "min_width": null,
            "object_fit": null,
            "object_position": null,
            "order": null,
            "overflow": null,
            "overflow_x": null,
            "overflow_y": null,
            "padding": null,
            "right": null,
            "top": null,
            "visibility": null,
            "width": null
          }
        },
        "4f4c5e41701f43f4a40081fc9bad09da": {
          "model_module": "@jupyter-widgets/base",
          "model_name": "LayoutModel",
          "model_module_version": "1.2.0",
          "state": {
            "_model_module": "@jupyter-widgets/base",
            "_model_module_version": "1.2.0",
            "_model_name": "LayoutModel",
            "_view_count": null,
            "_view_module": "@jupyter-widgets/base",
            "_view_module_version": "1.2.0",
            "_view_name": "LayoutView",
            "align_content": null,
            "align_items": null,
            "align_self": null,
            "border": null,
            "bottom": null,
            "display": null,
            "flex": null,
            "flex_flow": null,
            "grid_area": null,
            "grid_auto_columns": null,
            "grid_auto_flow": null,
            "grid_auto_rows": null,
            "grid_column": null,
            "grid_gap": null,
            "grid_row": null,
            "grid_template_areas": null,
            "grid_template_columns": null,
            "grid_template_rows": null,
            "height": null,
            "justify_content": null,
            "justify_items": null,
            "left": null,
            "margin": null,
            "max_height": null,
            "max_width": null,
            "min_height": null,
            "min_width": null,
            "object_fit": null,
            "object_position": null,
            "order": null,
            "overflow": null,
            "overflow_x": null,
            "overflow_y": null,
            "padding": null,
            "right": null,
            "top": null,
            "visibility": null,
            "width": null
          }
        },
        "107098a7f3d04c23941991632b8d942f": {
          "model_module": "@jupyter-widgets/controls",
          "model_name": "DescriptionStyleModel",
          "model_module_version": "1.5.0",
          "state": {
            "_model_module": "@jupyter-widgets/controls",
            "_model_module_version": "1.5.0",
            "_model_name": "DescriptionStyleModel",
            "_view_count": null,
            "_view_module": "@jupyter-widgets/base",
            "_view_module_version": "1.2.0",
            "_view_name": "StyleView",
            "description_width": ""
          }
        },
        "0b153982537a4f8a927e980481ef2fc4": {
          "model_module": "@jupyter-widgets/base",
          "model_name": "LayoutModel",
          "model_module_version": "1.2.0",
          "state": {
            "_model_module": "@jupyter-widgets/base",
            "_model_module_version": "1.2.0",
            "_model_name": "LayoutModel",
            "_view_count": null,
            "_view_module": "@jupyter-widgets/base",
            "_view_module_version": "1.2.0",
            "_view_name": "LayoutView",
            "align_content": null,
            "align_items": null,
            "align_self": null,
            "border": null,
            "bottom": null,
            "display": null,
            "flex": null,
            "flex_flow": null,
            "grid_area": null,
            "grid_auto_columns": null,
            "grid_auto_flow": null,
            "grid_auto_rows": null,
            "grid_column": null,
            "grid_gap": null,
            "grid_row": null,
            "grid_template_areas": null,
            "grid_template_columns": null,
            "grid_template_rows": null,
            "height": null,
            "justify_content": null,
            "justify_items": null,
            "left": null,
            "margin": null,
            "max_height": null,
            "max_width": null,
            "min_height": null,
            "min_width": null,
            "object_fit": null,
            "object_position": null,
            "order": null,
            "overflow": null,
            "overflow_x": null,
            "overflow_y": null,
            "padding": null,
            "right": null,
            "top": null,
            "visibility": null,
            "width": null
          }
        },
        "c84b0ed37d824200b68483672d1f6e13": {
          "model_module": "@jupyter-widgets/controls",
          "model_name": "ProgressStyleModel",
          "model_module_version": "1.5.0",
          "state": {
            "_model_module": "@jupyter-widgets/controls",
            "_model_module_version": "1.5.0",
            "_model_name": "ProgressStyleModel",
            "_view_count": null,
            "_view_module": "@jupyter-widgets/base",
            "_view_module_version": "1.2.0",
            "_view_name": "StyleView",
            "bar_color": null,
            "description_width": ""
          }
        },
        "1826726d26a7414b945e8ca9343be264": {
          "model_module": "@jupyter-widgets/controls",
          "model_name": "HBoxModel",
          "model_module_version": "1.5.0",
          "state": {
            "_dom_classes": [],
            "_model_module": "@jupyter-widgets/controls",
            "_model_module_version": "1.5.0",
            "_model_name": "HBoxModel",
            "_view_count": null,
            "_view_module": "@jupyter-widgets/controls",
            "_view_module_version": "1.5.0",
            "_view_name": "HBoxView",
            "box_style": "",
            "children": [
              "IPY_MODEL_aa14e71b2e754c96b8ab3c53b36af066",
              "IPY_MODEL_c91f427af63e4da2b4235af00d2e549e",
              "IPY_MODEL_5d1e9e3cb6334a07b2f3eeb8d65dbe94"
            ],
            "layout": "IPY_MODEL_eff808a76f2f4d27bd5aea6404ec640a"
          }
        },
        "aa14e71b2e754c96b8ab3c53b36af066": {
          "model_module": "@jupyter-widgets/controls",
          "model_name": "HTMLModel",
          "model_module_version": "1.5.0",
          "state": {
            "_dom_classes": [],
            "_model_module": "@jupyter-widgets/controls",
            "_model_module_version": "1.5.0",
            "_model_name": "HTMLModel",
            "_view_count": null,
            "_view_module": "@jupyter-widgets/controls",
            "_view_module_version": "1.5.0",
            "_view_name": "HTMLView",
            "description": "",
            "description_tooltip": null,
            "layout": "IPY_MODEL_fe6c6893fc614194b0c15420eef84534",
            "placeholder": "​",
            "style": "IPY_MODEL_f0fc6f87b73f44d1aa4ac620d865f7dd",
            "value": "model.safetensors: 100%"
          }
        },
        "c91f427af63e4da2b4235af00d2e549e": {
          "model_module": "@jupyter-widgets/controls",
          "model_name": "FloatProgressModel",
          "model_module_version": "1.5.0",
          "state": {
            "_dom_classes": [],
            "_model_module": "@jupyter-widgets/controls",
            "_model_module_version": "1.5.0",
            "_model_name": "FloatProgressModel",
            "_view_count": null,
            "_view_module": "@jupyter-widgets/controls",
            "_view_module_version": "1.5.0",
            "_view_name": "ProgressView",
            "bar_style": "success",
            "description": "",
            "description_tooltip": null,
            "layout": "IPY_MODEL_cc1f43f184a04c2d85107ed9403447c5",
            "max": 1625422896,
            "min": 0,
            "orientation": "horizontal",
            "style": "IPY_MODEL_4b51c00e12634564b3fc274907e5fc16",
            "value": 1625422896
          }
        },
        "5d1e9e3cb6334a07b2f3eeb8d65dbe94": {
          "model_module": "@jupyter-widgets/controls",
          "model_name": "HTMLModel",
          "model_module_version": "1.5.0",
          "state": {
            "_dom_classes": [],
            "_model_module": "@jupyter-widgets/controls",
            "_model_module_version": "1.5.0",
            "_model_name": "HTMLModel",
            "_view_count": null,
            "_view_module": "@jupyter-widgets/controls",
            "_view_module_version": "1.5.0",
            "_view_name": "HTMLView",
            "description": "",
            "description_tooltip": null,
            "layout": "IPY_MODEL_30c0e26666db452493bde1bb58202a98",
            "placeholder": "​",
            "style": "IPY_MODEL_0deb1f02e16243f1a6e70e0dfc07676a",
            "value": " 1.63G/1.63G [00:44&lt;00:00, 40.5MB/s]"
          }
        },
        "eff808a76f2f4d27bd5aea6404ec640a": {
          "model_module": "@jupyter-widgets/base",
          "model_name": "LayoutModel",
          "model_module_version": "1.2.0",
          "state": {
            "_model_module": "@jupyter-widgets/base",
            "_model_module_version": "1.2.0",
            "_model_name": "LayoutModel",
            "_view_count": null,
            "_view_module": "@jupyter-widgets/base",
            "_view_module_version": "1.2.0",
            "_view_name": "LayoutView",
            "align_content": null,
            "align_items": null,
            "align_self": null,
            "border": null,
            "bottom": null,
            "display": null,
            "flex": null,
            "flex_flow": null,
            "grid_area": null,
            "grid_auto_columns": null,
            "grid_auto_flow": null,
            "grid_auto_rows": null,
            "grid_column": null,
            "grid_gap": null,
            "grid_row": null,
            "grid_template_areas": null,
            "grid_template_columns": null,
            "grid_template_rows": null,
            "height": null,
            "justify_content": null,
            "justify_items": null,
            "left": null,
            "margin": null,
            "max_height": null,
            "max_width": null,
            "min_height": null,
            "min_width": null,
            "object_fit": null,
            "object_position": null,
            "order": null,
            "overflow": null,
            "overflow_x": null,
            "overflow_y": null,
            "padding": null,
            "right": null,
            "top": null,
            "visibility": null,
            "width": null
          }
        },
        "fe6c6893fc614194b0c15420eef84534": {
          "model_module": "@jupyter-widgets/base",
          "model_name": "LayoutModel",
          "model_module_version": "1.2.0",
          "state": {
            "_model_module": "@jupyter-widgets/base",
            "_model_module_version": "1.2.0",
            "_model_name": "LayoutModel",
            "_view_count": null,
            "_view_module": "@jupyter-widgets/base",
            "_view_module_version": "1.2.0",
            "_view_name": "LayoutView",
            "align_content": null,
            "align_items": null,
            "align_self": null,
            "border": null,
            "bottom": null,
            "display": null,
            "flex": null,
            "flex_flow": null,
            "grid_area": null,
            "grid_auto_columns": null,
            "grid_auto_flow": null,
            "grid_auto_rows": null,
            "grid_column": null,
            "grid_gap": null,
            "grid_row": null,
            "grid_template_areas": null,
            "grid_template_columns": null,
            "grid_template_rows": null,
            "height": null,
            "justify_content": null,
            "justify_items": null,
            "left": null,
            "margin": null,
            "max_height": null,
            "max_width": null,
            "min_height": null,
            "min_width": null,
            "object_fit": null,
            "object_position": null,
            "order": null,
            "overflow": null,
            "overflow_x": null,
            "overflow_y": null,
            "padding": null,
            "right": null,
            "top": null,
            "visibility": null,
            "width": null
          }
        },
        "f0fc6f87b73f44d1aa4ac620d865f7dd": {
          "model_module": "@jupyter-widgets/controls",
          "model_name": "DescriptionStyleModel",
          "model_module_version": "1.5.0",
          "state": {
            "_model_module": "@jupyter-widgets/controls",
            "_model_module_version": "1.5.0",
            "_model_name": "DescriptionStyleModel",
            "_view_count": null,
            "_view_module": "@jupyter-widgets/base",
            "_view_module_version": "1.2.0",
            "_view_name": "StyleView",
            "description_width": ""
          }
        },
        "cc1f43f184a04c2d85107ed9403447c5": {
          "model_module": "@jupyter-widgets/base",
          "model_name": "LayoutModel",
          "model_module_version": "1.2.0",
          "state": {
            "_model_module": "@jupyter-widgets/base",
            "_model_module_version": "1.2.0",
            "_model_name": "LayoutModel",
            "_view_count": null,
            "_view_module": "@jupyter-widgets/base",
            "_view_module_version": "1.2.0",
            "_view_name": "LayoutView",
            "align_content": null,
            "align_items": null,
            "align_self": null,
            "border": null,
            "bottom": null,
            "display": null,
            "flex": null,
            "flex_flow": null,
            "grid_area": null,
            "grid_auto_columns": null,
            "grid_auto_flow": null,
            "grid_auto_rows": null,
            "grid_column": null,
            "grid_gap": null,
            "grid_row": null,
            "grid_template_areas": null,
            "grid_template_columns": null,
            "grid_template_rows": null,
            "height": null,
            "justify_content": null,
            "justify_items": null,
            "left": null,
            "margin": null,
            "max_height": null,
            "max_width": null,
            "min_height": null,
            "min_width": null,
            "object_fit": null,
            "object_position": null,
            "order": null,
            "overflow": null,
            "overflow_x": null,
            "overflow_y": null,
            "padding": null,
            "right": null,
            "top": null,
            "visibility": null,
            "width": null
          }
        },
        "4b51c00e12634564b3fc274907e5fc16": {
          "model_module": "@jupyter-widgets/controls",
          "model_name": "ProgressStyleModel",
          "model_module_version": "1.5.0",
          "state": {
            "_model_module": "@jupyter-widgets/controls",
            "_model_module_version": "1.5.0",
            "_model_name": "ProgressStyleModel",
            "_view_count": null,
            "_view_module": "@jupyter-widgets/base",
            "_view_module_version": "1.2.0",
            "_view_name": "StyleView",
            "bar_color": null,
            "description_width": ""
          }
        },
        "30c0e26666db452493bde1bb58202a98": {
          "model_module": "@jupyter-widgets/base",
          "model_name": "LayoutModel",
          "model_module_version": "1.2.0",
          "state": {
            "_model_module": "@jupyter-widgets/base",
            "_model_module_version": "1.2.0",
            "_model_name": "LayoutModel",
            "_view_count": null,
            "_view_module": "@jupyter-widgets/base",
            "_view_module_version": "1.2.0",
            "_view_name": "LayoutView",
            "align_content": null,
            "align_items": null,
            "align_self": null,
            "border": null,
            "bottom": null,
            "display": null,
            "flex": null,
            "flex_flow": null,
            "grid_area": null,
            "grid_auto_columns": null,
            "grid_auto_flow": null,
            "grid_auto_rows": null,
            "grid_column": null,
            "grid_gap": null,
            "grid_row": null,
            "grid_template_areas": null,
            "grid_template_columns": null,
            "grid_template_rows": null,
            "height": null,
            "justify_content": null,
            "justify_items": null,
            "left": null,
            "margin": null,
            "max_height": null,
            "max_width": null,
            "min_height": null,
            "min_width": null,
            "object_fit": null,
            "object_position": null,
            "order": null,
            "overflow": null,
            "overflow_x": null,
            "overflow_y": null,
            "padding": null,
            "right": null,
            "top": null,
            "visibility": null,
            "width": null
          }
        },
        "0deb1f02e16243f1a6e70e0dfc07676a": {
          "model_module": "@jupyter-widgets/controls",
          "model_name": "DescriptionStyleModel",
          "model_module_version": "1.5.0",
          "state": {
            "_model_module": "@jupyter-widgets/controls",
            "_model_module_version": "1.5.0",
            "_model_name": "DescriptionStyleModel",
            "_view_count": null,
            "_view_module": "@jupyter-widgets/base",
            "_view_module_version": "1.2.0",
            "_view_name": "StyleView",
            "description_width": ""
          }
        },
        "f9fa392542bc4631b3ec1d1f8d3e4cbe": {
          "model_module": "@jupyter-widgets/controls",
          "model_name": "HBoxModel",
          "model_module_version": "1.5.0",
          "state": {
            "_dom_classes": [],
            "_model_module": "@jupyter-widgets/controls",
            "_model_module_version": "1.5.0",
            "_model_name": "HBoxModel",
            "_view_count": null,
            "_view_module": "@jupyter-widgets/controls",
            "_view_module_version": "1.5.0",
            "_view_name": "HBoxView",
            "box_style": "",
            "children": [
              "IPY_MODEL_a800850a4fa74e11aff0491448eaaafb",
              "IPY_MODEL_474d6173d7c648b381fd4aa623e26cfc",
              "IPY_MODEL_1e6a7c50b0854fa084429d44c2af6d0c"
            ],
            "layout": "IPY_MODEL_391127497fb44b819c35daac929a7890"
          }
        },
        "a800850a4fa74e11aff0491448eaaafb": {
          "model_module": "@jupyter-widgets/controls",
          "model_name": "HTMLModel",
          "model_module_version": "1.5.0",
          "state": {
            "_dom_classes": [],
            "_model_module": "@jupyter-widgets/controls",
            "_model_module_version": "1.5.0",
            "_model_name": "HTMLModel",
            "_view_count": null,
            "_view_module": "@jupyter-widgets/controls",
            "_view_module_version": "1.5.0",
            "_view_name": "HTMLView",
            "description": "",
            "description_tooltip": null,
            "layout": "IPY_MODEL_e3aa91967a0346fa9cb9ddd4f15c6174",
            "placeholder": "​",
            "style": "IPY_MODEL_62b79ee93bc14a4e8e5da5df21fb8e5b",
            "value": "README.md: 100%"
          }
        },
        "474d6173d7c648b381fd4aa623e26cfc": {
          "model_module": "@jupyter-widgets/controls",
          "model_name": "FloatProgressModel",
          "model_module_version": "1.5.0",
          "state": {
            "_dom_classes": [],
            "_model_module": "@jupyter-widgets/controls",
            "_model_module_version": "1.5.0",
            "_model_name": "FloatProgressModel",
            "_view_count": null,
            "_view_module": "@jupyter-widgets/controls",
            "_view_module_version": "1.5.0",
            "_view_name": "ProgressView",
            "bar_style": "success",
            "description": "",
            "description_tooltip": null,
            "layout": "IPY_MODEL_5499836a37ee496cb204bee0a55d0b55",
            "max": 5174,
            "min": 0,
            "orientation": "horizontal",
            "style": "IPY_MODEL_25a04dc8d51748569c0fd06f938169a3",
            "value": 5174
          }
        },
        "1e6a7c50b0854fa084429d44c2af6d0c": {
          "model_module": "@jupyter-widgets/controls",
          "model_name": "HTMLModel",
          "model_module_version": "1.5.0",
          "state": {
            "_dom_classes": [],
            "_model_module": "@jupyter-widgets/controls",
            "_model_module_version": "1.5.0",
            "_model_name": "HTMLModel",
            "_view_count": null,
            "_view_module": "@jupyter-widgets/controls",
            "_view_module_version": "1.5.0",
            "_view_name": "HTMLView",
            "description": "",
            "description_tooltip": null,
            "layout": "IPY_MODEL_0460fcb239fe4d88be3df55545df7008",
            "placeholder": "​",
            "style": "IPY_MODEL_de2216fa268b435094278ec3d4dcf579",
            "value": " 5.17k/5.17k [00:00&lt;00:00, 149kB/s]"
          }
        },
        "391127497fb44b819c35daac929a7890": {
          "model_module": "@jupyter-widgets/base",
          "model_name": "LayoutModel",
          "model_module_version": "1.2.0",
          "state": {
            "_model_module": "@jupyter-widgets/base",
            "_model_module_version": "1.2.0",
            "_model_name": "LayoutModel",
            "_view_count": null,
            "_view_module": "@jupyter-widgets/base",
            "_view_module_version": "1.2.0",
            "_view_name": "LayoutView",
            "align_content": null,
            "align_items": null,
            "align_self": null,
            "border": null,
            "bottom": null,
            "display": null,
            "flex": null,
            "flex_flow": null,
            "grid_area": null,
            "grid_auto_columns": null,
            "grid_auto_flow": null,
            "grid_auto_rows": null,
            "grid_column": null,
            "grid_gap": null,
            "grid_row": null,
            "grid_template_areas": null,
            "grid_template_columns": null,
            "grid_template_rows": null,
            "height": null,
            "justify_content": null,
            "justify_items": null,
            "left": null,
            "margin": null,
            "max_height": null,
            "max_width": null,
            "min_height": null,
            "min_width": null,
            "object_fit": null,
            "object_position": null,
            "order": null,
            "overflow": null,
            "overflow_x": null,
            "overflow_y": null,
            "padding": null,
            "right": null,
            "top": null,
            "visibility": null,
            "width": null
          }
        },
        "e3aa91967a0346fa9cb9ddd4f15c6174": {
          "model_module": "@jupyter-widgets/base",
          "model_name": "LayoutModel",
          "model_module_version": "1.2.0",
          "state": {
            "_model_module": "@jupyter-widgets/base",
            "_model_module_version": "1.2.0",
            "_model_name": "LayoutModel",
            "_view_count": null,
            "_view_module": "@jupyter-widgets/base",
            "_view_module_version": "1.2.0",
            "_view_name": "LayoutView",
            "align_content": null,
            "align_items": null,
            "align_self": null,
            "border": null,
            "bottom": null,
            "display": null,
            "flex": null,
            "flex_flow": null,
            "grid_area": null,
            "grid_auto_columns": null,
            "grid_auto_flow": null,
            "grid_auto_rows": null,
            "grid_column": null,
            "grid_gap": null,
            "grid_row": null,
            "grid_template_areas": null,
            "grid_template_columns": null,
            "grid_template_rows": null,
            "height": null,
            "justify_content": null,
            "justify_items": null,
            "left": null,
            "margin": null,
            "max_height": null,
            "max_width": null,
            "min_height": null,
            "min_width": null,
            "object_fit": null,
            "object_position": null,
            "order": null,
            "overflow": null,
            "overflow_x": null,
            "overflow_y": null,
            "padding": null,
            "right": null,
            "top": null,
            "visibility": null,
            "width": null
          }
        },
        "62b79ee93bc14a4e8e5da5df21fb8e5b": {
          "model_module": "@jupyter-widgets/controls",
          "model_name": "DescriptionStyleModel",
          "model_module_version": "1.5.0",
          "state": {
            "_model_module": "@jupyter-widgets/controls",
            "_model_module_version": "1.5.0",
            "_model_name": "DescriptionStyleModel",
            "_view_count": null,
            "_view_module": "@jupyter-widgets/base",
            "_view_module_version": "1.2.0",
            "_view_name": "StyleView",
            "description_width": ""
          }
        },
        "5499836a37ee496cb204bee0a55d0b55": {
          "model_module": "@jupyter-widgets/base",
          "model_name": "LayoutModel",
          "model_module_version": "1.2.0",
          "state": {
            "_model_module": "@jupyter-widgets/base",
            "_model_module_version": "1.2.0",
            "_model_name": "LayoutModel",
            "_view_count": null,
            "_view_module": "@jupyter-widgets/base",
            "_view_module_version": "1.2.0",
            "_view_name": "LayoutView",
            "align_content": null,
            "align_items": null,
            "align_self": null,
            "border": null,
            "bottom": null,
            "display": null,
            "flex": null,
            "flex_flow": null,
            "grid_area": null,
            "grid_auto_columns": null,
            "grid_auto_flow": null,
            "grid_auto_rows": null,
            "grid_column": null,
            "grid_gap": null,
            "grid_row": null,
            "grid_template_areas": null,
            "grid_template_columns": null,
            "grid_template_rows": null,
            "height": null,
            "justify_content": null,
            "justify_items": null,
            "left": null,
            "margin": null,
            "max_height": null,
            "max_width": null,
            "min_height": null,
            "min_width": null,
            "object_fit": null,
            "object_position": null,
            "order": null,
            "overflow": null,
            "overflow_x": null,
            "overflow_y": null,
            "padding": null,
            "right": null,
            "top": null,
            "visibility": null,
            "width": null
          }
        },
        "25a04dc8d51748569c0fd06f938169a3": {
          "model_module": "@jupyter-widgets/controls",
          "model_name": "ProgressStyleModel",
          "model_module_version": "1.5.0",
          "state": {
            "_model_module": "@jupyter-widgets/controls",
            "_model_module_version": "1.5.0",
            "_model_name": "ProgressStyleModel",
            "_view_count": null,
            "_view_module": "@jupyter-widgets/base",
            "_view_module_version": "1.2.0",
            "_view_name": "StyleView",
            "bar_color": null,
            "description_width": ""
          }
        },
        "0460fcb239fe4d88be3df55545df7008": {
          "model_module": "@jupyter-widgets/base",
          "model_name": "LayoutModel",
          "model_module_version": "1.2.0",
          "state": {
            "_model_module": "@jupyter-widgets/base",
            "_model_module_version": "1.2.0",
            "_model_name": "LayoutModel",
            "_view_count": null,
            "_view_module": "@jupyter-widgets/base",
            "_view_module_version": "1.2.0",
            "_view_name": "LayoutView",
            "align_content": null,
            "align_items": null,
            "align_self": null,
            "border": null,
            "bottom": null,
            "display": null,
            "flex": null,
            "flex_flow": null,
            "grid_area": null,
            "grid_auto_columns": null,
            "grid_auto_flow": null,
            "grid_auto_rows": null,
            "grid_column": null,
            "grid_gap": null,
            "grid_row": null,
            "grid_template_areas": null,
            "grid_template_columns": null,
            "grid_template_rows": null,
            "height": null,
            "justify_content": null,
            "justify_items": null,
            "left": null,
            "margin": null,
            "max_height": null,
            "max_width": null,
            "min_height": null,
            "min_width": null,
            "object_fit": null,
            "object_position": null,
            "order": null,
            "overflow": null,
            "overflow_x": null,
            "overflow_y": null,
            "padding": null,
            "right": null,
            "top": null,
            "visibility": null,
            "width": null
          }
        },
        "de2216fa268b435094278ec3d4dcf579": {
          "model_module": "@jupyter-widgets/controls",
          "model_name": "DescriptionStyleModel",
          "model_module_version": "1.5.0",
          "state": {
            "_model_module": "@jupyter-widgets/controls",
            "_model_module_version": "1.5.0",
            "_model_name": "DescriptionStyleModel",
            "_view_count": null,
            "_view_module": "@jupyter-widgets/base",
            "_view_module_version": "1.2.0",
            "_view_name": "StyleView",
            "description_width": ""
          }
        }
      }
    },
    "accelerator": "TPU"
  },
  "nbformat": 4,
  "nbformat_minor": 0
}